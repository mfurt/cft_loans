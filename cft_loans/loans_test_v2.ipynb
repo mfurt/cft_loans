{
 "cells": [
  {
   "cell_type": "markdown",
   "id": "68b41499",
   "metadata": {},
   "source": [
    "# Описание"
   ]
  },
  {
   "cell_type": "markdown",
   "id": "23f73aff",
   "metadata": {},
   "source": [
    "Есть достаточно большой дата-сет, многолетний, по займам. \n",
    "\n",
    "Вам нужно предсказать бинарный таргет.\n",
    "\n",
    " \n",
    "\n",
    "Оценка модели будет делаться по метрике Gini:\n",
    "\n",
    "Gini = 2 * AUC - 1 где AUC - это ROC AUC.\n",
    "\n",
    "Для построения модели, предоставляется обучающий набор клиентов X_train.csv с информацией о заемщиках. Целевая переменная находится в файле y_train.csv (1 = \"невозврат\")\n",
    "\n",
    "Необходимо для каждого клиента из тестовой выборки test.csv предсказать loan_status, который равен 1, если займ не возвращен и 0, если заемщик вернул займ.\n",
    "\n",
    "Результат должен быть представлен в виде упакованного в zip CSV-файла с названием answer.csv и с колонками index и loan_status (где проставлена вероятность значения 1):"
   ]
  },
  {
   "attachments": {
    "image.png": {
     "image/png": "[encoded data removed]"
    }
   },
   "cell_type": "markdown",
   "id": "0dea375b",
   "metadata": {},
   "source": [
    "![image.png](attachment:image.png)"
   ]
  },
  {
   "cell_type": "code",
   "execution_count": 1,
   "id": "84f7a541",
   "metadata": {},
   "outputs": [],
   "source": [
    "import pandas as pd\n",
    "import numpy as np\n",
    "import matplotlib.pyplot as plt\n",
    "from sklearn.model_selection import train_test_split\n",
    "import warnings\n",
    "from sklearn.preprocessing import OrdinalEncoder, StandardScaler\n",
    "from sklearn.ensemble import RandomForestClassifier\n",
    "from sklearn.metrics import roc_auc_score\n",
    "from catboost import CatBoostClassifier\n",
    "from lightgbm import LGBMClassifier\n",
    "from xgboost import XGBClassifier\n",
    "from sklearn.model_selection import RandomizedSearchCV, GridSearchCV\n",
    "warnings.filterwarnings('ignore')"
   ]
  },
  {
   "cell_type": "code",
   "execution_count": 2,
   "id": "9fd78928",
   "metadata": {},
   "outputs": [],
   "source": [
    "try:\n",
    "    X_train = pd.read_csv('data/X_train.csv', index_col=0)\n",
    "    X_test = pd.read_csv('data/X_test.csv', index_col=0)\n",
    "    y_train = pd.read_csv('data/y_train.csv', index_col=0)\n",
    "except:\n",
    "    X_train = pd.read_csv('X_train.csv', index_col=0)\n",
    "    X_test = pd.read_csv('X_test.csv', index_col=0)\n",
    "    y_train = pd.read_csv('y_train.csv', index_col=0)\n",
    "    \n",
    "pd.set_option('display.max_columns', None)"
   ]
  },
  {
   "cell_type": "markdown",
   "id": "b37c9fd9",
   "metadata": {},
   "source": [
    "# Предобработка данных"
   ]
  },
  {
   "cell_type": "code",
   "execution_count": 3,
   "id": "a387530b",
   "metadata": {},
   "outputs": [
    {
     "data": {
      "text/html": [
       "<div>\n",
       "<style scoped>\n",
       "    .dataframe tbody tr th:only-of-type {\n",
       "        vertical-align: middle;\n",
       "    }\n",
       "\n",
       "    .dataframe tbody tr th {\n",
       "        vertical-align: top;\n",
       "    }\n",
       "\n",
       "    .dataframe thead th {\n",
       "        text-align: right;\n",
       "    }\n",
       "</style>\n",
       "<table border=\"1\" class=\"dataframe\">\n",
       "  <thead>\n",
       "    <tr style=\"text-align: right;\">\n",
       "      <th></th>\n",
       "      <th>acc_now_delinq</th>\n",
       "      <th>addr_state</th>\n",
       "      <th>annual_inc</th>\n",
       "      <th>chargeoff_within_12_mths</th>\n",
       "      <th>collections_12_mths_ex_med</th>\n",
       "      <th>delinq_2yrs</th>\n",
       "      <th>dti</th>\n",
       "      <th>earliest_cr_line</th>\n",
       "      <th>emp_length</th>\n",
       "      <th>fico_range_high</th>\n",
       "      <th>fico_range_low</th>\n",
       "      <th>funded_amnt</th>\n",
       "      <th>home_ownership</th>\n",
       "      <th>inq_last_12m</th>\n",
       "      <th>installment</th>\n",
       "      <th>int_rate</th>\n",
       "      <th>issue_d</th>\n",
       "      <th>loan_amnt</th>\n",
       "      <th>mort_acc</th>\n",
       "      <th>mths_since_last_delinq</th>\n",
       "      <th>mths_since_recent_bc_dlq</th>\n",
       "      <th>mths_since_recent_inq</th>\n",
       "      <th>num_accts_ever_120_pd</th>\n",
       "      <th>num_actv_bc_tl</th>\n",
       "      <th>num_rev_accts</th>\n",
       "      <th>num_sats</th>\n",
       "      <th>num_tl_120dpd_2m</th>\n",
       "      <th>num_tl_30dpd</th>\n",
       "      <th>num_tl_90g_dpd_24m</th>\n",
       "      <th>num_tl_op_past_12m</th>\n",
       "      <th>open_acc</th>\n",
       "      <th>open_il_24m</th>\n",
       "      <th>open_rv_24m</th>\n",
       "      <th>percent_bc_gt_75</th>\n",
       "      <th>pub_rec</th>\n",
       "      <th>pub_rec_bankruptcies</th>\n",
       "      <th>purpose</th>\n",
       "      <th>revol_util</th>\n",
       "      <th>tax_liens</th>\n",
       "      <th>term</th>\n",
       "      <th>title</th>\n",
       "      <th>total_acc</th>\n",
       "      <th>verification_status</th>\n",
       "      <th>zip_code</th>\n",
       "    </tr>\n",
       "    <tr>\n",
       "      <th>index</th>\n",
       "      <th></th>\n",
       "      <th></th>\n",
       "      <th></th>\n",
       "      <th></th>\n",
       "      <th></th>\n",
       "      <th></th>\n",
       "      <th></th>\n",
       "      <th></th>\n",
       "      <th></th>\n",
       "      <th></th>\n",
       "      <th></th>\n",
       "      <th></th>\n",
       "      <th></th>\n",
       "      <th></th>\n",
       "      <th></th>\n",
       "      <th></th>\n",
       "      <th></th>\n",
       "      <th></th>\n",
       "      <th></th>\n",
       "      <th></th>\n",
       "      <th></th>\n",
       "      <th></th>\n",
       "      <th></th>\n",
       "      <th></th>\n",
       "      <th></th>\n",
       "      <th></th>\n",
       "      <th></th>\n",
       "      <th></th>\n",
       "      <th></th>\n",
       "      <th></th>\n",
       "      <th></th>\n",
       "      <th></th>\n",
       "      <th></th>\n",
       "      <th></th>\n",
       "      <th></th>\n",
       "      <th></th>\n",
       "      <th></th>\n",
       "      <th></th>\n",
       "      <th></th>\n",
       "      <th></th>\n",
       "      <th></th>\n",
       "      <th></th>\n",
       "      <th></th>\n",
       "      <th></th>\n",
       "    </tr>\n",
       "  </thead>\n",
       "  <tbody>\n",
       "    <tr>\n",
       "      <th>0</th>\n",
       "      <td>0.0</td>\n",
       "      <td>UT</td>\n",
       "      <td>80000.0</td>\n",
       "      <td>0.0</td>\n",
       "      <td>0.0</td>\n",
       "      <td>0.0</td>\n",
       "      <td>30.49</td>\n",
       "      <td>Oct-1996</td>\n",
       "      <td>4 years</td>\n",
       "      <td>689.0</td>\n",
       "      <td>685.0</td>\n",
       "      <td>16000.0</td>\n",
       "      <td>RENT</td>\n",
       "      <td>1.0</td>\n",
       "      <td>539.03</td>\n",
       "      <td>12.99%</td>\n",
       "      <td>Apr-2016</td>\n",
       "      <td>16000.0</td>\n",
       "      <td>5.0</td>\n",
       "      <td>50.0</td>\n",
       "      <td>65.0</td>\n",
       "      <td>6.0</td>\n",
       "      <td>3.0</td>\n",
       "      <td>4.0</td>\n",
       "      <td>17.0</td>\n",
       "      <td>14.0</td>\n",
       "      <td>0.0</td>\n",
       "      <td>0.0</td>\n",
       "      <td>0.0</td>\n",
       "      <td>3.0</td>\n",
       "      <td>14.0</td>\n",
       "      <td>2.0</td>\n",
       "      <td>3.0</td>\n",
       "      <td>100.0</td>\n",
       "      <td>1.0</td>\n",
       "      <td>1.0</td>\n",
       "      <td>credit_card</td>\n",
       "      <td>56.1%</td>\n",
       "      <td>0.0</td>\n",
       "      <td>36 months</td>\n",
       "      <td>Credit card refinancing</td>\n",
       "      <td>26.0</td>\n",
       "      <td>Source Verified</td>\n",
       "      <td>847xx</td>\n",
       "    </tr>\n",
       "    <tr>\n",
       "      <th>1</th>\n",
       "      <td>0.0</td>\n",
       "      <td>CA</td>\n",
       "      <td>82000.0</td>\n",
       "      <td>0.0</td>\n",
       "      <td>0.0</td>\n",
       "      <td>0.0</td>\n",
       "      <td>7.00</td>\n",
       "      <td>Mar-1993</td>\n",
       "      <td>10+ years</td>\n",
       "      <td>689.0</td>\n",
       "      <td>685.0</td>\n",
       "      <td>6600.0</td>\n",
       "      <td>MORTGAGE</td>\n",
       "      <td>0.0</td>\n",
       "      <td>214.27</td>\n",
       "      <td>10.42%</td>\n",
       "      <td>Sep-2017</td>\n",
       "      <td>6600.0</td>\n",
       "      <td>2.0</td>\n",
       "      <td>NaN</td>\n",
       "      <td>NaN</td>\n",
       "      <td>NaN</td>\n",
       "      <td>0.0</td>\n",
       "      <td>3.0</td>\n",
       "      <td>8.0</td>\n",
       "      <td>5.0</td>\n",
       "      <td>0.0</td>\n",
       "      <td>0.0</td>\n",
       "      <td>0.0</td>\n",
       "      <td>0.0</td>\n",
       "      <td>5.0</td>\n",
       "      <td>0.0</td>\n",
       "      <td>1.0</td>\n",
       "      <td>100.0</td>\n",
       "      <td>1.0</td>\n",
       "      <td>1.0</td>\n",
       "      <td>credit_card</td>\n",
       "      <td>88.3%</td>\n",
       "      <td>0.0</td>\n",
       "      <td>36 months</td>\n",
       "      <td>Credit card refinancing</td>\n",
       "      <td>11.0</td>\n",
       "      <td>Not Verified</td>\n",
       "      <td>900xx</td>\n",
       "    </tr>\n",
       "    <tr>\n",
       "      <th>2</th>\n",
       "      <td>0.0</td>\n",
       "      <td>NV</td>\n",
       "      <td>46080.0</td>\n",
       "      <td>0.0</td>\n",
       "      <td>0.0</td>\n",
       "      <td>1.0</td>\n",
       "      <td>17.32</td>\n",
       "      <td>Nov-2000</td>\n",
       "      <td>3 years</td>\n",
       "      <td>674.0</td>\n",
       "      <td>670.0</td>\n",
       "      <td>10000.0</td>\n",
       "      <td>MORTGAGE</td>\n",
       "      <td>0.0</td>\n",
       "      <td>317.96</td>\n",
       "      <td>8.99%</td>\n",
       "      <td>Aug-2016</td>\n",
       "      <td>10000.0</td>\n",
       "      <td>3.0</td>\n",
       "      <td>10.0</td>\n",
       "      <td>NaN</td>\n",
       "      <td>13.0</td>\n",
       "      <td>0.0</td>\n",
       "      <td>1.0</td>\n",
       "      <td>23.0</td>\n",
       "      <td>7.0</td>\n",
       "      <td>0.0</td>\n",
       "      <td>0.0</td>\n",
       "      <td>0.0</td>\n",
       "      <td>0.0</td>\n",
       "      <td>7.0</td>\n",
       "      <td>0.0</td>\n",
       "      <td>3.0</td>\n",
       "      <td>0.0</td>\n",
       "      <td>0.0</td>\n",
       "      <td>0.0</td>\n",
       "      <td>credit_card</td>\n",
       "      <td>18.1%</td>\n",
       "      <td>0.0</td>\n",
       "      <td>36 months</td>\n",
       "      <td>Credit card refinancing</td>\n",
       "      <td>31.0</td>\n",
       "      <td>Source Verified</td>\n",
       "      <td>895xx</td>\n",
       "    </tr>\n",
       "    <tr>\n",
       "      <th>3</th>\n",
       "      <td>0.0</td>\n",
       "      <td>AZ</td>\n",
       "      <td>30000.0</td>\n",
       "      <td>0.0</td>\n",
       "      <td>0.0</td>\n",
       "      <td>0.0</td>\n",
       "      <td>7.80</td>\n",
       "      <td>Jan-2010</td>\n",
       "      <td>&lt; 1 year</td>\n",
       "      <td>694.0</td>\n",
       "      <td>690.0</td>\n",
       "      <td>3000.0</td>\n",
       "      <td>OWN</td>\n",
       "      <td>NaN</td>\n",
       "      <td>98.98</td>\n",
       "      <td>11.53%</td>\n",
       "      <td>Aug-2015</td>\n",
       "      <td>3000.0</td>\n",
       "      <td>0.0</td>\n",
       "      <td>NaN</td>\n",
       "      <td>NaN</td>\n",
       "      <td>16.0</td>\n",
       "      <td>0.0</td>\n",
       "      <td>3.0</td>\n",
       "      <td>11.0</td>\n",
       "      <td>19.0</td>\n",
       "      <td>0.0</td>\n",
       "      <td>0.0</td>\n",
       "      <td>0.0</td>\n",
       "      <td>4.0</td>\n",
       "      <td>19.0</td>\n",
       "      <td>NaN</td>\n",
       "      <td>NaN</td>\n",
       "      <td>0.0</td>\n",
       "      <td>0.0</td>\n",
       "      <td>0.0</td>\n",
       "      <td>car</td>\n",
       "      <td>33.4%</td>\n",
       "      <td>0.0</td>\n",
       "      <td>36 months</td>\n",
       "      <td>Car financing</td>\n",
       "      <td>24.0</td>\n",
       "      <td>Source Verified</td>\n",
       "      <td>853xx</td>\n",
       "    </tr>\n",
       "    <tr>\n",
       "      <th>4</th>\n",
       "      <td>0.0</td>\n",
       "      <td>OH</td>\n",
       "      <td>70000.0</td>\n",
       "      <td>0.0</td>\n",
       "      <td>0.0</td>\n",
       "      <td>0.0</td>\n",
       "      <td>13.36</td>\n",
       "      <td>Jan-2002</td>\n",
       "      <td>&lt; 1 year</td>\n",
       "      <td>674.0</td>\n",
       "      <td>670.0</td>\n",
       "      <td>20000.0</td>\n",
       "      <td>RENT</td>\n",
       "      <td>0.0</td>\n",
       "      <td>602.37</td>\n",
       "      <td>26.30%</td>\n",
       "      <td>Sep-2017</td>\n",
       "      <td>20000.0</td>\n",
       "      <td>0.0</td>\n",
       "      <td>24.0</td>\n",
       "      <td>NaN</td>\n",
       "      <td>15.0</td>\n",
       "      <td>0.0</td>\n",
       "      <td>1.0</td>\n",
       "      <td>3.0</td>\n",
       "      <td>4.0</td>\n",
       "      <td>0.0</td>\n",
       "      <td>0.0</td>\n",
       "      <td>0.0</td>\n",
       "      <td>0.0</td>\n",
       "      <td>4.0</td>\n",
       "      <td>3.0</td>\n",
       "      <td>1.0</td>\n",
       "      <td>100.0</td>\n",
       "      <td>0.0</td>\n",
       "      <td>0.0</td>\n",
       "      <td>other</td>\n",
       "      <td>88.6%</td>\n",
       "      <td>0.0</td>\n",
       "      <td>60 months</td>\n",
       "      <td>Other</td>\n",
       "      <td>16.0</td>\n",
       "      <td>Not Verified</td>\n",
       "      <td>453xx</td>\n",
       "    </tr>\n",
       "  </tbody>\n",
       "</table>\n",
       "</div>"
      ],
      "text/plain": [
       "       acc_now_delinq addr_state  annual_inc  chargeoff_within_12_mths  \\\n",
       "index                                                                    \n",
       "0                 0.0         UT     80000.0                       0.0   \n",
       "1                 0.0         CA     82000.0                       0.0   \n",
       "2                 0.0         NV     46080.0                       0.0   \n",
       "3                 0.0         AZ     30000.0                       0.0   \n",
       "4                 0.0         OH     70000.0                       0.0   \n",
       "\n",
       "       collections_12_mths_ex_med  delinq_2yrs    dti earliest_cr_line  \\\n",
       "index                                                                    \n",
       "0                             0.0          0.0  30.49         Oct-1996   \n",
       "1                             0.0          0.0   7.00         Mar-1993   \n",
       "2                             0.0          1.0  17.32         Nov-2000   \n",
       "3                             0.0          0.0   7.80         Jan-2010   \n",
       "4                             0.0          0.0  13.36         Jan-2002   \n",
       "\n",
       "      emp_length  fico_range_high  fico_range_low  funded_amnt home_ownership  \\\n",
       "index                                                                           \n",
       "0        4 years            689.0           685.0      16000.0           RENT   \n",
       "1      10+ years            689.0           685.0       6600.0       MORTGAGE   \n",
       "2        3 years            674.0           670.0      10000.0       MORTGAGE   \n",
       "3       < 1 year            694.0           690.0       3000.0            OWN   \n",
       "4       < 1 year            674.0           670.0      20000.0           RENT   \n",
       "\n",
       "       inq_last_12m  installment int_rate   issue_d  loan_amnt  mort_acc  \\\n",
       "index                                                                      \n",
       "0               1.0       539.03   12.99%  Apr-2016    16000.0       5.0   \n",
       "1               0.0       214.27   10.42%  Sep-2017     6600.0       2.0   \n",
       "2               0.0       317.96    8.99%  Aug-2016    10000.0       3.0   \n",
       "3               NaN        98.98   11.53%  Aug-2015     3000.0       0.0   \n",
       "4               0.0       602.37   26.30%  Sep-2017    20000.0       0.0   \n",
       "\n",
       "       mths_since_last_delinq  mths_since_recent_bc_dlq  \\\n",
       "index                                                     \n",
       "0                        50.0                      65.0   \n",
       "1                         NaN                       NaN   \n",
       "2                        10.0                       NaN   \n",
       "3                         NaN                       NaN   \n",
       "4                        24.0                       NaN   \n",
       "\n",
       "       mths_since_recent_inq  num_accts_ever_120_pd  num_actv_bc_tl  \\\n",
       "index                                                                 \n",
       "0                        6.0                    3.0             4.0   \n",
       "1                        NaN                    0.0             3.0   \n",
       "2                       13.0                    0.0             1.0   \n",
       "3                       16.0                    0.0             3.0   \n",
       "4                       15.0                    0.0             1.0   \n",
       "\n",
       "       num_rev_accts  num_sats  num_tl_120dpd_2m  num_tl_30dpd  \\\n",
       "index                                                            \n",
       "0               17.0      14.0               0.0           0.0   \n",
       "1                8.0       5.0               0.0           0.0   \n",
       "2               23.0       7.0               0.0           0.0   \n",
       "3               11.0      19.0               0.0           0.0   \n",
       "4                3.0       4.0               0.0           0.0   \n",
       "\n",
       "       num_tl_90g_dpd_24m  num_tl_op_past_12m  open_acc  open_il_24m  \\\n",
       "index                                                                  \n",
       "0                     0.0                 3.0      14.0          2.0   \n",
       "1                     0.0                 0.0       5.0          0.0   \n",
       "2                     0.0                 0.0       7.0          0.0   \n",
       "3                     0.0                 4.0      19.0          NaN   \n",
       "4                     0.0                 0.0       4.0          3.0   \n",
       "\n",
       "       open_rv_24m  percent_bc_gt_75  pub_rec  pub_rec_bankruptcies  \\\n",
       "index                                                                 \n",
       "0              3.0             100.0      1.0                   1.0   \n",
       "1              1.0             100.0      1.0                   1.0   \n",
       "2              3.0               0.0      0.0                   0.0   \n",
       "3              NaN               0.0      0.0                   0.0   \n",
       "4              1.0             100.0      0.0                   0.0   \n",
       "\n",
       "           purpose revol_util  tax_liens        term                    title  \\\n",
       "index                                                                           \n",
       "0      credit_card      56.1%        0.0   36 months  Credit card refinancing   \n",
       "1      credit_card      88.3%        0.0   36 months  Credit card refinancing   \n",
       "2      credit_card      18.1%        0.0   36 months  Credit card refinancing   \n",
       "3              car      33.4%        0.0   36 months            Car financing   \n",
       "4            other      88.6%        0.0   60 months                    Other   \n",
       "\n",
       "       total_acc verification_status zip_code  \n",
       "index                                          \n",
       "0           26.0     Source Verified    847xx  \n",
       "1           11.0        Not Verified    900xx  \n",
       "2           31.0     Source Verified    895xx  \n",
       "3           24.0     Source Verified    853xx  \n",
       "4           16.0        Not Verified    453xx  "
      ]
     },
     "execution_count": 3,
     "metadata": {},
     "output_type": "execute_result"
    }
   ],
   "source": [
    "X_train.head()"
   ]
  },
  {
   "cell_type": "markdown",
   "id": "89c2d400",
   "metadata": {},
   "source": [
    "### Рассмотрим каждый признак"
   ]
  },
  {
   "cell_type": "code",
   "execution_count": 4,
   "id": "f1af388e",
   "metadata": {},
   "outputs": [],
   "source": [
    "def feat_info(df, feature):\n",
    "    print('-'*100)\n",
    "    print(f'{feature.upper()}\\n')\n",
    "    print(f'Первые пять строк:\\n{df[feature].head()}')\n",
    "    print('-'*100)\n",
    "    print(f'Описательная статистика:\\n{df[feature].describe()}')\n",
    "    print('-'*100)\n",
    "    print(f'Количество уникальных значений:\\n{df[feature].value_counts()}')\n",
    "    print('-'*100)\n",
    "    print(f'Количество пропусков:\\n{df[feature].isna().sum()}')\n",
    "    print('-'*100)\n",
    "    try:\n",
    "        df[feature].hist()\n",
    "        plt.show()\n",
    "    except:\n",
    "        print('Не удалось построить график')\n",
    "    print('-'*100)\n",
    "    print('~'*100)"
   ]
  },
  {
   "cell_type": "code",
   "execution_count": 5,
   "id": "6f4de251",
   "metadata": {},
   "outputs": [],
   "source": [
    "# множества для разбивки признаков\n",
    "drop_features = set()\n",
    "categorical_features = set()\n",
    "numeric_features = set()"
   ]
  },
  {
   "cell_type": "markdown",
   "id": "7cb72d74",
   "metadata": {},
   "source": [
    "**acc_now_delinq**"
   ]
  },
  {
   "cell_type": "code",
   "execution_count": 6,
   "id": "bf8c84e0",
   "metadata": {},
   "outputs": [
    {
     "name": "stdout",
     "output_type": "stream",
     "text": [
      "----------------------------------------------------------------------------------------------------\n",
      "ACC_NOW_DELINQ\n",
      "\n",
      "Первые пять строк:\n",
      "index\n",
      "0    0.0\n",
      "1    0.0\n",
      "2    0.0\n",
      "3    0.0\n",
      "4    0.0\n",
      "Name: acc_now_delinq, dtype: float64\n",
      "----------------------------------------------------------------------------------------------------\n",
      "Описательная статистика:\n",
      "count    1.199861e+06\n",
      "mean     4.625536e-03\n",
      "std      7.284156e-02\n",
      "min      0.000000e+00\n",
      "25%      0.000000e+00\n",
      "50%      0.000000e+00\n",
      "75%      0.000000e+00\n",
      "max      6.000000e+00\n",
      "Name: acc_now_delinq, dtype: float64\n",
      "----------------------------------------------------------------------------------------------------\n",
      "Количество уникальных значений:\n",
      "0.0    1194659\n",
      "1.0       4910\n",
      "2.0        248\n",
      "3.0         36\n",
      "4.0          5\n",
      "5.0          2\n",
      "6.0          1\n",
      "Name: acc_now_delinq, dtype: int64\n",
      "----------------------------------------------------------------------------------------------------\n",
      "Количество пропусков:\n",
      "0\n",
      "----------------------------------------------------------------------------------------------------\n"
     ]
    },
    {
     "data": {
      "image/png": "[encoded data removed]",
      "text/plain": [
       "<Figure size 432x288 with 1 Axes>"
      ]
     },
     "metadata": {
      "needs_background": "light"
     },
     "output_type": "display_data"
    },
    {
     "name": "stdout",
     "output_type": "stream",
     "text": [
      "----------------------------------------------------------------------------------------------------\n",
      "~~~~~~~~~~~~~~~~~~~~~~~~~~~~~~~~~~~~~~~~~~~~~~~~~~~~~~~~~~~~~~~~~~~~~~~~~~~~~~~~~~~~~~~~~~~~~~~~~~~~\n"
     ]
    }
   ],
   "source": [
    "# acc_now_delinq - количество просрочек\n",
    "feat_info(X_train, 'acc_now_delinq') "
   ]
  },
  {
   "cell_type": "code",
   "execution_count": 7,
   "id": "1ada9029",
   "metadata": {},
   "outputs": [],
   "source": [
    "# Кто имеет больше 1 просрочки не имееют особого веса для обучения и это количественный признак\n",
    "# X_train = X_train[X_train['acc_now_delinq'] < 2]\n",
    "numeric_features.add('acc_now_delinq')"
   ]
  },
  {
   "cell_type": "markdown",
   "id": "2890d723",
   "metadata": {},
   "source": [
    "**addr_state**"
   ]
  },
  {
   "cell_type": "code",
   "execution_count": 8,
   "id": "91b3d96f",
   "metadata": {},
   "outputs": [
    {
     "name": "stdout",
     "output_type": "stream",
     "text": [
      "----------------------------------------------------------------------------------------------------\n",
      "ADDR_STATE\n",
      "\n",
      "Первые пять строк:\n",
      "index\n",
      "0    UT\n",
      "1    CA\n",
      "2    NV\n",
      "3    AZ\n",
      "4    OH\n",
      "Name: addr_state, dtype: object\n",
      "----------------------------------------------------------------------------------------------------\n",
      "Описательная статистика:\n",
      "count     1199861\n",
      "unique         51\n",
      "top            CA\n",
      "freq       171589\n",
      "Name: addr_state, dtype: object\n",
      "----------------------------------------------------------------------------------------------------\n",
      "Количество уникальных значений:\n",
      "CA    171589\n",
      "TX     98740\n",
      "NY     98339\n",
      "FL     86422\n",
      "IL     46874\n",
      "NJ     43768\n",
      "PA     40457\n",
      "OH     39434\n",
      "GA     39418\n",
      "NC     33717\n",
      "VA     33538\n",
      "MI     31504\n",
      "AZ     29034\n",
      "MD     28110\n",
      "MA     27462\n",
      "CO     25938\n",
      "WA     25460\n",
      "MN     21260\n",
      "IN     19442\n",
      "MO     18851\n",
      "TN     18550\n",
      "CT     18171\n",
      "NV     17928\n",
      "WI     15744\n",
      "AL     14844\n",
      "SC     14547\n",
      "OR     14369\n",
      "LA     13453\n",
      "KY     11454\n",
      "OK     10847\n",
      "KS      9809\n",
      "AR      8856\n",
      "UT      8590\n",
      "NM      6385\n",
      "MS      6267\n",
      "HI      5884\n",
      "NH      5754\n",
      "RI      5327\n",
      "WV      4209\n",
      "NE      3696\n",
      "DE      3371\n",
      "MT      3329\n",
      "DC      3046\n",
      "AK      2841\n",
      "WY      2539\n",
      "VT      2505\n",
      "SD      2443\n",
      "ME      2200\n",
      "ID      1927\n",
      "ND      1616\n",
      "IA         3\n",
      "Name: addr_state, dtype: int64\n",
      "----------------------------------------------------------------------------------------------------\n",
      "Количество пропусков:\n",
      "0\n",
      "----------------------------------------------------------------------------------------------------\n"
     ]
    },
    {
     "data": {
      "image/png": "[encoded data removed]",
      "text/plain": [
       "<Figure size 432x288 with 1 Axes>"
      ]
     },
     "metadata": {
      "needs_background": "light"
     },
     "output_type": "display_data"
    },
    {
     "name": "stdout",
     "output_type": "stream",
     "text": [
      "----------------------------------------------------------------------------------------------------\n",
      "~~~~~~~~~~~~~~~~~~~~~~~~~~~~~~~~~~~~~~~~~~~~~~~~~~~~~~~~~~~~~~~~~~~~~~~~~~~~~~~~~~~~~~~~~~~~~~~~~~~~\n"
     ]
    }
   ],
   "source": [
    "# addr_state - штат\n",
    "feat_info(X_train, 'addr_state') "
   ]
  },
  {
   "cell_type": "code",
   "execution_count": 9,
   "id": "6c7837e3",
   "metadata": {},
   "outputs": [],
   "source": [
    "# Штат не даст нам веса в обучении, его можно удалить\n",
    "drop_features.add('addr_state')"
   ]
  },
  {
   "cell_type": "markdown",
   "id": "79191307",
   "metadata": {},
   "source": [
    "**annual_inc**"
   ]
  },
  {
   "cell_type": "code",
   "execution_count": 10,
   "id": "af225f45",
   "metadata": {},
   "outputs": [
    {
     "name": "stdout",
     "output_type": "stream",
     "text": [
      "----------------------------------------------------------------------------------------------------\n",
      "ANNUAL_INC\n",
      "\n",
      "Первые пять строк:\n",
      "index\n",
      "0    80000.0\n",
      "1    82000.0\n",
      "2    46080.0\n",
      "3    30000.0\n",
      "4    70000.0\n",
      "Name: annual_inc, dtype: float64\n",
      "----------------------------------------------------------------------------------------------------\n",
      "Описательная статистика:\n",
      "count    1.199861e+06\n",
      "mean     7.811051e+04\n",
      "std      1.363514e+05\n",
      "min      2.300000e+03\n",
      "25%      4.700000e+04\n",
      "50%      6.500000e+04\n",
      "75%      9.300000e+04\n",
      "max      1.100000e+08\n",
      "Name: annual_inc, dtype: float64\n",
      "----------------------------------------------------------------------------------------------------\n",
      "Количество уникальных значений:\n",
      "60000.00    46288\n",
      "50000.00    40569\n",
      "65000.00    34534\n",
      "70000.00    33127\n",
      "80000.00    31595\n",
      "            ...  \n",
      "88226.00        1\n",
      "67626.00        1\n",
      "43196.00        1\n",
      "53912.00        1\n",
      "34450.89        1\n",
      "Name: annual_inc, Length: 59051, dtype: int64\n",
      "----------------------------------------------------------------------------------------------------\n",
      "Количество пропусков:\n",
      "0\n",
      "----------------------------------------------------------------------------------------------------\n"
     ]
    },
    {
     "data": {
      "image/png": "[encoded data removed]",
      "text/plain": [
       "<Figure size 432x288 with 1 Axes>"
      ]
     },
     "metadata": {
      "needs_background": "light"
     },
     "output_type": "display_data"
    },
    {
     "name": "stdout",
     "output_type": "stream",
     "text": [
      "----------------------------------------------------------------------------------------------------\n",
      "~~~~~~~~~~~~~~~~~~~~~~~~~~~~~~~~~~~~~~~~~~~~~~~~~~~~~~~~~~~~~~~~~~~~~~~~~~~~~~~~~~~~~~~~~~~~~~~~~~~~\n"
     ]
    }
   ],
   "source": [
    "feat_info(X_train, 'annual_inc') "
   ]
  },
  {
   "cell_type": "code",
   "execution_count": 11,
   "id": "f3294a64",
   "metadata": {},
   "outputs": [],
   "source": [
    "# прибыль никуда не денется, количественный признак\n",
    "numeric_features.add('annual_inc')"
   ]
  },
  {
   "cell_type": "markdown",
   "id": "599c5c88",
   "metadata": {},
   "source": [
    "**chargeoff_within_12_mths**"
   ]
  },
  {
   "cell_type": "code",
   "execution_count": 12,
   "id": "20f7edbe",
   "metadata": {},
   "outputs": [
    {
     "name": "stdout",
     "output_type": "stream",
     "text": [
      "----------------------------------------------------------------------------------------------------\n",
      "CHARGEOFF_WITHIN_12_MTHS\n",
      "\n",
      "Первые пять строк:\n",
      "index\n",
      "0    0.0\n",
      "1    0.0\n",
      "2    0.0\n",
      "3    0.0\n",
      "4    0.0\n",
      "Name: chargeoff_within_12_mths, dtype: float64\n",
      "----------------------------------------------------------------------------------------------------\n",
      "Описательная статистика:\n",
      "count    1.199824e+06\n",
      "mean     8.901306e-03\n",
      "std      1.081550e-01\n",
      "min      0.000000e+00\n",
      "25%      0.000000e+00\n",
      "50%      0.000000e+00\n",
      "75%      0.000000e+00\n",
      "max      1.000000e+01\n",
      "Name: chargeoff_within_12_mths, dtype: float64\n",
      "----------------------------------------------------------------------------------------------------\n",
      "Количество уникальных значений:\n",
      "0.0     1190259\n",
      "1.0        8769\n",
      "2.0         619\n",
      "3.0         109\n",
      "4.0          35\n",
      "5.0          12\n",
      "6.0          10\n",
      "7.0           6\n",
      "9.0           2\n",
      "8.0           2\n",
      "10.0          1\n",
      "Name: chargeoff_within_12_mths, dtype: int64\n",
      "----------------------------------------------------------------------------------------------------\n",
      "Количество пропусков:\n",
      "37\n",
      "----------------------------------------------------------------------------------------------------\n"
     ]
    },
    {
     "data": {
      "image/png": "[encoded data removed]",
      "text/plain": [
       "<Figure size 432x288 with 1 Axes>"
      ]
     },
     "metadata": {
      "needs_background": "light"
     },
     "output_type": "display_data"
    },
    {
     "name": "stdout",
     "output_type": "stream",
     "text": [
      "----------------------------------------------------------------------------------------------------\n",
      "~~~~~~~~~~~~~~~~~~~~~~~~~~~~~~~~~~~~~~~~~~~~~~~~~~~~~~~~~~~~~~~~~~~~~~~~~~~~~~~~~~~~~~~~~~~~~~~~~~~~\n"
     ]
    }
   ],
   "source": [
    "feat_info(X_train, 'chargeoff_within_12_mths') "
   ]
  },
  {
   "cell_type": "code",
   "execution_count": 13,
   "id": "09af153a",
   "metadata": {},
   "outputs": [],
   "source": [
    "# избавимся от выбрасов и удалим пропуски из-за малого количесва\n",
    "# X_train = X_train[X_train['chargeoff_within_12_mths'] < 2]\n",
    "X_train = X_train.dropna(subset=['chargeoff_within_12_mths'])\n",
    "numeric_features.add('chargeoff_within_12_mths')"
   ]
  },
  {
   "cell_type": "markdown",
   "id": "728fdcb9",
   "metadata": {},
   "source": [
    "**collections_12_mths_ex_med**"
   ]
  },
  {
   "cell_type": "code",
   "execution_count": 14,
   "id": "3f781441",
   "metadata": {},
   "outputs": [
    {
     "name": "stdout",
     "output_type": "stream",
     "text": [
      "----------------------------------------------------------------------------------------------------\n",
      "COLLECTIONS_12_MTHS_EX_MED\n",
      "\n",
      "Первые пять строк:\n",
      "index\n",
      "0    0.0\n",
      "1    0.0\n",
      "2    0.0\n",
      "3    0.0\n",
      "4    0.0\n",
      "Name: collections_12_mths_ex_med, dtype: float64\n",
      "----------------------------------------------------------------------------------------------------\n",
      "Описательная статистика:\n",
      "count    1.199824e+06\n",
      "mean     1.810182e-02\n",
      "std      1.507312e-01\n",
      "min      0.000000e+00\n",
      "25%      0.000000e+00\n",
      "50%      0.000000e+00\n",
      "75%      0.000000e+00\n",
      "max      2.000000e+01\n",
      "Name: collections_12_mths_ex_med, dtype: float64\n",
      "----------------------------------------------------------------------------------------------------\n",
      "Количество уникальных значений:\n",
      "0.0     1179983\n",
      "1.0       18394\n",
      "2.0        1210\n",
      "3.0         152\n",
      "4.0          50\n",
      "5.0          17\n",
      "6.0           6\n",
      "7.0           4\n",
      "20.0          2\n",
      "12.0          2\n",
      "9.0           2\n",
      "10.0          1\n",
      "8.0           1\n",
      "Name: collections_12_mths_ex_med, dtype: int64\n",
      "----------------------------------------------------------------------------------------------------\n",
      "Количество пропусков:\n",
      "0\n",
      "----------------------------------------------------------------------------------------------------\n"
     ]
    },
    {
     "data": {
      "image/png": "[encoded data removed]",
      "text/plain": [
       "<Figure size 432x288 with 1 Axes>"
      ]
     },
     "metadata": {
      "needs_background": "light"
     },
     "output_type": "display_data"
    },
    {
     "name": "stdout",
     "output_type": "stream",
     "text": [
      "----------------------------------------------------------------------------------------------------\n",
      "~~~~~~~~~~~~~~~~~~~~~~~~~~~~~~~~~~~~~~~~~~~~~~~~~~~~~~~~~~~~~~~~~~~~~~~~~~~~~~~~~~~~~~~~~~~~~~~~~~~~\n"
     ]
    }
   ],
   "source": [
    "feat_info(X_train, 'collections_12_mths_ex_med') "
   ]
  },
  {
   "cell_type": "code",
   "execution_count": 15,
   "id": "13f99448",
   "metadata": {},
   "outputs": [],
   "source": [
    "# так же уберем выбросы\n",
    "# X_train = X_train[X_train['collections_12_mths_ex_med'] < 2]\n",
    "numeric_features.add('collections_12_mths_ex_med')"
   ]
  },
  {
   "cell_type": "markdown",
   "id": "2bbec9a3",
   "metadata": {},
   "source": [
    "**delinq_2yrs**"
   ]
  },
  {
   "cell_type": "code",
   "execution_count": 16,
   "id": "2fc1e2a6",
   "metadata": {},
   "outputs": [
    {
     "name": "stdout",
     "output_type": "stream",
     "text": [
      "----------------------------------------------------------------------------------------------------\n",
      "DELINQ_2YRS\n",
      "\n",
      "Первые пять строк:\n",
      "index\n",
      "0    0.0\n",
      "1    0.0\n",
      "2    1.0\n",
      "3    0.0\n",
      "4    0.0\n",
      "Name: delinq_2yrs, dtype: float64\n",
      "----------------------------------------------------------------------------------------------------\n",
      "Описательная статистика:\n",
      "count    1.199824e+06\n",
      "mean     3.142319e-01\n",
      "std      8.763800e-01\n",
      "min      0.000000e+00\n",
      "25%      0.000000e+00\n",
      "50%      0.000000e+00\n",
      "75%      0.000000e+00\n",
      "max      4.200000e+01\n",
      "Name: delinq_2yrs, dtype: float64\n",
      "----------------------------------------------------------------------------------------------------\n",
      "Количество уникальных значений:\n",
      "0.0     971455\n",
      "1.0     152036\n",
      "2.0      44045\n",
      "3.0      16219\n",
      "4.0       7126\n",
      "5.0       3617\n",
      "6.0       2102\n",
      "7.0       1171\n",
      "8.0        688\n",
      "9.0        444\n",
      "10.0       288\n",
      "11.0       189\n",
      "12.0       140\n",
      "13.0        86\n",
      "14.0        76\n",
      "15.0        46\n",
      "16.0        23\n",
      "17.0        18\n",
      "18.0        15\n",
      "19.0        14\n",
      "20.0        12\n",
      "21.0         3\n",
      "26.0         2\n",
      "30.0         1\n",
      "27.0         1\n",
      "29.0         1\n",
      "22.0         1\n",
      "42.0         1\n",
      "24.0         1\n",
      "25.0         1\n",
      "28.0         1\n",
      "39.0         1\n",
      "Name: delinq_2yrs, dtype: int64\n",
      "----------------------------------------------------------------------------------------------------\n",
      "Количество пропусков:\n",
      "0\n",
      "----------------------------------------------------------------------------------------------------\n"
     ]
    },
    {
     "data": {
      "image/png": "[encoded data removed]",
      "text/plain": [
       "<Figure size 432x288 with 1 Axes>"
      ]
     },
     "metadata": {
      "needs_background": "light"
     },
     "output_type": "display_data"
    },
    {
     "name": "stdout",
     "output_type": "stream",
     "text": [
      "----------------------------------------------------------------------------------------------------\n",
      "~~~~~~~~~~~~~~~~~~~~~~~~~~~~~~~~~~~~~~~~~~~~~~~~~~~~~~~~~~~~~~~~~~~~~~~~~~~~~~~~~~~~~~~~~~~~~~~~~~~~\n"
     ]
    }
   ],
   "source": [
    "feat_info(X_train, 'delinq_2yrs') "
   ]
  },
  {
   "cell_type": "code",
   "execution_count": 17,
   "id": "e9317eaa",
   "metadata": {},
   "outputs": [],
   "source": [
    "# просрочки немного причешем\n",
    "# X_train = X_train[X_train['delinq_2yrs'] < 8]\n",
    "numeric_features.add('delinq_2yrs')"
   ]
  },
  {
   "cell_type": "markdown",
   "id": "b8424e11",
   "metadata": {},
   "source": [
    "**dti**"
   ]
  },
  {
   "cell_type": "code",
   "execution_count": 18,
   "id": "4dce2112",
   "metadata": {},
   "outputs": [
    {
     "name": "stdout",
     "output_type": "stream",
     "text": [
      "----------------------------------------------------------------------------------------------------\n",
      "DTI\n",
      "\n",
      "Первые пять строк:\n",
      "index\n",
      "0    30.49\n",
      "1     7.00\n",
      "2    17.32\n",
      "3     7.80\n",
      "4    13.36\n",
      "Name: dti, dtype: float64\n",
      "----------------------------------------------------------------------------------------------------\n",
      "Описательная статистика:\n",
      "count    1.199824e+06\n",
      "mean     1.803905e+01\n",
      "std      8.404549e+00\n",
      "min     -1.000000e+00\n",
      "25%      1.174000e+01\n",
      "50%      1.755000e+01\n",
      "75%      2.397000e+01\n",
      "max      4.996000e+01\n",
      "Name: dti, dtype: float64\n",
      "----------------------------------------------------------------------------------------------------\n",
      "Количество уникальных значений:\n",
      "19.20    892\n",
      "16.80    863\n",
      "14.40    839\n",
      "18.00    836\n",
      "15.60    815\n",
      "        ... \n",
      "49.51      1\n",
      "42.51      1\n",
      "45.02      1\n",
      "49.56      1\n",
      "44.41      1\n",
      "Name: dti, Length: 4747, dtype: int64\n",
      "----------------------------------------------------------------------------------------------------\n",
      "Количество пропусков:\n",
      "0\n",
      "----------------------------------------------------------------------------------------------------\n"
     ]
    },
    {
     "data": {
      "image/png": "[encoded data removed]",
      "text/plain": [
       "<Figure size 432x288 with 1 Axes>"
      ]
     },
     "metadata": {
      "needs_background": "light"
     },
     "output_type": "display_data"
    },
    {
     "name": "stdout",
     "output_type": "stream",
     "text": [
      "----------------------------------------------------------------------------------------------------\n",
      "~~~~~~~~~~~~~~~~~~~~~~~~~~~~~~~~~~~~~~~~~~~~~~~~~~~~~~~~~~~~~~~~~~~~~~~~~~~~~~~~~~~~~~~~~~~~~~~~~~~~\n"
     ]
    }
   ],
   "source": [
    "feat_info(X_train, 'dti') "
   ]
  },
  {
   "cell_type": "code",
   "execution_count": 19,
   "id": "82870bda",
   "metadata": {},
   "outputs": [],
   "source": [
    "# отношения они такие, а какая нормаль\n",
    "# X_train = X_train[X_train['dti'] < 39]\n",
    "numeric_features.add('dti')"
   ]
  },
  {
   "cell_type": "markdown",
   "id": "eaddf9b3",
   "metadata": {},
   "source": [
    "**earliest_cr_line**"
   ]
  },
  {
   "cell_type": "code",
   "execution_count": 20,
   "id": "31a54af4",
   "metadata": {},
   "outputs": [
    {
     "name": "stdout",
     "output_type": "stream",
     "text": [
      "----------------------------------------------------------------------------------------------------\n",
      "EARLIEST_CR_LINE\n",
      "\n",
      "Первые пять строк:\n",
      "index\n",
      "0    Oct-1996\n",
      "1    Mar-1993\n",
      "2    Nov-2000\n",
      "3    Jan-2010\n",
      "4    Jan-2002\n",
      "Name: earliest_cr_line, dtype: object\n",
      "----------------------------------------------------------------------------------------------------\n",
      "Описательная статистика:\n",
      "count      1199824\n",
      "unique         748\n",
      "top       Sep-2003\n",
      "freq          8114\n",
      "Name: earliest_cr_line, dtype: object\n",
      "----------------------------------------------------------------------------------------------------\n",
      "Количество уникальных значений:\n",
      "Sep-2003    8114\n",
      "Sep-2004    8056\n",
      "Aug-2001    7923\n",
      "Aug-2002    7826\n",
      "Aug-2003    7741\n",
      "            ... \n",
      "Dec-1950       1\n",
      "Feb-2017       1\n",
      "Nov-1957       1\n",
      "Oct-1957       1\n",
      "Jul-1955       1\n",
      "Name: earliest_cr_line, Length: 748, dtype: int64\n",
      "----------------------------------------------------------------------------------------------------\n",
      "Количество пропусков:\n",
      "0\n",
      "----------------------------------------------------------------------------------------------------\n"
     ]
    },
    {
     "data": {
      "image/png": "[encoded data removed]",
      "text/plain": [
       "<Figure size 432x288 with 1 Axes>"
      ]
     },
     "metadata": {
      "needs_background": "light"
     },
     "output_type": "display_data"
    },
    {
     "name": "stdout",
     "output_type": "stream",
     "text": [
      "----------------------------------------------------------------------------------------------------\n",
      "~~~~~~~~~~~~~~~~~~~~~~~~~~~~~~~~~~~~~~~~~~~~~~~~~~~~~~~~~~~~~~~~~~~~~~~~~~~~~~~~~~~~~~~~~~~~~~~~~~~~\n"
     ]
    }
   ],
   "source": [
    "feat_info(X_train, 'earliest_cr_line') "
   ]
  },
  {
   "cell_type": "code",
   "execution_count": 21,
   "id": "0f7c65fa",
   "metadata": {},
   "outputs": [],
   "source": [
    "# важный признкак, как долго клиент в компании\n",
    "X_train['time_in'] = (pd.Series([pd.to_datetime('2020-09-01') for i in range(X_train.shape[0])]) - \\\n",
    "pd.to_datetime(X_train['earliest_cr_line'])) / np.timedelta64 ( 1 , 'D')"
   ]
  },
  {
   "cell_type": "code",
   "execution_count": 22,
   "id": "dae53825",
   "metadata": {},
   "outputs": [],
   "source": [
    "X_train['time_in'] = X_train['time_in'].fillna(0)\n",
    "drop_features.add('earliest_cr_line')\n",
    "numeric_features.add('time_in')"
   ]
  },
  {
   "cell_type": "markdown",
   "id": "7b4f8d80",
   "metadata": {},
   "source": [
    "**emp_length**"
   ]
  },
  {
   "cell_type": "code",
   "execution_count": 23,
   "id": "feb041be",
   "metadata": {},
   "outputs": [
    {
     "name": "stdout",
     "output_type": "stream",
     "text": [
      "----------------------------------------------------------------------------------------------------\n",
      "EMP_LENGTH\n",
      "\n",
      "Первые пять строк:\n",
      "index\n",
      "0      4 years\n",
      "1    10+ years\n",
      "2      3 years\n",
      "3     < 1 year\n",
      "4     < 1 year\n",
      "Name: emp_length, dtype: object\n",
      "----------------------------------------------------------------------------------------------------\n",
      "Описательная статистика:\n",
      "count       1128077\n",
      "unique           11\n",
      "top       10+ years\n",
      "freq         396909\n",
      "Name: emp_length, dtype: object\n",
      "----------------------------------------------------------------------------------------------------\n",
      "Количество уникальных значений:\n",
      "10+ years    396909\n",
      "2 years      109330\n",
      "3 years       96811\n",
      "< 1 year      94472\n",
      "1 year        79953\n",
      "5 years       75440\n",
      "4 years       72996\n",
      "6 years       55396\n",
      "8 years       51576\n",
      "7 years       51166\n",
      "9 years       44028\n",
      "Name: emp_length, dtype: int64\n",
      "----------------------------------------------------------------------------------------------------\n",
      "Количество пропусков:\n",
      "71747\n",
      "----------------------------------------------------------------------------------------------------\n"
     ]
    },
    {
     "data": {
      "image/png": "[encoded data removed]",
      "text/plain": [
       "<Figure size 432x288 with 1 Axes>"
      ]
     },
     "metadata": {
      "needs_background": "light"
     },
     "output_type": "display_data"
    },
    {
     "name": "stdout",
     "output_type": "stream",
     "text": [
      "----------------------------------------------------------------------------------------------------\n",
      "~~~~~~~~~~~~~~~~~~~~~~~~~~~~~~~~~~~~~~~~~~~~~~~~~~~~~~~~~~~~~~~~~~~~~~~~~~~~~~~~~~~~~~~~~~~~~~~~~~~~\n"
     ]
    }
   ],
   "source": [
    "feat_info(X_train, 'emp_length') "
   ]
  },
  {
   "cell_type": "code",
   "execution_count": 24,
   "id": "c6bfb62b",
   "metadata": {},
   "outputs": [],
   "source": [
    "# заменим пропуски и избавимся от строк\n",
    "X_train['emp_length'] = X_train['emp_length'].fillna('0')\n",
    "X_train['emp_length'] = X_train['emp_length'].str.replace('< 1 year', '0')\n",
    "X_train['emp_length'] = X_train['emp_length'].str.replace('[^0-9]+', '').astype('float')"
   ]
  },
  {
   "cell_type": "code",
   "execution_count": 25,
   "id": "6faeff5e",
   "metadata": {},
   "outputs": [],
   "source": [
    "numeric_features.add('emp_length')"
   ]
  },
  {
   "cell_type": "markdown",
   "id": "c7500390",
   "metadata": {},
   "source": [
    "**fico_range_high**"
   ]
  },
  {
   "cell_type": "code",
   "execution_count": 26,
   "id": "9cb891c6",
   "metadata": {},
   "outputs": [
    {
     "name": "stdout",
     "output_type": "stream",
     "text": [
      "----------------------------------------------------------------------------------------------------\n",
      "FICO_RANGE_HIGH\n",
      "\n",
      "Первые пять строк:\n",
      "index\n",
      "0    689.0\n",
      "1    689.0\n",
      "2    674.0\n",
      "3    694.0\n",
      "4    674.0\n",
      "Name: fico_range_high, dtype: float64\n",
      "----------------------------------------------------------------------------------------------------\n",
      "Описательная статистика:\n",
      "count    1.199824e+06\n",
      "mean     7.011993e+02\n",
      "std      3.234010e+01\n",
      "min      6.640000e+02\n",
      "25%      6.740000e+02\n",
      "50%      6.940000e+02\n",
      "75%      7.190000e+02\n",
      "max      8.500000e+02\n",
      "Name: fico_range_high, dtype: float64\n",
      "----------------------------------------------------------------------------------------------------\n",
      "Количество уникальных значений:\n",
      "664.0    104274\n",
      "674.0    101384\n",
      "669.0    100855\n",
      "679.0     90636\n",
      "684.0     90548\n",
      "689.0     79989\n",
      "694.0     77683\n",
      "699.0     69846\n",
      "704.0     65110\n",
      "709.0     59015\n",
      "714.0     52432\n",
      "719.0     46250\n",
      "724.0     39954\n",
      "729.0     32406\n",
      "734.0     28114\n",
      "739.0     22510\n",
      "744.0     20348\n",
      "749.0     16412\n",
      "754.0     15093\n",
      "759.0     13020\n",
      "764.0     11112\n",
      "769.0     10069\n",
      "774.0      8584\n",
      "779.0      8018\n",
      "784.0      6915\n",
      "789.0      5467\n",
      "794.0      5208\n",
      "799.0      4157\n",
      "804.0      3772\n",
      "809.0      3040\n",
      "814.0      2232\n",
      "819.0      1725\n",
      "824.0      1312\n",
      "829.0       964\n",
      "834.0       634\n",
      "839.0       359\n",
      "844.0       199\n",
      "850.0       178\n",
      "Name: fico_range_high, dtype: int64\n",
      "----------------------------------------------------------------------------------------------------\n",
      "Количество пропусков:\n",
      "0\n",
      "----------------------------------------------------------------------------------------------------\n"
     ]
    },
    {
     "data": {
      "image/png": "[encoded data removed]",
      "text/plain": [
       "<Figure size 432x288 with 1 Axes>"
      ]
     },
     "metadata": {
      "needs_background": "light"
     },
     "output_type": "display_data"
    },
    {
     "name": "stdout",
     "output_type": "stream",
     "text": [
      "----------------------------------------------------------------------------------------------------\n",
      "~~~~~~~~~~~~~~~~~~~~~~~~~~~~~~~~~~~~~~~~~~~~~~~~~~~~~~~~~~~~~~~~~~~~~~~~~~~~~~~~~~~~~~~~~~~~~~~~~~~~\n"
     ]
    }
   ],
   "source": [
    "feat_info(X_train, 'fico_range_high') "
   ]
  },
  {
   "cell_type": "code",
   "execution_count": 27,
   "id": "0e722e3a",
   "metadata": {},
   "outputs": [],
   "source": [
    "numeric_features.add('fico_range_high')"
   ]
  },
  {
   "cell_type": "markdown",
   "id": "ff382611",
   "metadata": {},
   "source": [
    "**fico_range_low**"
   ]
  },
  {
   "cell_type": "code",
   "execution_count": 28,
   "id": "83b2836b",
   "metadata": {},
   "outputs": [
    {
     "name": "stdout",
     "output_type": "stream",
     "text": [
      "----------------------------------------------------------------------------------------------------\n",
      "FICO_RANGE_LOW\n",
      "\n",
      "Первые пять строк:\n",
      "index\n",
      "0    685.0\n",
      "1    685.0\n",
      "2    670.0\n",
      "3    690.0\n",
      "4    670.0\n",
      "Name: fico_range_low, dtype: float64\n",
      "----------------------------------------------------------------------------------------------------\n",
      "Описательная статистика:\n",
      "count    1.199824e+06\n",
      "mean     6.971991e+02\n",
      "std      3.233942e+01\n",
      "min      6.600000e+02\n",
      "25%      6.700000e+02\n",
      "50%      6.900000e+02\n",
      "75%      7.150000e+02\n",
      "max      8.450000e+02\n",
      "Name: fico_range_low, dtype: float64\n",
      "----------------------------------------------------------------------------------------------------\n",
      "Количество уникальных значений:\n",
      "660.0    104274\n",
      "670.0    101384\n",
      "665.0    100855\n",
      "675.0     90636\n",
      "680.0     90548\n",
      "685.0     79989\n",
      "690.0     77683\n",
      "695.0     69846\n",
      "700.0     65110\n",
      "705.0     59015\n",
      "710.0     52432\n",
      "715.0     46250\n",
      "720.0     39954\n",
      "725.0     32406\n",
      "730.0     28114\n",
      "735.0     22510\n",
      "740.0     20348\n",
      "745.0     16412\n",
      "750.0     15093\n",
      "755.0     13020\n",
      "760.0     11112\n",
      "765.0     10069\n",
      "770.0      8584\n",
      "775.0      8018\n",
      "780.0      6915\n",
      "785.0      5467\n",
      "790.0      5208\n",
      "795.0      4157\n",
      "800.0      3772\n",
      "805.0      3040\n",
      "810.0      2232\n",
      "815.0      1725\n",
      "820.0      1312\n",
      "825.0       964\n",
      "830.0       634\n",
      "835.0       359\n",
      "840.0       199\n",
      "845.0       178\n",
      "Name: fico_range_low, dtype: int64\n",
      "----------------------------------------------------------------------------------------------------\n",
      "Количество пропусков:\n",
      "0\n",
      "----------------------------------------------------------------------------------------------------\n"
     ]
    },
    {
     "data": {
      "image/png": "[encoded data removed]",
      "text/plain": [
       "<Figure size 432x288 with 1 Axes>"
      ]
     },
     "metadata": {
      "needs_background": "light"
     },
     "output_type": "display_data"
    },
    {
     "name": "stdout",
     "output_type": "stream",
     "text": [
      "----------------------------------------------------------------------------------------------------\n",
      "~~~~~~~~~~~~~~~~~~~~~~~~~~~~~~~~~~~~~~~~~~~~~~~~~~~~~~~~~~~~~~~~~~~~~~~~~~~~~~~~~~~~~~~~~~~~~~~~~~~~\n"
     ]
    }
   ],
   "source": [
    "feat_info(X_train, 'fico_range_low') "
   ]
  },
  {
   "cell_type": "code",
   "execution_count": 29,
   "id": "16c385bf",
   "metadata": {},
   "outputs": [],
   "source": [
    "numeric_features.add('fico_range_low')"
   ]
  },
  {
   "cell_type": "markdown",
   "id": "54eb33c5",
   "metadata": {},
   "source": [
    "**funded_amnt**"
   ]
  },
  {
   "cell_type": "code",
   "execution_count": 30,
   "id": "4cece648",
   "metadata": {},
   "outputs": [
    {
     "name": "stdout",
     "output_type": "stream",
     "text": [
      "----------------------------------------------------------------------------------------------------\n",
      "FUNDED_AMNT\n",
      "\n",
      "Первые пять строк:\n",
      "index\n",
      "0    16000.0\n",
      "1     6600.0\n",
      "2    10000.0\n",
      "3     3000.0\n",
      "4    20000.0\n",
      "Name: funded_amnt, dtype: float64\n",
      "----------------------------------------------------------------------------------------------------\n",
      "Описательная статистика:\n",
      "count    1.199824e+06\n",
      "mean     1.440491e+04\n",
      "std      8.855210e+03\n",
      "min      5.000000e+02\n",
      "25%      7.675000e+03\n",
      "50%      1.200000e+04\n",
      "75%      2.000000e+04\n",
      "max      4.000000e+04\n",
      "Name: funded_amnt, dtype: float64\n",
      "----------------------------------------------------------------------------------------------------\n",
      "Количество уникальных значений:\n",
      "10000.0    94596\n",
      "12000.0    64097\n",
      "20000.0    63920\n",
      "15000.0    63154\n",
      "5000.0     46020\n",
      "           ...  \n",
      "725.0          1\n",
      "950.0          1\n",
      "38600.0        1\n",
      "39875.0        1\n",
      "36100.0        1\n",
      "Name: funded_amnt, Length: 1562, dtype: int64\n",
      "----------------------------------------------------------------------------------------------------\n",
      "Количество пропусков:\n",
      "0\n",
      "----------------------------------------------------------------------------------------------------\n"
     ]
    },
    {
     "data": {
      "image/png": "[encoded data removed]",
      "text/plain": [
       "<Figure size 432x288 with 1 Axes>"
      ]
     },
     "metadata": {
      "needs_background": "light"
     },
     "output_type": "display_data"
    },
    {
     "name": "stdout",
     "output_type": "stream",
     "text": [
      "----------------------------------------------------------------------------------------------------\n",
      "~~~~~~~~~~~~~~~~~~~~~~~~~~~~~~~~~~~~~~~~~~~~~~~~~~~~~~~~~~~~~~~~~~~~~~~~~~~~~~~~~~~~~~~~~~~~~~~~~~~~\n"
     ]
    }
   ],
   "source": [
    "feat_info(X_train, 'funded_amnt') "
   ]
  },
  {
   "cell_type": "code",
   "execution_count": 31,
   "id": "05a32ba0",
   "metadata": {},
   "outputs": [],
   "source": [
    "numeric_features.add('funded_amnt')"
   ]
  },
  {
   "cell_type": "markdown",
   "id": "b73f5116",
   "metadata": {},
   "source": [
    "**home_ownership**"
   ]
  },
  {
   "cell_type": "code",
   "execution_count": 32,
   "id": "dc163079",
   "metadata": {},
   "outputs": [
    {
     "name": "stdout",
     "output_type": "stream",
     "text": [
      "----------------------------------------------------------------------------------------------------\n",
      "HOME_OWNERSHIP\n",
      "\n",
      "Первые пять строк:\n",
      "index\n",
      "0        RENT\n",
      "1    MORTGAGE\n",
      "2    MORTGAGE\n",
      "3         OWN\n",
      "4        RENT\n",
      "Name: home_ownership, dtype: object\n",
      "----------------------------------------------------------------------------------------------------\n",
      "Описательная статистика:\n",
      "count      1199824\n",
      "unique           6\n",
      "top       MORTGAGE\n",
      "freq        584268\n",
      "Name: home_ownership, dtype: object\n",
      "----------------------------------------------------------------------------------------------------\n",
      "Количество уникальных значений:\n",
      "MORTGAGE    584268\n",
      "RENT        481196\n",
      "OWN         133423\n",
      "ANY            817\n",
      "OTHER           93\n",
      "NONE            27\n",
      "Name: home_ownership, dtype: int64\n",
      "----------------------------------------------------------------------------------------------------\n",
      "Количество пропусков:\n",
      "0\n",
      "----------------------------------------------------------------------------------------------------\n"
     ]
    },
    {
     "data": {
      "image/png": "[encoded data removed]",
      "text/plain": [
       "<Figure size 432x288 with 1 Axes>"
      ]
     },
     "metadata": {
      "needs_background": "light"
     },
     "output_type": "display_data"
    },
    {
     "name": "stdout",
     "output_type": "stream",
     "text": [
      "----------------------------------------------------------------------------------------------------\n",
      "~~~~~~~~~~~~~~~~~~~~~~~~~~~~~~~~~~~~~~~~~~~~~~~~~~~~~~~~~~~~~~~~~~~~~~~~~~~~~~~~~~~~~~~~~~~~~~~~~~~~\n"
     ]
    }
   ],
   "source": [
    "feat_info(X_train, 'home_ownership') "
   ]
  },
  {
   "cell_type": "code",
   "execution_count": 33,
   "id": "ea69688e",
   "metadata": {},
   "outputs": [],
   "source": [
    "X_train['home_ownership'] = X_train['home_ownership'].replace(['NONE', 'ANY'], 'OTHER')\n",
    "categorical_features.add('home_ownership')"
   ]
  },
  {
   "cell_type": "markdown",
   "id": "8870dea2",
   "metadata": {},
   "source": [
    "**inq_last_12m**"
   ]
  },
  {
   "cell_type": "code",
   "execution_count": 34,
   "id": "2057c8b7",
   "metadata": {},
   "outputs": [
    {
     "name": "stdout",
     "output_type": "stream",
     "text": [
      "----------------------------------------------------------------------------------------------------\n",
      "INQ_LAST_12M\n",
      "\n",
      "Первые пять строк:\n",
      "index\n",
      "0    1.0\n",
      "1    0.0\n",
      "2    0.0\n",
      "3    NaN\n",
      "4    0.0\n",
      "Name: inq_last_12m, dtype: float64\n",
      "----------------------------------------------------------------------------------------------------\n",
      "Описательная статистика:\n",
      "count    632646.000000\n",
      "mean          2.180682\n",
      "std           2.458328\n",
      "min           0.000000\n",
      "25%           0.000000\n",
      "50%           2.000000\n",
      "75%           3.000000\n",
      "max          49.000000\n",
      "Name: inq_last_12m, dtype: float64\n",
      "----------------------------------------------------------------------------------------------------\n",
      "Количество уникальных значений:\n",
      "0.0     164035\n",
      "1.0     151569\n",
      "2.0     111063\n",
      "3.0      73983\n",
      "4.0      47242\n",
      "5.0      29800\n",
      "6.0      18779\n",
      "7.0      12015\n",
      "8.0       7904\n",
      "9.0       5154\n",
      "10.0      3278\n",
      "11.0      2316\n",
      "12.0      1596\n",
      "13.0      1069\n",
      "14.0       765\n",
      "15.0       549\n",
      "16.0       412\n",
      "17.0       271\n",
      "18.0       216\n",
      "19.0       166\n",
      "20.0       102\n",
      "21.0        78\n",
      "22.0        63\n",
      "23.0        41\n",
      "25.0        29\n",
      "24.0        29\n",
      "26.0        27\n",
      "27.0        22\n",
      "30.0        12\n",
      "29.0        11\n",
      "28.0        10\n",
      "31.0         8\n",
      "32.0         6\n",
      "34.0         5\n",
      "33.0         5\n",
      "39.0         3\n",
      "35.0         2\n",
      "42.0         2\n",
      "40.0         2\n",
      "36.0         2\n",
      "46.0         1\n",
      "38.0         1\n",
      "41.0         1\n",
      "45.0         1\n",
      "49.0         1\n",
      "Name: inq_last_12m, dtype: int64\n",
      "----------------------------------------------------------------------------------------------------\n",
      "Количество пропусков:\n",
      "567178\n",
      "----------------------------------------------------------------------------------------------------\n"
     ]
    },
    {
     "data": {
      "image/png": "[encoded data removed]",
      "text/plain": [
       "<Figure size 432x288 with 1 Axes>"
      ]
     },
     "metadata": {
      "needs_background": "light"
     },
     "output_type": "display_data"
    },
    {
     "name": "stdout",
     "output_type": "stream",
     "text": [
      "----------------------------------------------------------------------------------------------------\n",
      "~~~~~~~~~~~~~~~~~~~~~~~~~~~~~~~~~~~~~~~~~~~~~~~~~~~~~~~~~~~~~~~~~~~~~~~~~~~~~~~~~~~~~~~~~~~~~~~~~~~~\n"
     ]
    }
   ],
   "source": [
    "feat_info(X_train, 'inq_last_12m') "
   ]
  },
  {
   "cell_type": "code",
   "execution_count": 35,
   "id": "9e020693",
   "metadata": {},
   "outputs": [],
   "source": [
    "# X_train = X_train[X_train['inq_last_12m'] < 14]\n",
    "X_train['inq_last_12m'] = X_train['inq_last_12m'].fillna(0)\n",
    "numeric_features.add('inq_last_12m')"
   ]
  },
  {
   "cell_type": "markdown",
   "id": "36561458",
   "metadata": {},
   "source": [
    "**installment**"
   ]
  },
  {
   "cell_type": "code",
   "execution_count": 36,
   "id": "210b8aa9",
   "metadata": {},
   "outputs": [
    {
     "name": "stdout",
     "output_type": "stream",
     "text": [
      "----------------------------------------------------------------------------------------------------\n",
      "INSTALLMENT\n",
      "\n",
      "Первые пять строк:\n",
      "index\n",
      "0    539.03\n",
      "1    214.27\n",
      "2    317.96\n",
      "3     98.98\n",
      "4    602.37\n",
      "Name: installment, dtype: float64\n",
      "----------------------------------------------------------------------------------------------------\n",
      "Описательная статистика:\n",
      "count    1.199824e+06\n",
      "mean     4.353275e+02\n",
      "std      2.635840e+02\n",
      "min      4.930000e+00\n",
      "25%      2.446600e+02\n",
      "50%      3.703700e+02\n",
      "75%      5.767600e+02\n",
      "max      1.719830e+03\n",
      "Name: installment, dtype: float64\n",
      "----------------------------------------------------------------------------------------------------\n",
      "Количество уникальных значений:\n",
      "301.15    2530\n",
      "327.34    2246\n",
      "332.10    2235\n",
      "361.38    2028\n",
      "451.73    1833\n",
      "          ... \n",
      "983.71       1\n",
      "97.59        1\n",
      "481.31       1\n",
      "420.79       1\n",
      "370.58       1\n",
      "Name: installment, Length: 81215, dtype: int64\n",
      "----------------------------------------------------------------------------------------------------\n",
      "Количество пропусков:\n",
      "0\n",
      "----------------------------------------------------------------------------------------------------\n"
     ]
    },
    {
     "data": {
      "image/png": "[encoded data removed]",
      "text/plain": [
       "<Figure size 432x288 with 1 Axes>"
      ]
     },
     "metadata": {
      "needs_background": "light"
     },
     "output_type": "display_data"
    },
    {
     "name": "stdout",
     "output_type": "stream",
     "text": [
      "----------------------------------------------------------------------------------------------------\n",
      "~~~~~~~~~~~~~~~~~~~~~~~~~~~~~~~~~~~~~~~~~~~~~~~~~~~~~~~~~~~~~~~~~~~~~~~~~~~~~~~~~~~~~~~~~~~~~~~~~~~~\n"
     ]
    }
   ],
   "source": [
    "feat_info(X_train, 'installment') "
   ]
  },
  {
   "cell_type": "code",
   "execution_count": 37,
   "id": "29c5d469",
   "metadata": {},
   "outputs": [],
   "source": [
    "numeric_features.add('installment')"
   ]
  },
  {
   "cell_type": "markdown",
   "id": "76c936d2",
   "metadata": {},
   "source": [
    "**int_rate**"
   ]
  },
  {
   "cell_type": "code",
   "execution_count": 38,
   "id": "e190f8df",
   "metadata": {},
   "outputs": [
    {
     "name": "stdout",
     "output_type": "stream",
     "text": [
      "----------------------------------------------------------------------------------------------------\n",
      "INT_RATE\n",
      "\n",
      "Первые пять строк:\n",
      "index\n",
      "0     12.99%\n",
      "1     10.42%\n",
      "2      8.99%\n",
      "3     11.53%\n",
      "4     26.30%\n",
      "Name: int_rate, dtype: object\n",
      "----------------------------------------------------------------------------------------------------\n",
      "Описательная статистика:\n",
      "count     1199824\n",
      "unique        668\n",
      "top        10.99%\n",
      "freq        28586\n",
      "Name: int_rate, dtype: object\n",
      "----------------------------------------------------------------------------------------------------\n",
      "Количество уникальных значений:\n",
      " 10.99%    28586\n",
      " 11.99%    27545\n",
      "  5.32%    27417\n",
      " 13.99%    25416\n",
      " 11.49%    19940\n",
      "           ...  \n",
      " 17.50%        1\n",
      " 15.13%        1\n",
      " 19.16%        1\n",
      " 17.44%        1\n",
      " 15.38%        1\n",
      "Name: int_rate, Length: 668, dtype: int64\n",
      "----------------------------------------------------------------------------------------------------\n",
      "Количество пропусков:\n",
      "0\n",
      "----------------------------------------------------------------------------------------------------\n"
     ]
    },
    {
     "data": {
      "image/png": "[encoded data removed]",
      "text/plain": [
       "<Figure size 432x288 with 1 Axes>"
      ]
     },
     "metadata": {
      "needs_background": "light"
     },
     "output_type": "display_data"
    },
    {
     "name": "stdout",
     "output_type": "stream",
     "text": [
      "----------------------------------------------------------------------------------------------------\n",
      "~~~~~~~~~~~~~~~~~~~~~~~~~~~~~~~~~~~~~~~~~~~~~~~~~~~~~~~~~~~~~~~~~~~~~~~~~~~~~~~~~~~~~~~~~~~~~~~~~~~~\n"
     ]
    }
   ],
   "source": [
    "feat_info(X_train, 'int_rate')"
   ]
  },
  {
   "cell_type": "code",
   "execution_count": 39,
   "id": "486f65e7",
   "metadata": {},
   "outputs": [],
   "source": [
    "X_train['int_rate'] = X_train['int_rate'].str.replace('%', '').astype('float')\n",
    "numeric_features.add('int_rate')"
   ]
  },
  {
   "cell_type": "markdown",
   "id": "065b9406",
   "metadata": {},
   "source": [
    "**issue_d**"
   ]
  },
  {
   "cell_type": "code",
   "execution_count": 40,
   "id": "a2bd4bda",
   "metadata": {},
   "outputs": [
    {
     "name": "stdout",
     "output_type": "stream",
     "text": [
      "----------------------------------------------------------------------------------------------------\n",
      "ISSUE_D\n",
      "\n",
      "Первые пять строк:\n",
      "index\n",
      "0    Apr-2016\n",
      "1    Sep-2017\n",
      "2    Aug-2016\n",
      "3    Aug-2015\n",
      "4    Sep-2017\n",
      "Name: issue_d, dtype: object\n",
      "----------------------------------------------------------------------------------------------------\n",
      "Описательная статистика:\n",
      "count      1199824\n",
      "unique         158\n",
      "top       Mar-2016\n",
      "freq         37886\n",
      "Name: issue_d, dtype: object\n",
      "----------------------------------------------------------------------------------------------------\n",
      "Количество уникальных значений:\n",
      "Mar-2016    37886\n",
      "Oct-2015    30274\n",
      "Jul-2015    29208\n",
      "Dec-2015    27642\n",
      "Oct-2014    26010\n",
      "            ...  \n",
      "Oct-2007       29\n",
      "Nov-2007       26\n",
      "Sep-2008       17\n",
      "Sep-2007       11\n",
      "Aug-2007        6\n",
      "Name: issue_d, Length: 158, dtype: int64\n",
      "----------------------------------------------------------------------------------------------------\n",
      "Количество пропусков:\n",
      "0\n",
      "----------------------------------------------------------------------------------------------------\n"
     ]
    },
    {
     "data": {
      "image/png": "[encoded data removed]",
      "text/plain": [
       "<Figure size 432x288 with 1 Axes>"
      ]
     },
     "metadata": {
      "needs_background": "light"
     },
     "output_type": "display_data"
    },
    {
     "name": "stdout",
     "output_type": "stream",
     "text": [
      "----------------------------------------------------------------------------------------------------\n",
      "~~~~~~~~~~~~~~~~~~~~~~~~~~~~~~~~~~~~~~~~~~~~~~~~~~~~~~~~~~~~~~~~~~~~~~~~~~~~~~~~~~~~~~~~~~~~~~~~~~~~\n"
     ]
    }
   ],
   "source": [
    "feat_info(X_train, 'issue_d') "
   ]
  },
  {
   "cell_type": "code",
   "execution_count": 41,
   "id": "0e8b0229",
   "metadata": {},
   "outputs": [],
   "source": [
    "drop_features.add('issue_d')"
   ]
  },
  {
   "cell_type": "markdown",
   "id": "27734bb7",
   "metadata": {},
   "source": [
    "**loan_amnt**"
   ]
  },
  {
   "cell_type": "code",
   "execution_count": 42,
   "id": "251a9d84",
   "metadata": {},
   "outputs": [
    {
     "name": "stdout",
     "output_type": "stream",
     "text": [
      "----------------------------------------------------------------------------------------------------\n",
      "LOAN_AMNT\n",
      "\n",
      "Первые пять строк:\n",
      "index\n",
      "0    16000.0\n",
      "1     6600.0\n",
      "2    10000.0\n",
      "3     3000.0\n",
      "4    20000.0\n",
      "Name: loan_amnt, dtype: float64\n",
      "----------------------------------------------------------------------------------------------------\n",
      "Описательная статистика:\n",
      "count    1.199824e+06\n",
      "mean     1.441115e+04\n",
      "std      8.858025e+03\n",
      "min      5.000000e+02\n",
      "25%      7.700000e+03\n",
      "50%      1.200000e+04\n",
      "75%      2.000000e+04\n",
      "max      4.000000e+04\n",
      "Name: loan_amnt, dtype: float64\n",
      "----------------------------------------------------------------------------------------------------\n",
      "Количество уникальных значений:\n",
      "10000.0    94654\n",
      "12000.0    64162\n",
      "20000.0    64045\n",
      "15000.0    63232\n",
      "5000.0     46026\n",
      "           ...  \n",
      "39875.0        1\n",
      "38625.0        1\n",
      "38775.0        1\n",
      "38600.0        1\n",
      "36100.0        1\n",
      "Name: loan_amnt, Length: 1562, dtype: int64\n",
      "----------------------------------------------------------------------------------------------------\n",
      "Количество пропусков:\n",
      "0\n",
      "----------------------------------------------------------------------------------------------------\n"
     ]
    },
    {
     "data": {
      "image/png": "[encoded data removed]",
      "text/plain": [
       "<Figure size 432x288 with 1 Axes>"
      ]
     },
     "metadata": {
      "needs_background": "light"
     },
     "output_type": "display_data"
    },
    {
     "name": "stdout",
     "output_type": "stream",
     "text": [
      "----------------------------------------------------------------------------------------------------\n",
      "~~~~~~~~~~~~~~~~~~~~~~~~~~~~~~~~~~~~~~~~~~~~~~~~~~~~~~~~~~~~~~~~~~~~~~~~~~~~~~~~~~~~~~~~~~~~~~~~~~~~\n"
     ]
    }
   ],
   "source": [
    "feat_info(X_train, 'loan_amnt') "
   ]
  },
  {
   "cell_type": "code",
   "execution_count": 43,
   "id": "43894679",
   "metadata": {},
   "outputs": [],
   "source": [
    "numeric_features.add('loan_amnt')"
   ]
  },
  {
   "cell_type": "markdown",
   "id": "c2050a57",
   "metadata": {},
   "source": [
    "**mort_acc**"
   ]
  },
  {
   "cell_type": "code",
   "execution_count": 44,
   "id": "c9a9832c",
   "metadata": {},
   "outputs": [
    {
     "name": "stdout",
     "output_type": "stream",
     "text": [
      "----------------------------------------------------------------------------------------------------\n",
      "MORT_ACC\n",
      "\n",
      "Первые пять строк:\n",
      "index\n",
      "0    5.0\n",
      "1    2.0\n",
      "2    3.0\n",
      "3    0.0\n",
      "4    0.0\n",
      "Name: mort_acc, dtype: float64\n",
      "----------------------------------------------------------------------------------------------------\n",
      "Описательная статистика:\n",
      "count    1.168320e+06\n",
      "mean     1.598304e+00\n",
      "std      1.948998e+00\n",
      "min      0.000000e+00\n",
      "25%      0.000000e+00\n",
      "50%      1.000000e+00\n",
      "75%      3.000000e+00\n",
      "max      6.100000e+01\n",
      "Name: mort_acc, dtype: float64\n",
      "----------------------------------------------------------------------------------------------------\n",
      "Количество уникальных значений:\n",
      "0.0     486698\n",
      "1.0     204887\n",
      "2.0     170009\n",
      "3.0     122486\n",
      "4.0      81246\n",
      "5.0      48355\n",
      "6.0      26732\n",
      "7.0      13676\n",
      "8.0       6739\n",
      "9.0       3450\n",
      "10.0      1772\n",
      "11.0       944\n",
      "12.0       485\n",
      "13.0       268\n",
      "14.0       196\n",
      "15.0       103\n",
      "16.0        73\n",
      "17.0        45\n",
      "18.0        33\n",
      "19.0        24\n",
      "20.0        22\n",
      "24.0        14\n",
      "22.0        14\n",
      "21.0         9\n",
      "23.0         9\n",
      "27.0         6\n",
      "25.0         5\n",
      "34.0         3\n",
      "29.0         3\n",
      "31.0         2\n",
      "30.0         2\n",
      "28.0         2\n",
      "26.0         2\n",
      "45.0         1\n",
      "61.0         1\n",
      "35.0         1\n",
      "36.0         1\n",
      "32.0         1\n",
      "47.0         1\n",
      "Name: mort_acc, dtype: int64\n",
      "----------------------------------------------------------------------------------------------------\n",
      "Количество пропусков:\n",
      "31504\n",
      "----------------------------------------------------------------------------------------------------\n"
     ]
    },
    {
     "data": {
      "image/png": "[encoded data removed]",
      "text/plain": [
       "<Figure size 432x288 with 1 Axes>"
      ]
     },
     "metadata": {
      "needs_background": "light"
     },
     "output_type": "display_data"
    },
    {
     "name": "stdout",
     "output_type": "stream",
     "text": [
      "----------------------------------------------------------------------------------------------------\n",
      "~~~~~~~~~~~~~~~~~~~~~~~~~~~~~~~~~~~~~~~~~~~~~~~~~~~~~~~~~~~~~~~~~~~~~~~~~~~~~~~~~~~~~~~~~~~~~~~~~~~~\n"
     ]
    }
   ],
   "source": [
    "feat_info(X_train, 'mort_acc') "
   ]
  },
  {
   "cell_type": "code",
   "execution_count": 45,
   "id": "b391a510",
   "metadata": {},
   "outputs": [],
   "source": [
    "# X_train = X_train[X_train['mort_acc'] < 10]\n",
    "numeric_features.add('mort_acc')"
   ]
  },
  {
   "cell_type": "markdown",
   "id": "f3ba6f2a",
   "metadata": {},
   "source": [
    "**mths_since_last_delinq**"
   ]
  },
  {
   "cell_type": "code",
   "execution_count": 46,
   "id": "2717dd84",
   "metadata": {},
   "outputs": [
    {
     "name": "stdout",
     "output_type": "stream",
     "text": [
      "----------------------------------------------------------------------------------------------------\n",
      "MTHS_SINCE_LAST_DELINQ\n",
      "\n",
      "Первые пять строк:\n",
      "index\n",
      "0    50.0\n",
      "1     NaN\n",
      "2    10.0\n",
      "3     NaN\n",
      "4    24.0\n",
      "Name: mths_since_last_delinq, dtype: float64\n",
      "----------------------------------------------------------------------------------------------------\n",
      "Описательная статистика:\n",
      "count    592384.000000\n",
      "mean         34.421650\n",
      "std          21.883333\n",
      "min           0.000000\n",
      "25%          16.000000\n",
      "50%          31.000000\n",
      "75%          50.000000\n",
      "max         226.000000\n",
      "Name: mths_since_last_delinq, dtype: float64\n",
      "----------------------------------------------------------------------------------------------------\n",
      "Количество уникальных значений:\n",
      "12.0     11204\n",
      "6.0      11180\n",
      "13.0     11179\n",
      "9.0      10985\n",
      "7.0      10952\n",
      "         ...  \n",
      "127.0        1\n",
      "151.0        1\n",
      "162.0        1\n",
      "226.0        1\n",
      "153.0        1\n",
      "Name: mths_since_last_delinq, Length: 167, dtype: int64\n",
      "----------------------------------------------------------------------------------------------------\n",
      "Количество пропусков:\n",
      "607440\n",
      "----------------------------------------------------------------------------------------------------\n"
     ]
    },
    {
     "data": {
      "image/png": "[encoded data removed]",
      "text/plain": [
       "<Figure size 432x288 with 1 Axes>"
      ]
     },
     "metadata": {
      "needs_background": "light"
     },
     "output_type": "display_data"
    },
    {
     "name": "stdout",
     "output_type": "stream",
     "text": [
      "----------------------------------------------------------------------------------------------------\n",
      "~~~~~~~~~~~~~~~~~~~~~~~~~~~~~~~~~~~~~~~~~~~~~~~~~~~~~~~~~~~~~~~~~~~~~~~~~~~~~~~~~~~~~~~~~~~~~~~~~~~~\n"
     ]
    }
   ],
   "source": [
    "feat_info(X_train, 'mths_since_last_delinq') "
   ]
  },
  {
   "cell_type": "code",
   "execution_count": 47,
   "id": "1bd50b71",
   "metadata": {},
   "outputs": [],
   "source": [
    "# X_train = X_train[X_train['mths_since_last_delinq'] < 100]\n",
    "X_train['mths_since_last_delinq'] = X_train['mths_since_last_delinq'].fillna(0)\n",
    "numeric_features.add('mths_since_last_delinq')"
   ]
  },
  {
   "cell_type": "markdown",
   "id": "58fbaf23",
   "metadata": {},
   "source": [
    "**mths_since_recent_bc_dlq**"
   ]
  },
  {
   "cell_type": "code",
   "execution_count": 48,
   "id": "0f2716cf",
   "metadata": {},
   "outputs": [
    {
     "name": "stdout",
     "output_type": "stream",
     "text": [
      "----------------------------------------------------------------------------------------------------\n",
      "MTHS_SINCE_RECENT_BC_DLQ\n",
      "\n",
      "Первые пять строк:\n",
      "index\n",
      "0    65.0\n",
      "1     NaN\n",
      "2     NaN\n",
      "3     NaN\n",
      "4     NaN\n",
      "Name: mths_since_recent_bc_dlq, dtype: float64\n",
      "----------------------------------------------------------------------------------------------------\n",
      "Описательная статистика:\n",
      "count    282665.000000\n",
      "mean         39.439258\n",
      "std          22.645351\n",
      "min           0.000000\n",
      "25%          21.000000\n",
      "50%          37.000000\n",
      "75%          58.000000\n",
      "max         198.000000\n",
      "Name: mths_since_recent_bc_dlq, dtype: float64\n",
      "----------------------------------------------------------------------------------------------------\n",
      "Количество уникальных значений:\n",
      "25.0     4360\n",
      "26.0     4341\n",
      "28.0     4304\n",
      "19.0     4240\n",
      "29.0     4235\n",
      "         ... \n",
      "157.0       1\n",
      "198.0       1\n",
      "143.0       1\n",
      "151.0       1\n",
      "161.0       1\n",
      "Name: mths_since_recent_bc_dlq, Length: 168, dtype: int64\n",
      "----------------------------------------------------------------------------------------------------\n",
      "Количество пропусков:\n",
      "917159\n",
      "----------------------------------------------------------------------------------------------------\n"
     ]
    },
    {
     "data": {
      "image/png": "[encoded data removed]",
      "text/plain": [
       "<Figure size 432x288 with 1 Axes>"
      ]
     },
     "metadata": {
      "needs_background": "light"
     },
     "output_type": "display_data"
    },
    {
     "name": "stdout",
     "output_type": "stream",
     "text": [
      "----------------------------------------------------------------------------------------------------\n",
      "~~~~~~~~~~~~~~~~~~~~~~~~~~~~~~~~~~~~~~~~~~~~~~~~~~~~~~~~~~~~~~~~~~~~~~~~~~~~~~~~~~~~~~~~~~~~~~~~~~~~\n"
     ]
    }
   ],
   "source": [
    "feat_info(X_train, 'mths_since_recent_bc_dlq') "
   ]
  },
  {
   "cell_type": "code",
   "execution_count": 49,
   "id": "3e644be8",
   "metadata": {},
   "outputs": [],
   "source": [
    "# X_train = X_train[X_train['mths_since_recent_bc_dlq'] < 100]\n",
    "X_train['mths_since_recent_bc_dlq'] = X_train['mths_since_recent_bc_dlq'].fillna(0)\n",
    "numeric_features.add('mths_since_recent_bc_dlq')"
   ]
  },
  {
   "cell_type": "markdown",
   "id": "74089535",
   "metadata": {},
   "source": [
    "**mths_since_recent_inq**"
   ]
  },
  {
   "cell_type": "code",
   "execution_count": 50,
   "id": "34fd717f",
   "metadata": {},
   "outputs": [
    {
     "name": "stdout",
     "output_type": "stream",
     "text": [
      "----------------------------------------------------------------------------------------------------\n",
      "MTHS_SINCE_RECENT_INQ\n",
      "\n",
      "Первые пять строк:\n",
      "index\n",
      "0     6.0\n",
      "1     NaN\n",
      "2    13.0\n",
      "3    16.0\n",
      "4    15.0\n",
      "Name: mths_since_recent_inq, dtype: float64\n",
      "----------------------------------------------------------------------------------------------------\n",
      "Описательная статистика:\n",
      "count    1.050080e+06\n",
      "mean     6.827069e+00\n",
      "std      5.884748e+00\n",
      "min      0.000000e+00\n",
      "25%      2.000000e+00\n",
      "50%      5.000000e+00\n",
      "75%      1.000000e+01\n",
      "max      2.500000e+01\n",
      "Name: mths_since_recent_inq, dtype: float64\n",
      "----------------------------------------------------------------------------------------------------\n",
      "Количество уникальных значений:\n",
      "1.0     118139\n",
      "2.0      94864\n",
      "0.0      93697\n",
      "3.0      86089\n",
      "4.0      78176\n",
      "5.0      69042\n",
      "6.0      62004\n",
      "7.0      58430\n",
      "8.0      51535\n",
      "9.0      45085\n",
      "10.0     39419\n",
      "11.0     35200\n",
      "12.0     31642\n",
      "13.0     28308\n",
      "14.0     25036\n",
      "15.0     21634\n",
      "16.0     19045\n",
      "17.0     17007\n",
      "18.0     15097\n",
      "19.0     13587\n",
      "20.0     12200\n",
      "21.0     11000\n",
      "22.0     10002\n",
      "23.0      9275\n",
      "24.0      4552\n",
      "25.0        15\n",
      "Name: mths_since_recent_inq, dtype: int64\n",
      "----------------------------------------------------------------------------------------------------\n",
      "Количество пропусков:\n",
      "149744\n",
      "----------------------------------------------------------------------------------------------------\n"
     ]
    },
    {
     "data": {
      "image/png": "[encoded data removed]",
      "text/plain": [
       "<Figure size 432x288 with 1 Axes>"
      ]
     },
     "metadata": {
      "needs_background": "light"
     },
     "output_type": "display_data"
    },
    {
     "name": "stdout",
     "output_type": "stream",
     "text": [
      "----------------------------------------------------------------------------------------------------\n",
      "~~~~~~~~~~~~~~~~~~~~~~~~~~~~~~~~~~~~~~~~~~~~~~~~~~~~~~~~~~~~~~~~~~~~~~~~~~~~~~~~~~~~~~~~~~~~~~~~~~~~\n"
     ]
    }
   ],
   "source": [
    "feat_info(X_train, 'mths_since_recent_inq')"
   ]
  },
  {
   "cell_type": "code",
   "execution_count": 51,
   "id": "bfcc93fd",
   "metadata": {},
   "outputs": [],
   "source": [
    "# X_train = X_train[X_train['mths_since_recent_inq'] < 25]\n",
    "X_train['mths_since_recent_inq'] = X_train['mths_since_recent_inq'].fillna(0)\n",
    "numeric_features.add('mths_since_recent_inq')"
   ]
  },
  {
   "cell_type": "markdown",
   "id": "53d21526",
   "metadata": {},
   "source": [
    "**num_accts_ever_120_pd**"
   ]
  },
  {
   "cell_type": "code",
   "execution_count": 52,
   "id": "2b76a93c",
   "metadata": {},
   "outputs": [
    {
     "name": "stdout",
     "output_type": "stream",
     "text": [
      "----------------------------------------------------------------------------------------------------\n",
      "NUM_ACCTS_EVER_120_PD\n",
      "\n",
      "Первые пять строк:\n",
      "index\n",
      "0    3.0\n",
      "1    0.0\n",
      "2    0.0\n",
      "3    0.0\n",
      "4    0.0\n",
      "Name: num_accts_ever_120_pd, dtype: float64\n",
      "----------------------------------------------------------------------------------------------------\n",
      "Описательная статистика:\n",
      "count    1.154852e+06\n",
      "mean     5.125202e-01\n",
      "std      1.354282e+00\n",
      "min      0.000000e+00\n",
      "25%      0.000000e+00\n",
      "50%      0.000000e+00\n",
      "75%      0.000000e+00\n",
      "max      5.100000e+01\n",
      "Name: num_accts_ever_120_pd, dtype: float64\n",
      "----------------------------------------------------------------------------------------------------\n",
      "Количество уникальных значений:\n",
      "0.0     883335\n",
      "1.0     144907\n",
      "2.0      57473\n",
      "3.0      26485\n",
      "4.0      15713\n",
      "5.0       9370\n",
      "6.0       6073\n",
      "7.0       3858\n",
      "8.0       2452\n",
      "9.0       1633\n",
      "10.0      1132\n",
      "11.0       676\n",
      "12.0       526\n",
      "13.0       287\n",
      "14.0       275\n",
      "15.0       155\n",
      "16.0       116\n",
      "17.0        76\n",
      "18.0        61\n",
      "19.0        40\n",
      "20.0        39\n",
      "21.0        29\n",
      "22.0        29\n",
      "23.0        22\n",
      "24.0        17\n",
      "25.0        11\n",
      "26.0        11\n",
      "27.0         7\n",
      "28.0         6\n",
      "29.0         6\n",
      "30.0         5\n",
      "32.0         5\n",
      "35.0         4\n",
      "31.0         4\n",
      "34.0         3\n",
      "36.0         2\n",
      "39.0         2\n",
      "33.0         2\n",
      "37.0         1\n",
      "38.0         1\n",
      "51.0         1\n",
      "42.0         1\n",
      "45.0         1\n",
      "Name: num_accts_ever_120_pd, dtype: int64\n",
      "----------------------------------------------------------------------------------------------------\n",
      "Количество пропусков:\n",
      "44972\n",
      "----------------------------------------------------------------------------------------------------\n"
     ]
    },
    {
     "data": {
      "image/png": "[encoded data removed]",
      "text/plain": [
       "<Figure size 432x288 with 1 Axes>"
      ]
     },
     "metadata": {
      "needs_background": "light"
     },
     "output_type": "display_data"
    },
    {
     "name": "stdout",
     "output_type": "stream",
     "text": [
      "----------------------------------------------------------------------------------------------------\n",
      "~~~~~~~~~~~~~~~~~~~~~~~~~~~~~~~~~~~~~~~~~~~~~~~~~~~~~~~~~~~~~~~~~~~~~~~~~~~~~~~~~~~~~~~~~~~~~~~~~~~~\n"
     ]
    }
   ],
   "source": [
    "feat_info(X_train, 'num_accts_ever_120_pd')"
   ]
  },
  {
   "cell_type": "code",
   "execution_count": 53,
   "id": "99eb7175",
   "metadata": {},
   "outputs": [],
   "source": [
    "# X_train = X_train[X_train['num_accts_ever_120_pd'] < 11]\n",
    "numeric_features.add('num_accts_ever_120_pd')"
   ]
  },
  {
   "cell_type": "markdown",
   "id": "93618eb0",
   "metadata": {},
   "source": [
    "**num_actv_bc_tl**"
   ]
  },
  {
   "cell_type": "code",
   "execution_count": 54,
   "id": "a684fe03",
   "metadata": {},
   "outputs": [
    {
     "name": "stdout",
     "output_type": "stream",
     "text": [
      "----------------------------------------------------------------------------------------------------\n",
      "NUM_ACTV_BC_TL\n",
      "\n",
      "Первые пять строк:\n",
      "index\n",
      "0    4.0\n",
      "1    3.0\n",
      "2    1.0\n",
      "3    3.0\n",
      "4    1.0\n",
      "Name: num_actv_bc_tl, dtype: float64\n",
      "----------------------------------------------------------------------------------------------------\n",
      "Описательная статистика:\n",
      "count    1.154852e+06\n",
      "mean     3.655532e+00\n",
      "std      2.285259e+00\n",
      "min      0.000000e+00\n",
      "25%      2.000000e+00\n",
      "50%      3.000000e+00\n",
      "75%      5.000000e+00\n",
      "max      5.000000e+01\n",
      "Name: num_actv_bc_tl, dtype: float64\n",
      "----------------------------------------------------------------------------------------------------\n",
      "Количество уникальных значений:\n",
      "3.0     245180\n",
      "2.0     235160\n",
      "4.0     190042\n",
      "1.0     134170\n",
      "5.0     127164\n",
      "6.0      79592\n",
      "7.0      47434\n",
      "8.0      28385\n",
      "0.0      25353\n",
      "9.0      16928\n",
      "10.0      9829\n",
      "11.0      6035\n",
      "12.0      3644\n",
      "13.0      2229\n",
      "14.0      1272\n",
      "15.0       874\n",
      "16.0       492\n",
      "17.0       372\n",
      "18.0       237\n",
      "19.0       154\n",
      "20.0        93\n",
      "21.0        67\n",
      "22.0        47\n",
      "23.0        25\n",
      "24.0        24\n",
      "25.0        14\n",
      "26.0        13\n",
      "27.0         5\n",
      "32.0         4\n",
      "30.0         4\n",
      "29.0         3\n",
      "28.0         2\n",
      "33.0         2\n",
      "45.0         1\n",
      "50.0         1\n",
      "46.0         1\n",
      "Name: num_actv_bc_tl, dtype: int64\n",
      "----------------------------------------------------------------------------------------------------\n",
      "Количество пропусков:\n",
      "44972\n",
      "----------------------------------------------------------------------------------------------------\n"
     ]
    },
    {
     "data": {
      "image/png": "[encoded data removed]",
      "text/plain": [
       "<Figure size 432x288 with 1 Axes>"
      ]
     },
     "metadata": {
      "needs_background": "light"
     },
     "output_type": "display_data"
    },
    {
     "name": "stdout",
     "output_type": "stream",
     "text": [
      "----------------------------------------------------------------------------------------------------\n",
      "~~~~~~~~~~~~~~~~~~~~~~~~~~~~~~~~~~~~~~~~~~~~~~~~~~~~~~~~~~~~~~~~~~~~~~~~~~~~~~~~~~~~~~~~~~~~~~~~~~~~\n"
     ]
    }
   ],
   "source": [
    "feat_info(X_train, 'num_actv_bc_tl')"
   ]
  },
  {
   "cell_type": "code",
   "execution_count": 55,
   "id": "27fe5088",
   "metadata": {},
   "outputs": [],
   "source": [
    "# X_train = X_train[X_train['num_actv_bc_tl'] < 15]\n",
    "numeric_features.add('num_actv_bc_tl')"
   ]
  },
  {
   "cell_type": "markdown",
   "id": "63386f4e",
   "metadata": {},
   "source": [
    "**num_rev_accts**"
   ]
  },
  {
   "cell_type": "code",
   "execution_count": 56,
   "id": "a8914264",
   "metadata": {},
   "outputs": [
    {
     "name": "stdout",
     "output_type": "stream",
     "text": [
      "----------------------------------------------------------------------------------------------------\n",
      "NUM_REV_ACCTS\n",
      "\n",
      "Первые пять строк:\n",
      "index\n",
      "0    17.0\n",
      "1     8.0\n",
      "2    23.0\n",
      "3    11.0\n",
      "4     3.0\n",
      "Name: num_rev_accts, dtype: float64\n",
      "----------------------------------------------------------------------------------------------------\n",
      "Описательная статистика:\n",
      "count    1.154851e+06\n",
      "mean     1.432988e+01\n",
      "std      8.117148e+00\n",
      "min      0.000000e+00\n",
      "25%      8.000000e+00\n",
      "50%      1.300000e+01\n",
      "75%      1.800000e+01\n",
      "max      1.280000e+02\n",
      "Name: num_rev_accts, dtype: float64\n",
      "----------------------------------------------------------------------------------------------------\n",
      "Количество уникальных значений:\n",
      "10.0     69015\n",
      "9.0      68212\n",
      "11.0     67623\n",
      "8.0      65706\n",
      "12.0     65225\n",
      "         ...  \n",
      "127.0        1\n",
      "101.0        1\n",
      "104.0        1\n",
      "112.0        1\n",
      "117.0        1\n",
      "Name: num_rev_accts, Length: 111, dtype: int64\n",
      "----------------------------------------------------------------------------------------------------\n",
      "Количество пропусков:\n",
      "44973\n",
      "----------------------------------------------------------------------------------------------------\n"
     ]
    },
    {
     "data": {
      "image/png": "[encoded data removed]",
      "text/plain": [
       "<Figure size 432x288 with 1 Axes>"
      ]
     },
     "metadata": {
      "needs_background": "light"
     },
     "output_type": "display_data"
    },
    {
     "name": "stdout",
     "output_type": "stream",
     "text": [
      "----------------------------------------------------------------------------------------------------\n",
      "~~~~~~~~~~~~~~~~~~~~~~~~~~~~~~~~~~~~~~~~~~~~~~~~~~~~~~~~~~~~~~~~~~~~~~~~~~~~~~~~~~~~~~~~~~~~~~~~~~~~\n"
     ]
    }
   ],
   "source": [
    "feat_info(X_train, 'num_rev_accts')"
   ]
  },
  {
   "cell_type": "code",
   "execution_count": 57,
   "id": "0adb0c69",
   "metadata": {},
   "outputs": [],
   "source": [
    "# X_train = X_train[X_train['num_rev_accts'] < 60]\n",
    "numeric_features.add('num_rev_accts')"
   ]
  },
  {
   "cell_type": "markdown",
   "id": "b0fde3c2",
   "metadata": {},
   "source": [
    "**num_sats**"
   ]
  },
  {
   "cell_type": "code",
   "execution_count": 58,
   "id": "6b4dff87",
   "metadata": {},
   "outputs": [
    {
     "name": "stdout",
     "output_type": "stream",
     "text": [
      "----------------------------------------------------------------------------------------------------\n",
      "NUM_SATS\n",
      "\n",
      "Первые пять строк:\n",
      "index\n",
      "0    14.0\n",
      "1     5.0\n",
      "2     7.0\n",
      "3    19.0\n",
      "4     4.0\n",
      "Name: num_sats, dtype: float64\n",
      "----------------------------------------------------------------------------------------------------\n",
      "Описательная статистика:\n",
      "count    1.162566e+06\n",
      "mean     1.164593e+01\n",
      "std      5.580223e+00\n",
      "min      0.000000e+00\n",
      "25%      8.000000e+00\n",
      "50%      1.100000e+01\n",
      "75%      1.400000e+01\n",
      "max      9.000000e+01\n",
      "Name: num_sats, dtype: float64\n",
      "----------------------------------------------------------------------------------------------------\n",
      "Количество уникальных значений:\n",
      "9.0     101919\n",
      "10.0     98880\n",
      "8.0      98313\n",
      "11.0     91449\n",
      "7.0      88568\n",
      "         ...  \n",
      "77.0         1\n",
      "68.0         1\n",
      "81.0         1\n",
      "78.0         1\n",
      "87.0         1\n",
      "Name: num_sats, Length: 83, dtype: int64\n",
      "----------------------------------------------------------------------------------------------------\n",
      "Количество пропусков:\n",
      "37258\n",
      "----------------------------------------------------------------------------------------------------\n"
     ]
    },
    {
     "data": {
      "image/png": "[encoded data removed]",
      "text/plain": [
       "<Figure size 432x288 with 1 Axes>"
      ]
     },
     "metadata": {
      "needs_background": "light"
     },
     "output_type": "display_data"
    },
    {
     "name": "stdout",
     "output_type": "stream",
     "text": [
      "----------------------------------------------------------------------------------------------------\n",
      "~~~~~~~~~~~~~~~~~~~~~~~~~~~~~~~~~~~~~~~~~~~~~~~~~~~~~~~~~~~~~~~~~~~~~~~~~~~~~~~~~~~~~~~~~~~~~~~~~~~~\n"
     ]
    }
   ],
   "source": [
    "feat_info(X_train, 'num_sats')"
   ]
  },
  {
   "cell_type": "code",
   "execution_count": 59,
   "id": "0111f86c",
   "metadata": {},
   "outputs": [],
   "source": [
    "# X_train = X_train[X_train['num_sats'] < 40]\n",
    "numeric_features.add('num_sats')"
   ]
  },
  {
   "cell_type": "markdown",
   "id": "3b6ef211",
   "metadata": {},
   "source": [
    "**num_tl_120dpd_2m**"
   ]
  },
  {
   "cell_type": "code",
   "execution_count": 60,
   "id": "54fd46d7",
   "metadata": {},
   "outputs": [
    {
     "name": "stdout",
     "output_type": "stream",
     "text": [
      "----------------------------------------------------------------------------------------------------\n",
      "NUM_TL_120DPD_2M\n",
      "\n",
      "Первые пять строк:\n",
      "index\n",
      "0    0.0\n",
      "1    0.0\n",
      "2    0.0\n",
      "3    0.0\n",
      "4    0.0\n",
      "Name: num_tl_120dpd_2m, dtype: float64\n",
      "----------------------------------------------------------------------------------------------------\n",
      "Описательная статистика:\n",
      "count    1.109253e+06\n",
      "mean     7.221076e-04\n",
      "std      2.877438e-02\n",
      "min      0.000000e+00\n",
      "25%      0.000000e+00\n",
      "50%      0.000000e+00\n",
      "75%      0.000000e+00\n",
      "max      6.000000e+00\n",
      "Name: num_tl_120dpd_2m, dtype: float64\n",
      "----------------------------------------------------------------------------------------------------\n",
      "Количество уникальных значений:\n",
      "0.0    1108495\n",
      "1.0        724\n",
      "2.0         29\n",
      "3.0          3\n",
      "4.0          1\n",
      "6.0          1\n",
      "Name: num_tl_120dpd_2m, dtype: int64\n",
      "----------------------------------------------------------------------------------------------------\n",
      "Количество пропусков:\n",
      "90571\n",
      "----------------------------------------------------------------------------------------------------\n"
     ]
    },
    {
     "data": {
      "image/png": "[encoded data removed]",
      "text/plain": [
       "<Figure size 432x288 with 1 Axes>"
      ]
     },
     "metadata": {
      "needs_background": "light"
     },
     "output_type": "display_data"
    },
    {
     "name": "stdout",
     "output_type": "stream",
     "text": [
      "----------------------------------------------------------------------------------------------------\n",
      "~~~~~~~~~~~~~~~~~~~~~~~~~~~~~~~~~~~~~~~~~~~~~~~~~~~~~~~~~~~~~~~~~~~~~~~~~~~~~~~~~~~~~~~~~~~~~~~~~~~~\n"
     ]
    }
   ],
   "source": [
    "feat_info(X_train, 'num_tl_120dpd_2m')"
   ]
  },
  {
   "cell_type": "code",
   "execution_count": 61,
   "id": "547a00b4",
   "metadata": {},
   "outputs": [],
   "source": [
    "X_train['num_tl_120dpd_2m'] = X_train['num_tl_120dpd_2m'].fillna(0)\n",
    "numeric_features.add('num_tl_120dpd_2m')"
   ]
  },
  {
   "cell_type": "markdown",
   "id": "9848ee7e",
   "metadata": {},
   "source": [
    "**num_tl_30dpd**"
   ]
  },
  {
   "cell_type": "code",
   "execution_count": 62,
   "id": "0990d329",
   "metadata": {},
   "outputs": [
    {
     "name": "stdout",
     "output_type": "stream",
     "text": [
      "----------------------------------------------------------------------------------------------------\n",
      "NUM_TL_30DPD\n",
      "\n",
      "Первые пять строк:\n",
      "index\n",
      "0    0.0\n",
      "1    0.0\n",
      "2    0.0\n",
      "3    0.0\n",
      "4    0.0\n",
      "Name: num_tl_30dpd, dtype: float64\n",
      "----------------------------------------------------------------------------------------------------\n",
      "Описательная статистика:\n",
      "count    1.154852e+06\n",
      "mean     3.144992e-03\n",
      "std      5.954449e-02\n",
      "min      0.000000e+00\n",
      "25%      0.000000e+00\n",
      "50%      0.000000e+00\n",
      "75%      0.000000e+00\n",
      "max      4.000000e+00\n",
      "Name: num_tl_30dpd, dtype: float64\n",
      "----------------------------------------------------------------------------------------------------\n",
      "Количество уникальных значений:\n",
      "0.0    1151425\n",
      "1.0       3251\n",
      "2.0        150\n",
      "3.0         23\n",
      "4.0          3\n",
      "Name: num_tl_30dpd, dtype: int64\n",
      "----------------------------------------------------------------------------------------------------\n",
      "Количество пропусков:\n",
      "44972\n",
      "----------------------------------------------------------------------------------------------------\n"
     ]
    },
    {
     "data": {
      "image/png": "[encoded data removed]",
      "text/plain": [
       "<Figure size 432x288 with 1 Axes>"
      ]
     },
     "metadata": {
      "needs_background": "light"
     },
     "output_type": "display_data"
    },
    {
     "name": "stdout",
     "output_type": "stream",
     "text": [
      "----------------------------------------------------------------------------------------------------\n",
      "~~~~~~~~~~~~~~~~~~~~~~~~~~~~~~~~~~~~~~~~~~~~~~~~~~~~~~~~~~~~~~~~~~~~~~~~~~~~~~~~~~~~~~~~~~~~~~~~~~~~\n"
     ]
    }
   ],
   "source": [
    "feat_info(X_train, 'num_tl_30dpd')"
   ]
  },
  {
   "cell_type": "code",
   "execution_count": 63,
   "id": "1916ba34",
   "metadata": {},
   "outputs": [],
   "source": [
    "numeric_features.add('num_tl_30dpd')"
   ]
  },
  {
   "cell_type": "markdown",
   "id": "a2038167",
   "metadata": {},
   "source": [
    "**num_tl_90g_dpd_24m**"
   ]
  },
  {
   "cell_type": "code",
   "execution_count": 64,
   "id": "7c8c918d",
   "metadata": {},
   "outputs": [
    {
     "name": "stdout",
     "output_type": "stream",
     "text": [
      "----------------------------------------------------------------------------------------------------\n",
      "NUM_TL_90G_DPD_24M\n",
      "\n",
      "Первые пять строк:\n",
      "index\n",
      "0    0.0\n",
      "1    0.0\n",
      "2    0.0\n",
      "3    0.0\n",
      "4    0.0\n",
      "Name: num_tl_90g_dpd_24m, dtype: float64\n",
      "----------------------------------------------------------------------------------------------------\n",
      "Описательная статистика:\n",
      "count    1.154852e+06\n",
      "mean     8.669682e-02\n",
      "std      5.024471e-01\n",
      "min      0.000000e+00\n",
      "25%      0.000000e+00\n",
      "50%      0.000000e+00\n",
      "75%      0.000000e+00\n",
      "max      4.200000e+01\n",
      "Name: num_tl_90g_dpd_24m, dtype: float64\n",
      "----------------------------------------------------------------------------------------------------\n",
      "Количество уникальных значений:\n",
      "0.0     1090514\n",
      "1.0       48172\n",
      "2.0        9495\n",
      "3.0        2622\n",
      "4.0        1428\n",
      "5.0         776\n",
      "6.0         594\n",
      "7.0         345\n",
      "8.0         268\n",
      "9.0         192\n",
      "10.0        124\n",
      "11.0         87\n",
      "12.0         66\n",
      "13.0         47\n",
      "14.0         41\n",
      "15.0         28\n",
      "16.0         11\n",
      "20.0          9\n",
      "17.0          8\n",
      "18.0          8\n",
      "19.0          6\n",
      "26.0          3\n",
      "22.0          2\n",
      "30.0          1\n",
      "29.0          1\n",
      "42.0          1\n",
      "24.0          1\n",
      "21.0          1\n",
      "39.0          1\n",
      "Name: num_tl_90g_dpd_24m, dtype: int64\n",
      "----------------------------------------------------------------------------------------------------\n",
      "Количество пропусков:\n",
      "44972\n",
      "----------------------------------------------------------------------------------------------------\n"
     ]
    },
    {
     "data": {
      "image/png": "[encoded data removed]",
      "text/plain": [
       "<Figure size 432x288 with 1 Axes>"
      ]
     },
     "metadata": {
      "needs_background": "light"
     },
     "output_type": "display_data"
    },
    {
     "name": "stdout",
     "output_type": "stream",
     "text": [
      "----------------------------------------------------------------------------------------------------\n",
      "~~~~~~~~~~~~~~~~~~~~~~~~~~~~~~~~~~~~~~~~~~~~~~~~~~~~~~~~~~~~~~~~~~~~~~~~~~~~~~~~~~~~~~~~~~~~~~~~~~~~\n"
     ]
    }
   ],
   "source": [
    "feat_info(X_train, 'num_tl_90g_dpd_24m')"
   ]
  },
  {
   "cell_type": "code",
   "execution_count": 65,
   "id": "b7969392",
   "metadata": {},
   "outputs": [],
   "source": [
    "# X_train = X_train[X_train['num_tl_90g_dpd_24m'] < 3]\n",
    "numeric_features.add('num_tl_90g_dpd_24m')"
   ]
  },
  {
   "cell_type": "markdown",
   "id": "89656b48",
   "metadata": {},
   "source": [
    "**num_tl_op_past_12m**"
   ]
  },
  {
   "cell_type": "code",
   "execution_count": 66,
   "id": "c6b98793",
   "metadata": {},
   "outputs": [
    {
     "name": "stdout",
     "output_type": "stream",
     "text": [
      "----------------------------------------------------------------------------------------------------\n",
      "NUM_TL_OP_PAST_12M\n",
      "\n",
      "Первые пять строк:\n",
      "index\n",
      "0    3.0\n",
      "1    0.0\n",
      "2    0.0\n",
      "3    4.0\n",
      "4    0.0\n",
      "Name: num_tl_op_past_12m, dtype: float64\n",
      "----------------------------------------------------------------------------------------------------\n",
      "Описательная статистика:\n",
      "count    1.154852e+06\n",
      "mean     2.156888e+00\n",
      "std      1.853938e+00\n",
      "min      0.000000e+00\n",
      "25%      1.000000e+00\n",
      "50%      2.000000e+00\n",
      "75%      3.000000e+00\n",
      "max      3.200000e+01\n",
      "Name: num_tl_op_past_12m, dtype: float64\n",
      "----------------------------------------------------------------------------------------------------\n",
      "Количество уникальных значений:\n",
      "1.0     287845\n",
      "2.0     259067\n",
      "0.0     201656\n",
      "3.0     184325\n",
      "4.0     108815\n",
      "5.0      54414\n",
      "6.0      26999\n",
      "7.0      14650\n",
      "8.0       7554\n",
      "9.0       4135\n",
      "10.0      2245\n",
      "11.0      1219\n",
      "12.0       742\n",
      "13.0       429\n",
      "14.0       279\n",
      "15.0       157\n",
      "16.0       124\n",
      "17.0        72\n",
      "18.0        30\n",
      "19.0        23\n",
      "20.0        23\n",
      "21.0        15\n",
      "23.0         8\n",
      "25.0         6\n",
      "22.0         6\n",
      "28.0         4\n",
      "24.0         3\n",
      "26.0         3\n",
      "29.0         1\n",
      "32.0         1\n",
      "31.0         1\n",
      "30.0         1\n",
      "Name: num_tl_op_past_12m, dtype: int64\n",
      "----------------------------------------------------------------------------------------------------\n",
      "Количество пропусков:\n",
      "44972\n",
      "----------------------------------------------------------------------------------------------------\n"
     ]
    },
    {
     "data": {
      "image/png": "[encoded data removed]",
      "text/plain": [
       "<Figure size 432x288 with 1 Axes>"
      ]
     },
     "metadata": {
      "needs_background": "light"
     },
     "output_type": "display_data"
    },
    {
     "name": "stdout",
     "output_type": "stream",
     "text": [
      "----------------------------------------------------------------------------------------------------\n",
      "~~~~~~~~~~~~~~~~~~~~~~~~~~~~~~~~~~~~~~~~~~~~~~~~~~~~~~~~~~~~~~~~~~~~~~~~~~~~~~~~~~~~~~~~~~~~~~~~~~~~\n"
     ]
    }
   ],
   "source": [
    "feat_info(X_train, 'num_tl_op_past_12m')"
   ]
  },
  {
   "cell_type": "code",
   "execution_count": 67,
   "id": "7767a631",
   "metadata": {},
   "outputs": [],
   "source": [
    "# X_train = X_train[X_train['num_tl_op_past_12m'] < 10]\n",
    "numeric_features.add('num_tl_op_past_12m')"
   ]
  },
  {
   "cell_type": "markdown",
   "id": "a74eaacc",
   "metadata": {},
   "source": [
    "**open_acc**"
   ]
  },
  {
   "cell_type": "code",
   "execution_count": 68,
   "id": "8216e8ac",
   "metadata": {},
   "outputs": [
    {
     "name": "stdout",
     "output_type": "stream",
     "text": [
      "----------------------------------------------------------------------------------------------------\n",
      "OPEN_ACC\n",
      "\n",
      "Первые пять строк:\n",
      "index\n",
      "0    14.0\n",
      "1     5.0\n",
      "2     7.0\n",
      "3    19.0\n",
      "4     4.0\n",
      "Name: open_acc, dtype: float64\n",
      "----------------------------------------------------------------------------------------------------\n",
      "Описательная статистика:\n",
      "count    1.199824e+06\n",
      "mean     1.162013e+01\n",
      "std      5.574747e+00\n",
      "min      0.000000e+00\n",
      "25%      8.000000e+00\n",
      "50%      1.100000e+01\n",
      "75%      1.400000e+01\n",
      "max      9.000000e+01\n",
      "Name: open_acc, dtype: float64\n",
      "----------------------------------------------------------------------------------------------------\n",
      "Количество уникальных значений:\n",
      "9.0     105173\n",
      "10.0    101920\n",
      "8.0     101380\n",
      "11.0     94237\n",
      "7.0      91777\n",
      "         ...  \n",
      "70.0         1\n",
      "77.0         1\n",
      "71.0         1\n",
      "90.0         1\n",
      "88.0         1\n",
      "Name: open_acc, Length: 83, dtype: int64\n",
      "----------------------------------------------------------------------------------------------------\n",
      "Количество пропусков:\n",
      "0\n",
      "----------------------------------------------------------------------------------------------------\n"
     ]
    },
    {
     "data": {
      "image/png": "[encoded data removed]",
      "text/plain": [
       "<Figure size 432x288 with 1 Axes>"
      ]
     },
     "metadata": {
      "needs_background": "light"
     },
     "output_type": "display_data"
    },
    {
     "name": "stdout",
     "output_type": "stream",
     "text": [
      "----------------------------------------------------------------------------------------------------\n",
      "~~~~~~~~~~~~~~~~~~~~~~~~~~~~~~~~~~~~~~~~~~~~~~~~~~~~~~~~~~~~~~~~~~~~~~~~~~~~~~~~~~~~~~~~~~~~~~~~~~~~\n"
     ]
    }
   ],
   "source": [
    "feat_info(X_train, 'open_acc')"
   ]
  },
  {
   "cell_type": "code",
   "execution_count": 69,
   "id": "3ca27886",
   "metadata": {},
   "outputs": [],
   "source": [
    "numeric_features.add('open_acc')"
   ]
  },
  {
   "cell_type": "markdown",
   "id": "63c73807",
   "metadata": {},
   "source": [
    "**open_il_24m**"
   ]
  },
  {
   "cell_type": "code",
   "execution_count": 70,
   "id": "5527de12",
   "metadata": {},
   "outputs": [
    {
     "name": "stdout",
     "output_type": "stream",
     "text": [
      "----------------------------------------------------------------------------------------------------\n",
      "OPEN_IL_24M\n",
      "\n",
      "Первые пять строк:\n",
      "index\n",
      "0    2.0\n",
      "1    0.0\n",
      "2    0.0\n",
      "3    NaN\n",
      "4    3.0\n",
      "Name: open_il_24m, dtype: float64\n",
      "----------------------------------------------------------------------------------------------------\n",
      "Описательная статистика:\n",
      "count    632647.000000\n",
      "mean          1.677463\n",
      "std           1.641795\n",
      "min           0.000000\n",
      "25%           1.000000\n",
      "50%           1.000000\n",
      "75%           2.000000\n",
      "max          39.000000\n",
      "Name: open_il_24m, dtype: float64\n",
      "----------------------------------------------------------------------------------------------------\n",
      "Количество уникальных значений:\n",
      "1.0     195526\n",
      "0.0     155476\n",
      "2.0     133866\n",
      "3.0      72723\n",
      "4.0      36846\n",
      "5.0      18818\n",
      "6.0       9270\n",
      "7.0       4769\n",
      "8.0       2520\n",
      "9.0       1247\n",
      "10.0       720\n",
      "11.0       378\n",
      "12.0       219\n",
      "13.0       122\n",
      "14.0        62\n",
      "15.0        25\n",
      "16.0        18\n",
      "17.0        10\n",
      "20.0         7\n",
      "18.0         7\n",
      "19.0         7\n",
      "26.0         3\n",
      "22.0         2\n",
      "23.0         2\n",
      "31.0         1\n",
      "24.0         1\n",
      "39.0         1\n",
      "21.0         1\n",
      "Name: open_il_24m, dtype: int64\n",
      "----------------------------------------------------------------------------------------------------\n",
      "Количество пропусков:\n",
      "567177\n",
      "----------------------------------------------------------------------------------------------------\n"
     ]
    },
    {
     "data": {
      "image/png": "[encoded data removed]",
      "text/plain": [
       "<Figure size 432x288 with 1 Axes>"
      ]
     },
     "metadata": {
      "needs_background": "light"
     },
     "output_type": "display_data"
    },
    {
     "name": "stdout",
     "output_type": "stream",
     "text": [
      "----------------------------------------------------------------------------------------------------\n",
      "~~~~~~~~~~~~~~~~~~~~~~~~~~~~~~~~~~~~~~~~~~~~~~~~~~~~~~~~~~~~~~~~~~~~~~~~~~~~~~~~~~~~~~~~~~~~~~~~~~~~\n"
     ]
    }
   ],
   "source": [
    "feat_info(X_train, 'open_il_24m')"
   ]
  },
  {
   "cell_type": "code",
   "execution_count": 71,
   "id": "bf742d91",
   "metadata": {},
   "outputs": [],
   "source": [
    "# X_train = X_train[X_train['open_il_24m'] < 8]\n",
    "numeric_features.add('open_il_24m')"
   ]
  },
  {
   "cell_type": "markdown",
   "id": "0e88bb23",
   "metadata": {},
   "source": [
    "**open_rv_24m**"
   ]
  },
  {
   "cell_type": "code",
   "execution_count": 72,
   "id": "5e21b2ab",
   "metadata": {},
   "outputs": [
    {
     "name": "stdout",
     "output_type": "stream",
     "text": [
      "----------------------------------------------------------------------------------------------------\n",
      "OPEN_RV_24M\n",
      "\n",
      "Первые пять строк:\n",
      "index\n",
      "0    3.0\n",
      "1    1.0\n",
      "2    3.0\n",
      "3    NaN\n",
      "4    1.0\n",
      "Name: open_rv_24m, dtype: float64\n",
      "----------------------------------------------------------------------------------------------------\n",
      "Описательная статистика:\n",
      "count    632647.000000\n",
      "mean          2.899328\n",
      "std           2.667496\n",
      "min           0.000000\n",
      "25%           1.000000\n",
      "50%           2.000000\n",
      "75%           4.000000\n",
      "max          54.000000\n",
      "Name: open_rv_24m, dtype: float64\n",
      "----------------------------------------------------------------------------------------------------\n",
      "Количество уникальных значений:\n",
      "1.0     128900\n",
      "2.0     120478\n",
      "3.0      93807\n",
      "0.0      91678\n",
      "4.0      66371\n",
      "5.0      45160\n",
      "6.0      29431\n",
      "7.0      19642\n",
      "8.0      12453\n",
      "9.0       8149\n",
      "10.0      5352\n",
      "11.0      3545\n",
      "12.0      2241\n",
      "13.0      1651\n",
      "14.0      1156\n",
      "15.0       656\n",
      "16.0       543\n",
      "17.0       383\n",
      "18.0       269\n",
      "19.0       197\n",
      "20.0       127\n",
      "21.0       104\n",
      "22.0        81\n",
      "24.0        53\n",
      "23.0        41\n",
      "25.0        38\n",
      "26.0        25\n",
      "27.0        23\n",
      "28.0        21\n",
      "29.0        14\n",
      "30.0        13\n",
      "31.0         8\n",
      "32.0         6\n",
      "37.0         5\n",
      "33.0         3\n",
      "34.0         3\n",
      "38.0         3\n",
      "35.0         3\n",
      "36.0         3\n",
      "45.0         3\n",
      "42.0         2\n",
      "39.0         2\n",
      "40.0         1\n",
      "53.0         1\n",
      "54.0         1\n",
      "44.0         1\n",
      "Name: open_rv_24m, dtype: int64\n",
      "----------------------------------------------------------------------------------------------------\n",
      "Количество пропусков:\n",
      "567177\n",
      "----------------------------------------------------------------------------------------------------\n"
     ]
    },
    {
     "data": {
      "image/png": "[encoded data removed]",
      "text/plain": [
       "<Figure size 432x288 with 1 Axes>"
      ]
     },
     "metadata": {
      "needs_background": "light"
     },
     "output_type": "display_data"
    },
    {
     "name": "stdout",
     "output_type": "stream",
     "text": [
      "----------------------------------------------------------------------------------------------------\n",
      "~~~~~~~~~~~~~~~~~~~~~~~~~~~~~~~~~~~~~~~~~~~~~~~~~~~~~~~~~~~~~~~~~~~~~~~~~~~~~~~~~~~~~~~~~~~~~~~~~~~~\n"
     ]
    }
   ],
   "source": [
    "feat_info(X_train, 'open_rv_24m')"
   ]
  },
  {
   "cell_type": "code",
   "execution_count": 73,
   "id": "39271eee",
   "metadata": {},
   "outputs": [],
   "source": [
    "# X_train = X_train[X_train['open_rv_24m'] < 11]\n",
    "numeric_features.add('open_rv_24m')"
   ]
  },
  {
   "cell_type": "markdown",
   "id": "3f3c0a46",
   "metadata": {},
   "source": [
    "**percent_bc_gt_75**"
   ]
  },
  {
   "cell_type": "code",
   "execution_count": 74,
   "id": "78127aea",
   "metadata": {},
   "outputs": [
    {
     "name": "stdout",
     "output_type": "stream",
     "text": [
      "----------------------------------------------------------------------------------------------------\n",
      "PERCENT_BC_GT_75\n",
      "\n",
      "Первые пять строк:\n",
      "index\n",
      "0    100.0\n",
      "1    100.0\n",
      "2      0.0\n",
      "3      0.0\n",
      "4    100.0\n",
      "Name: percent_bc_gt_75, dtype: float64\n",
      "----------------------------------------------------------------------------------------------------\n",
      "Описательная статистика:\n",
      "count    1.155527e+06\n",
      "mean     4.318438e+01\n",
      "std      3.613864e+01\n",
      "min      0.000000e+00\n",
      "25%      0.000000e+00\n",
      "50%      4.000000e+01\n",
      "75%      7.500000e+01\n",
      "max      1.000000e+02\n",
      "Name: percent_bc_gt_75, dtype: float64\n",
      "----------------------------------------------------------------------------------------------------\n",
      "Количество уникальных значений:\n",
      "0.0      305268\n",
      "100.0    200288\n",
      "50.0     124895\n",
      "33.3      78966\n",
      "66.7      73174\n",
      "          ...  \n",
      "44.8          1\n",
      "48.1          1\n",
      "36.7          1\n",
      "2.2           1\n",
      "76.2          1\n",
      "Name: percent_bc_gt_75, Length: 251, dtype: int64\n",
      "----------------------------------------------------------------------------------------------------\n",
      "Количество пропусков:\n",
      "44297\n",
      "----------------------------------------------------------------------------------------------------\n"
     ]
    },
    {
     "data": {
      "image/png": "[encoded data removed]",
      "text/plain": [
       "<Figure size 432x288 with 1 Axes>"
      ]
     },
     "metadata": {
      "needs_background": "light"
     },
     "output_type": "display_data"
    },
    {
     "name": "stdout",
     "output_type": "stream",
     "text": [
      "----------------------------------------------------------------------------------------------------\n",
      "~~~~~~~~~~~~~~~~~~~~~~~~~~~~~~~~~~~~~~~~~~~~~~~~~~~~~~~~~~~~~~~~~~~~~~~~~~~~~~~~~~~~~~~~~~~~~~~~~~~~\n"
     ]
    }
   ],
   "source": [
    "feat_info(X_train, 'percent_bc_gt_75')"
   ]
  },
  {
   "cell_type": "code",
   "execution_count": 75,
   "id": "260f6be2",
   "metadata": {},
   "outputs": [],
   "source": [
    "X_train['percent_bc_gt_75'] = X_train['percent_bc_gt_75'].fillna(0)\n",
    "numeric_features.add('percent_bc_gt_75')"
   ]
  },
  {
   "cell_type": "markdown",
   "id": "5be1279e",
   "metadata": {},
   "source": [
    "**pub_rec**"
   ]
  },
  {
   "cell_type": "code",
   "execution_count": 76,
   "id": "6197ddc9",
   "metadata": {},
   "outputs": [
    {
     "name": "stdout",
     "output_type": "stream",
     "text": [
      "----------------------------------------------------------------------------------------------------\n",
      "PUB_REC\n",
      "\n",
      "Первые пять строк:\n",
      "index\n",
      "0    1.0\n",
      "1    1.0\n",
      "2    0.0\n",
      "3    0.0\n",
      "4    0.0\n",
      "Name: pub_rec, dtype: float64\n",
      "----------------------------------------------------------------------------------------------------\n",
      "Описательная статистика:\n",
      "count    1.199824e+06\n",
      "mean     2.097391e-01\n",
      "std      5.909505e-01\n",
      "min      0.000000e+00\n",
      "25%      0.000000e+00\n",
      "50%      0.000000e+00\n",
      "75%      0.000000e+00\n",
      "max      8.600000e+01\n",
      "Name: pub_rec, dtype: float64\n",
      "----------------------------------------------------------------------------------------------------\n",
      "Количество уникальных значений:\n",
      "0.0     1000690\n",
      "1.0      167886\n",
      "2.0       20400\n",
      "3.0        6271\n",
      "4.0        2281\n",
      "5.0        1091\n",
      "6.0         549\n",
      "7.0         257\n",
      "8.0         140\n",
      "9.0          79\n",
      "10.0         52\n",
      "11.0         39\n",
      "12.0         22\n",
      "13.0         14\n",
      "15.0          8\n",
      "14.0          7\n",
      "21.0          5\n",
      "28.0          4\n",
      "19.0          4\n",
      "18.0          3\n",
      "22.0          3\n",
      "16.0          3\n",
      "20.0          2\n",
      "17.0          2\n",
      "24.0          2\n",
      "25.0          1\n",
      "31.0          1\n",
      "86.0          1\n",
      "37.0          1\n",
      "47.0          1\n",
      "49.0          1\n",
      "32.0          1\n",
      "40.0          1\n",
      "44.0          1\n",
      "61.0          1\n",
      "Name: pub_rec, dtype: int64\n",
      "----------------------------------------------------------------------------------------------------\n",
      "Количество пропусков:\n",
      "0\n",
      "----------------------------------------------------------------------------------------------------\n"
     ]
    },
    {
     "data": {
      "image/png": "[encoded data removed]",
      "text/plain": [
       "<Figure size 432x288 with 1 Axes>"
      ]
     },
     "metadata": {
      "needs_background": "light"
     },
     "output_type": "display_data"
    },
    {
     "name": "stdout",
     "output_type": "stream",
     "text": [
      "----------------------------------------------------------------------------------------------------\n",
      "~~~~~~~~~~~~~~~~~~~~~~~~~~~~~~~~~~~~~~~~~~~~~~~~~~~~~~~~~~~~~~~~~~~~~~~~~~~~~~~~~~~~~~~~~~~~~~~~~~~~\n"
     ]
    }
   ],
   "source": [
    "feat_info(X_train, 'pub_rec')"
   ]
  },
  {
   "cell_type": "code",
   "execution_count": 77,
   "id": "8c0473da",
   "metadata": {},
   "outputs": [],
   "source": [
    "# X_train = X_train[X_train['pub_rec'] < 3]\n",
    "numeric_features.add('pub_rec')"
   ]
  },
  {
   "cell_type": "markdown",
   "id": "42b4e49b",
   "metadata": {},
   "source": [
    "**pub_rec_bankruptcies**"
   ]
  },
  {
   "cell_type": "code",
   "execution_count": 78,
   "id": "cd8950ca",
   "metadata": {},
   "outputs": [
    {
     "name": "stdout",
     "output_type": "stream",
     "text": [
      "----------------------------------------------------------------------------------------------------\n",
      "PUB_REC_BANKRUPTCIES\n",
      "\n",
      "Первые пять строк:\n",
      "index\n",
      "0    1.0\n",
      "1    1.0\n",
      "2    0.0\n",
      "3    0.0\n",
      "4    0.0\n",
      "Name: pub_rec_bankruptcies, dtype: float64\n",
      "----------------------------------------------------------------------------------------------------\n",
      "Описательная статистика:\n",
      "count    1.199392e+06\n",
      "mean     1.326222e-01\n",
      "std      3.732349e-01\n",
      "min      0.000000e+00\n",
      "25%      0.000000e+00\n",
      "50%      0.000000e+00\n",
      "75%      0.000000e+00\n",
      "max      1.200000e+01\n",
      "Name: pub_rec_bankruptcies, dtype: float64\n",
      "----------------------------------------------------------------------------------------------------\n",
      "Количество уникальных значений:\n",
      "0.0     1051100\n",
      "1.0      140093\n",
      "2.0        6404\n",
      "3.0        1286\n",
      "4.0         330\n",
      "5.0         123\n",
      "6.0          35\n",
      "7.0          12\n",
      "8.0           6\n",
      "9.0           2\n",
      "12.0          1\n",
      "Name: pub_rec_bankruptcies, dtype: int64\n",
      "----------------------------------------------------------------------------------------------------\n",
      "Количество пропусков:\n",
      "432\n",
      "----------------------------------------------------------------------------------------------------\n"
     ]
    },
    {
     "data": {
      "image/png": "[encoded data removed]",
      "text/plain": [
       "<Figure size 432x288 with 1 Axes>"
      ]
     },
     "metadata": {
      "needs_background": "light"
     },
     "output_type": "display_data"
    },
    {
     "name": "stdout",
     "output_type": "stream",
     "text": [
      "----------------------------------------------------------------------------------------------------\n",
      "~~~~~~~~~~~~~~~~~~~~~~~~~~~~~~~~~~~~~~~~~~~~~~~~~~~~~~~~~~~~~~~~~~~~~~~~~~~~~~~~~~~~~~~~~~~~~~~~~~~~\n"
     ]
    }
   ],
   "source": [
    "feat_info(X_train, 'pub_rec_bankruptcies')"
   ]
  },
  {
   "cell_type": "code",
   "execution_count": 79,
   "id": "deca3354",
   "metadata": {},
   "outputs": [],
   "source": [
    "numeric_features.add('pub_rec_bankruptcies')"
   ]
  },
  {
   "cell_type": "markdown",
   "id": "bc054f81",
   "metadata": {},
   "source": [
    "**purpose**"
   ]
  },
  {
   "cell_type": "code",
   "execution_count": 80,
   "id": "cdfdaa65",
   "metadata": {},
   "outputs": [
    {
     "name": "stdout",
     "output_type": "stream",
     "text": [
      "----------------------------------------------------------------------------------------------------\n",
      "PURPOSE\n",
      "\n",
      "Первые пять строк:\n",
      "index\n",
      "0    credit_card\n",
      "1    credit_card\n",
      "2    credit_card\n",
      "3            car\n",
      "4          other\n",
      "Name: purpose, dtype: object\n",
      "----------------------------------------------------------------------------------------------------\n",
      "Описательная статистика:\n",
      "count                1199824\n",
      "unique                    14\n",
      "top       debt_consolidation\n",
      "freq                  684517\n",
      "Name: purpose, dtype: object\n",
      "----------------------------------------------------------------------------------------------------\n",
      "Количество уникальных значений:\n",
      "debt_consolidation    684517\n",
      "credit_card           268411\n",
      "home_improvement       78964\n",
      "other                  73214\n",
      "major_purchase         26885\n",
      "medical                14327\n",
      "small_business         13458\n",
      "car                    13213\n",
      "vacation                8684\n",
      "moving                  8422\n",
      "house                   7142\n",
      "wedding                 1555\n",
      "renewable_energy         827\n",
      "educational              205\n",
      "Name: purpose, dtype: int64\n",
      "----------------------------------------------------------------------------------------------------\n",
      "Количество пропусков:\n",
      "0\n",
      "----------------------------------------------------------------------------------------------------\n"
     ]
    },
    {
     "data": {
      "image/png": "[encoded data removed]",
      "text/plain": [
       "<Figure size 432x288 with 1 Axes>"
      ]
     },
     "metadata": {
      "needs_background": "light"
     },
     "output_type": "display_data"
    },
    {
     "name": "stdout",
     "output_type": "stream",
     "text": [
      "----------------------------------------------------------------------------------------------------\n",
      "~~~~~~~~~~~~~~~~~~~~~~~~~~~~~~~~~~~~~~~~~~~~~~~~~~~~~~~~~~~~~~~~~~~~~~~~~~~~~~~~~~~~~~~~~~~~~~~~~~~~\n"
     ]
    }
   ],
   "source": [
    "feat_info(X_train, 'purpose')"
   ]
  },
  {
   "cell_type": "code",
   "execution_count": 81,
   "id": "ded715fa",
   "metadata": {},
   "outputs": [],
   "source": [
    "categorical_features.add('purpose')"
   ]
  },
  {
   "cell_type": "markdown",
   "id": "d2f6f617",
   "metadata": {},
   "source": [
    "**revol_util**"
   ]
  },
  {
   "cell_type": "code",
   "execution_count": 82,
   "id": "ba8e07fa",
   "metadata": {},
   "outputs": [
    {
     "name": "stdout",
     "output_type": "stream",
     "text": [
      "----------------------------------------------------------------------------------------------------\n",
      "REVOL_UTIL\n",
      "\n",
      "Первые пять строк:\n",
      "index\n",
      "0    56.1%\n",
      "1    88.3%\n",
      "2    18.1%\n",
      "3    33.4%\n",
      "4    88.6%\n",
      "Name: revol_util, dtype: object\n",
      "----------------------------------------------------------------------------------------------------\n",
      "Описательная статистика:\n",
      "count     1198983\n",
      "unique       1316\n",
      "top            0%\n",
      "freq         6611\n",
      "Name: revol_util, dtype: object\n",
      "----------------------------------------------------------------------------------------------------\n",
      "Количество уникальных значений:\n",
      "0%        6611\n",
      "57%       2356\n",
      "48%       2342\n",
      "58%       2318\n",
      "59%       2309\n",
      "          ... \n",
      "28.41%       1\n",
      "117.9%       1\n",
      "0.49%        1\n",
      "119.1%       1\n",
      "154.3%       1\n",
      "Name: revol_util, Length: 1316, dtype: int64\n",
      "----------------------------------------------------------------------------------------------------\n",
      "Количество пропусков:\n",
      "841\n",
      "----------------------------------------------------------------------------------------------------\n"
     ]
    },
    {
     "data": {
      "image/png": "[encoded data removed]",
      "text/plain": [
       "<Figure size 432x288 with 1 Axes>"
      ]
     },
     "metadata": {
      "needs_background": "light"
     },
     "output_type": "display_data"
    },
    {
     "name": "stdout",
     "output_type": "stream",
     "text": [
      "----------------------------------------------------------------------------------------------------\n",
      "~~~~~~~~~~~~~~~~~~~~~~~~~~~~~~~~~~~~~~~~~~~~~~~~~~~~~~~~~~~~~~~~~~~~~~~~~~~~~~~~~~~~~~~~~~~~~~~~~~~~\n"
     ]
    }
   ],
   "source": [
    "feat_info(X_train, 'revol_util')"
   ]
  },
  {
   "cell_type": "code",
   "execution_count": 83,
   "id": "770ad2a4",
   "metadata": {},
   "outputs": [],
   "source": [
    "X_train['revol_util'] = X_train['revol_util'].str.replace('%', '').astype('float')\n",
    "X_train['revol_util'] = X_train['revol_util'].fillna(X_train['revol_util'].median())\n",
    "numeric_features.add('revol_util')"
   ]
  },
  {
   "cell_type": "markdown",
   "id": "d1c1ff89",
   "metadata": {},
   "source": [
    "**tax_liens**"
   ]
  },
  {
   "cell_type": "code",
   "execution_count": 84,
   "id": "d4d5ac55",
   "metadata": {},
   "outputs": [
    {
     "data": {
      "text/plain": [
       "array([ 56.1 ,  88.3 ,  18.1 , ..., 130.2 ,   8.01, 154.3 ])"
      ]
     },
     "execution_count": 84,
     "metadata": {},
     "output_type": "execute_result"
    }
   ],
   "source": [
    "X_train['revol_util'].unique()"
   ]
  },
  {
   "cell_type": "code",
   "execution_count": 85,
   "id": "d08679a8",
   "metadata": {},
   "outputs": [
    {
     "name": "stdout",
     "output_type": "stream",
     "text": [
      "----------------------------------------------------------------------------------------------------\n",
      "TAX_LIENS\n",
      "\n",
      "Первые пять строк:\n",
      "index\n",
      "0    0.0\n",
      "1    0.0\n",
      "2    0.0\n",
      "3    0.0\n",
      "4    0.0\n",
      "Name: tax_liens, dtype: float64\n",
      "----------------------------------------------------------------------------------------------------\n",
      "Описательная статистика:\n",
      "count    1.199824e+06\n",
      "mean     5.066243e-02\n",
      "std      3.914051e-01\n",
      "min      0.000000e+00\n",
      "25%      0.000000e+00\n",
      "50%      0.000000e+00\n",
      "75%      0.000000e+00\n",
      "max      8.500000e+01\n",
      "Name: tax_liens, dtype: float64\n",
      "----------------------------------------------------------------------------------------------------\n",
      "Количество уникальных значений:\n",
      "0.0     1162613\n",
      "1.0       25221\n",
      "2.0        6918\n",
      "3.0        2535\n",
      "4.0        1170\n",
      "5.0         610\n",
      "6.0         311\n",
      "7.0         154\n",
      "8.0          89\n",
      "9.0          56\n",
      "10.0         43\n",
      "11.0         29\n",
      "12.0         18\n",
      "13.0          7\n",
      "15.0          7\n",
      "14.0          7\n",
      "21.0          5\n",
      "17.0          4\n",
      "18.0          4\n",
      "20.0          3\n",
      "27.0          3\n",
      "16.0          2\n",
      "22.0          2\n",
      "19.0          1\n",
      "44.0          1\n",
      "23.0          1\n",
      "46.0          1\n",
      "39.0          1\n",
      "29.0          1\n",
      "48.0          1\n",
      "24.0          1\n",
      "37.0          1\n",
      "28.0          1\n",
      "85.0          1\n",
      "30.0          1\n",
      "61.0          1\n",
      "Name: tax_liens, dtype: int64\n",
      "----------------------------------------------------------------------------------------------------\n",
      "Количество пропусков:\n",
      "0\n",
      "----------------------------------------------------------------------------------------------------\n"
     ]
    },
    {
     "data": {
      "image/png": "[encoded data removed]",
      "text/plain": [
       "<Figure size 432x288 with 1 Axes>"
      ]
     },
     "metadata": {
      "needs_background": "light"
     },
     "output_type": "display_data"
    },
    {
     "name": "stdout",
     "output_type": "stream",
     "text": [
      "----------------------------------------------------------------------------------------------------\n",
      "~~~~~~~~~~~~~~~~~~~~~~~~~~~~~~~~~~~~~~~~~~~~~~~~~~~~~~~~~~~~~~~~~~~~~~~~~~~~~~~~~~~~~~~~~~~~~~~~~~~~\n"
     ]
    }
   ],
   "source": [
    "feat_info(X_train, 'tax_liens')"
   ]
  },
  {
   "cell_type": "code",
   "execution_count": 86,
   "id": "98edb190",
   "metadata": {},
   "outputs": [],
   "source": [
    "numeric_features.add('tax_liens')"
   ]
  },
  {
   "cell_type": "markdown",
   "id": "583c1dc3",
   "metadata": {},
   "source": [
    "**term**"
   ]
  },
  {
   "cell_type": "code",
   "execution_count": 87,
   "id": "e98f4afe",
   "metadata": {},
   "outputs": [
    {
     "name": "stdout",
     "output_type": "stream",
     "text": [
      "----------------------------------------------------------------------------------------------------\n",
      "TERM\n",
      "\n",
      "Первые пять строк:\n",
      "index\n",
      "0     36 months\n",
      "1     36 months\n",
      "2     36 months\n",
      "3     36 months\n",
      "4     60 months\n",
      "Name: term, dtype: object\n",
      "----------------------------------------------------------------------------------------------------\n",
      "Описательная статистика:\n",
      "count        1199824\n",
      "unique             2\n",
      "top        36 months\n",
      "freq          903662\n",
      "Name: term, dtype: object\n",
      "----------------------------------------------------------------------------------------------------\n",
      "Количество уникальных значений:\n",
      " 36 months    903662\n",
      " 60 months    296162\n",
      "Name: term, dtype: int64\n",
      "----------------------------------------------------------------------------------------------------\n",
      "Количество пропусков:\n",
      "0\n",
      "----------------------------------------------------------------------------------------------------\n"
     ]
    },
    {
     "data": {
      "image/png": "[encoded data removed]",
      "text/plain": [
       "<Figure size 432x288 with 1 Axes>"
      ]
     },
     "metadata": {
      "needs_background": "light"
     },
     "output_type": "display_data"
    },
    {
     "name": "stdout",
     "output_type": "stream",
     "text": [
      "----------------------------------------------------------------------------------------------------\n",
      "~~~~~~~~~~~~~~~~~~~~~~~~~~~~~~~~~~~~~~~~~~~~~~~~~~~~~~~~~~~~~~~~~~~~~~~~~~~~~~~~~~~~~~~~~~~~~~~~~~~~\n"
     ]
    }
   ],
   "source": [
    "feat_info(X_train, 'term')"
   ]
  },
  {
   "cell_type": "code",
   "execution_count": 88,
   "id": "d63220be",
   "metadata": {},
   "outputs": [],
   "source": [
    "X_train['term'] = X_train['term'].str.replace('[^0-9]+', '').astype('float')"
   ]
  },
  {
   "cell_type": "markdown",
   "id": "84b257af",
   "metadata": {},
   "source": [
    "**title**"
   ]
  },
  {
   "cell_type": "code",
   "execution_count": 89,
   "id": "d3d2a320",
   "metadata": {},
   "outputs": [
    {
     "name": "stdout",
     "output_type": "stream",
     "text": [
      "----------------------------------------------------------------------------------------------------\n",
      "TITLE\n",
      "\n",
      "Первые пять строк:\n",
      "index\n",
      "0    Credit card refinancing\n",
      "1    Credit card refinancing\n",
      "2    Credit card refinancing\n",
      "3              Car financing\n",
      "4                      Other\n",
      "Name: title, dtype: object\n",
      "----------------------------------------------------------------------------------------------------\n",
      "Описательная статистика:\n",
      "count                1186024\n",
      "unique                 43831\n",
      "top       Debt consolidation\n",
      "freq                  602886\n",
      "Name: title, dtype: object\n",
      "----------------------------------------------------------------------------------------------------\n",
      "Количество уникальных значений:\n",
      "Debt consolidation               602886\n",
      "Credit card refinancing          237337\n",
      "Home improvement                  70534\n",
      "Other                             65688\n",
      "Major purchase                    23260\n",
      "                                  ...  \n",
      "36 months to a less stress me         1\n",
      "billpayoffquickly2013                 1\n",
      "debt concollatoin                     1\n",
      "Loan for Medical Expense              1\n",
      "Credit cards financing                1\n",
      "Name: title, Length: 43831, dtype: int64\n",
      "----------------------------------------------------------------------------------------------------\n",
      "Количество пропусков:\n",
      "13800\n",
      "----------------------------------------------------------------------------------------------------\n"
     ]
    },
    {
     "ename": "ValueError",
     "evalue": "\n$$ to Cents\n^\nExpected end of text, found '$'  (at char 0), (line:1, col:1)",
     "output_type": "error",
     "traceback": [
      "\u001b[1;31m---------------------------------------------------------------------------\u001b[0m",
      "\u001b[1;31mParseException\u001b[0m                            Traceback (most recent call last)",
      "\u001b[1;32mC:\\ProgramData\\Anaconda3\\lib\\site-packages\\matplotlib\\_mathtext.py\u001b[0m in \u001b[0;36mparse\u001b[1;34m(self, s, fonts_object, fontsize, dpi)\u001b[0m\n\u001b[0;32m   2276\u001b[0m         \u001b[1;32mtry\u001b[0m\u001b[1;33m:\u001b[0m\u001b[1;33m\u001b[0m\u001b[1;33m\u001b[0m\u001b[0m\n\u001b[1;32m-> 2277\u001b[1;33m             \u001b[0mresult\u001b[0m \u001b[1;33m=\u001b[0m \u001b[0mself\u001b[0m\u001b[1;33m.\u001b[0m\u001b[0m_expression\u001b[0m\u001b[1;33m.\u001b[0m\u001b[0mparseString\u001b[0m\u001b[1;33m(\u001b[0m\u001b[0ms\u001b[0m\u001b[1;33m)\u001b[0m\u001b[1;33m\u001b[0m\u001b[1;33m\u001b[0m\u001b[0m\n\u001b[0m\u001b[0;32m   2278\u001b[0m         \u001b[1;32mexcept\u001b[0m \u001b[0mParseBaseException\u001b[0m \u001b[1;32mas\u001b[0m \u001b[0merr\u001b[0m\u001b[1;33m:\u001b[0m\u001b[1;33m\u001b[0m\u001b[1;33m\u001b[0m\u001b[0m\n",
      "\u001b[1;32mC:\\ProgramData\\Anaconda3\\lib\\site-packages\\pyparsing\\core.py\u001b[0m in \u001b[0;36mparse_string\u001b[1;34m(self, instring, parse_all, parseAll)\u001b[0m\n\u001b[0;32m   1106\u001b[0m                 \u001b[1;31m# catch and re-raise exception from here, clearing out pyparsing internal stack trace\u001b[0m\u001b[1;33m\u001b[0m\u001b[1;33m\u001b[0m\u001b[0m\n\u001b[1;32m-> 1107\u001b[1;33m                 \u001b[1;32mraise\u001b[0m \u001b[0mexc\u001b[0m\u001b[1;33m.\u001b[0m\u001b[0mwith_traceback\u001b[0m\u001b[1;33m(\u001b[0m\u001b[1;32mNone\u001b[0m\u001b[1;33m)\u001b[0m\u001b[1;33m\u001b[0m\u001b[1;33m\u001b[0m\u001b[0m\n\u001b[0m\u001b[0;32m   1108\u001b[0m         \u001b[1;32melse\u001b[0m\u001b[1;33m:\u001b[0m\u001b[1;33m\u001b[0m\u001b[1;33m\u001b[0m\u001b[0m\n",
      "\u001b[1;31mParseException\u001b[0m: Expected end of text, found '$'  (at char 0), (line:1, col:1)",
      "\nThe above exception was the direct cause of the following exception:\n",
      "\u001b[1;31mValueError\u001b[0m                                Traceback (most recent call last)",
      "\u001b[1;32mC:\\ProgramData\\Anaconda3\\lib\\site-packages\\IPython\\core\\formatters.py\u001b[0m in \u001b[0;36m__call__\u001b[1;34m(self, obj)\u001b[0m\n\u001b[0;32m    339\u001b[0m                 \u001b[1;32mpass\u001b[0m\u001b[1;33m\u001b[0m\u001b[1;33m\u001b[0m\u001b[0m\n\u001b[0;32m    340\u001b[0m             \u001b[1;32melse\u001b[0m\u001b[1;33m:\u001b[0m\u001b[1;33m\u001b[0m\u001b[1;33m\u001b[0m\u001b[0m\n\u001b[1;32m--> 341\u001b[1;33m                 \u001b[1;32mreturn\u001b[0m \u001b[0mprinter\u001b[0m\u001b[1;33m(\u001b[0m\u001b[0mobj\u001b[0m\u001b[1;33m)\u001b[0m\u001b[1;33m\u001b[0m\u001b[1;33m\u001b[0m\u001b[0m\n\u001b[0m\u001b[0;32m    342\u001b[0m             \u001b[1;31m# Finally look for special method names\u001b[0m\u001b[1;33m\u001b[0m\u001b[1;33m\u001b[0m\u001b[0m\n\u001b[0;32m    343\u001b[0m             \u001b[0mmethod\u001b[0m \u001b[1;33m=\u001b[0m \u001b[0mget_real_method\u001b[0m\u001b[1;33m(\u001b[0m\u001b[0mobj\u001b[0m\u001b[1;33m,\u001b[0m \u001b[0mself\u001b[0m\u001b[1;33m.\u001b[0m\u001b[0mprint_method\u001b[0m\u001b[1;33m)\u001b[0m\u001b[1;33m\u001b[0m\u001b[1;33m\u001b[0m\u001b[0m\n",
      "\u001b[1;32mC:\\ProgramData\\Anaconda3\\lib\\site-packages\\IPython\\core\\pylabtools.py\u001b[0m in \u001b[0;36mprint_figure\u001b[1;34m(fig, fmt, bbox_inches, base64, **kwargs)\u001b[0m\n\u001b[0;32m    149\u001b[0m         \u001b[0mFigureCanvasBase\u001b[0m\u001b[1;33m(\u001b[0m\u001b[0mfig\u001b[0m\u001b[1;33m)\u001b[0m\u001b[1;33m\u001b[0m\u001b[1;33m\u001b[0m\u001b[0m\n\u001b[0;32m    150\u001b[0m \u001b[1;33m\u001b[0m\u001b[0m\n\u001b[1;32m--> 151\u001b[1;33m     \u001b[0mfig\u001b[0m\u001b[1;33m.\u001b[0m\u001b[0mcanvas\u001b[0m\u001b[1;33m.\u001b[0m\u001b[0mprint_figure\u001b[0m\u001b[1;33m(\u001b[0m\u001b[0mbytes_io\u001b[0m\u001b[1;33m,\u001b[0m \u001b[1;33m**\u001b[0m\u001b[0mkw\u001b[0m\u001b[1;33m)\u001b[0m\u001b[1;33m\u001b[0m\u001b[1;33m\u001b[0m\u001b[0m\n\u001b[0m\u001b[0;32m    152\u001b[0m     \u001b[0mdata\u001b[0m \u001b[1;33m=\u001b[0m \u001b[0mbytes_io\u001b[0m\u001b[1;33m.\u001b[0m\u001b[0mgetvalue\u001b[0m\u001b[1;33m(\u001b[0m\u001b[1;33m)\u001b[0m\u001b[1;33m\u001b[0m\u001b[1;33m\u001b[0m\u001b[0m\n\u001b[0;32m    153\u001b[0m     \u001b[1;32mif\u001b[0m \u001b[0mfmt\u001b[0m \u001b[1;33m==\u001b[0m \u001b[1;34m'svg'\u001b[0m\u001b[1;33m:\u001b[0m\u001b[1;33m\u001b[0m\u001b[1;33m\u001b[0m\u001b[0m\n",
      "\u001b[1;32mC:\\ProgramData\\Anaconda3\\lib\\site-packages\\matplotlib\\backend_bases.py\u001b[0m in \u001b[0;36mprint_figure\u001b[1;34m(self, filename, dpi, facecolor, edgecolor, orientation, format, bbox_inches, pad_inches, bbox_extra_artists, backend, **kwargs)\u001b[0m\n\u001b[0;32m   2228\u001b[0m                        else suppress())\n\u001b[0;32m   2229\u001b[0m                 \u001b[1;32mwith\u001b[0m \u001b[0mctx\u001b[0m\u001b[1;33m:\u001b[0m\u001b[1;33m\u001b[0m\u001b[1;33m\u001b[0m\u001b[0m\n\u001b[1;32m-> 2230\u001b[1;33m                     \u001b[0mself\u001b[0m\u001b[1;33m.\u001b[0m\u001b[0mfigure\u001b[0m\u001b[1;33m.\u001b[0m\u001b[0mdraw\u001b[0m\u001b[1;33m(\u001b[0m\u001b[0mrenderer\u001b[0m\u001b[1;33m)\u001b[0m\u001b[1;33m\u001b[0m\u001b[1;33m\u001b[0m\u001b[0m\n\u001b[0m\u001b[0;32m   2231\u001b[0m \u001b[1;33m\u001b[0m\u001b[0m\n\u001b[0;32m   2232\u001b[0m             \u001b[1;32mif\u001b[0m \u001b[0mbbox_inches\u001b[0m\u001b[1;33m:\u001b[0m\u001b[1;33m\u001b[0m\u001b[1;33m\u001b[0m\u001b[0m\n",
      "\u001b[1;32mC:\\ProgramData\\Anaconda3\\lib\\site-packages\\matplotlib\\artist.py\u001b[0m in \u001b[0;36mdraw_wrapper\u001b[1;34m(artist, renderer, *args, **kwargs)\u001b[0m\n\u001b[0;32m     72\u001b[0m     \u001b[1;33m@\u001b[0m\u001b[0mwraps\u001b[0m\u001b[1;33m(\u001b[0m\u001b[0mdraw\u001b[0m\u001b[1;33m)\u001b[0m\u001b[1;33m\u001b[0m\u001b[1;33m\u001b[0m\u001b[0m\n\u001b[0;32m     73\u001b[0m     \u001b[1;32mdef\u001b[0m \u001b[0mdraw_wrapper\u001b[0m\u001b[1;33m(\u001b[0m\u001b[0martist\u001b[0m\u001b[1;33m,\u001b[0m \u001b[0mrenderer\u001b[0m\u001b[1;33m,\u001b[0m \u001b[1;33m*\u001b[0m\u001b[0margs\u001b[0m\u001b[1;33m,\u001b[0m \u001b[1;33m**\u001b[0m\u001b[0mkwargs\u001b[0m\u001b[1;33m)\u001b[0m\u001b[1;33m:\u001b[0m\u001b[1;33m\u001b[0m\u001b[1;33m\u001b[0m\u001b[0m\n\u001b[1;32m---> 74\u001b[1;33m         \u001b[0mresult\u001b[0m \u001b[1;33m=\u001b[0m \u001b[0mdraw\u001b[0m\u001b[1;33m(\u001b[0m\u001b[0martist\u001b[0m\u001b[1;33m,\u001b[0m \u001b[0mrenderer\u001b[0m\u001b[1;33m,\u001b[0m \u001b[1;33m*\u001b[0m\u001b[0margs\u001b[0m\u001b[1;33m,\u001b[0m \u001b[1;33m**\u001b[0m\u001b[0mkwargs\u001b[0m\u001b[1;33m)\u001b[0m\u001b[1;33m\u001b[0m\u001b[1;33m\u001b[0m\u001b[0m\n\u001b[0m\u001b[0;32m     75\u001b[0m         \u001b[1;32mif\u001b[0m \u001b[0mrenderer\u001b[0m\u001b[1;33m.\u001b[0m\u001b[0m_rasterizing\u001b[0m\u001b[1;33m:\u001b[0m\u001b[1;33m\u001b[0m\u001b[1;33m\u001b[0m\u001b[0m\n\u001b[0;32m     76\u001b[0m             \u001b[0mrenderer\u001b[0m\u001b[1;33m.\u001b[0m\u001b[0mstop_rasterizing\u001b[0m\u001b[1;33m(\u001b[0m\u001b[1;33m)\u001b[0m\u001b[1;33m\u001b[0m\u001b[1;33m\u001b[0m\u001b[0m\n",
      "\u001b[1;32mC:\\ProgramData\\Anaconda3\\lib\\site-packages\\matplotlib\\artist.py\u001b[0m in \u001b[0;36mdraw_wrapper\u001b[1;34m(artist, renderer, *args, **kwargs)\u001b[0m\n\u001b[0;32m     49\u001b[0m                 \u001b[0mrenderer\u001b[0m\u001b[1;33m.\u001b[0m\u001b[0mstart_filter\u001b[0m\u001b[1;33m(\u001b[0m\u001b[1;33m)\u001b[0m\u001b[1;33m\u001b[0m\u001b[1;33m\u001b[0m\u001b[0m\n\u001b[0;32m     50\u001b[0m \u001b[1;33m\u001b[0m\u001b[0m\n\u001b[1;32m---> 51\u001b[1;33m             \u001b[1;32mreturn\u001b[0m \u001b[0mdraw\u001b[0m\u001b[1;33m(\u001b[0m\u001b[0martist\u001b[0m\u001b[1;33m,\u001b[0m \u001b[0mrenderer\u001b[0m\u001b[1;33m,\u001b[0m \u001b[1;33m*\u001b[0m\u001b[0margs\u001b[0m\u001b[1;33m,\u001b[0m \u001b[1;33m**\u001b[0m\u001b[0mkwargs\u001b[0m\u001b[1;33m)\u001b[0m\u001b[1;33m\u001b[0m\u001b[1;33m\u001b[0m\u001b[0m\n\u001b[0m\u001b[0;32m     52\u001b[0m         \u001b[1;32mfinally\u001b[0m\u001b[1;33m:\u001b[0m\u001b[1;33m\u001b[0m\u001b[1;33m\u001b[0m\u001b[0m\n\u001b[0;32m     53\u001b[0m             \u001b[1;32mif\u001b[0m \u001b[0martist\u001b[0m\u001b[1;33m.\u001b[0m\u001b[0mget_agg_filter\u001b[0m\u001b[1;33m(\u001b[0m\u001b[1;33m)\u001b[0m \u001b[1;32mis\u001b[0m \u001b[1;32mnot\u001b[0m \u001b[1;32mNone\u001b[0m\u001b[1;33m:\u001b[0m\u001b[1;33m\u001b[0m\u001b[1;33m\u001b[0m\u001b[0m\n",
      "\u001b[1;32mC:\\ProgramData\\Anaconda3\\lib\\site-packages\\matplotlib\\figure.py\u001b[0m in \u001b[0;36mdraw\u001b[1;34m(self, renderer)\u001b[0m\n\u001b[0;32m   2788\u001b[0m \u001b[1;33m\u001b[0m\u001b[0m\n\u001b[0;32m   2789\u001b[0m             \u001b[0mself\u001b[0m\u001b[1;33m.\u001b[0m\u001b[0mpatch\u001b[0m\u001b[1;33m.\u001b[0m\u001b[0mdraw\u001b[0m\u001b[1;33m(\u001b[0m\u001b[0mrenderer\u001b[0m\u001b[1;33m)\u001b[0m\u001b[1;33m\u001b[0m\u001b[1;33m\u001b[0m\u001b[0m\n\u001b[1;32m-> 2790\u001b[1;33m             mimage._draw_list_compositing_images(\n\u001b[0m\u001b[0;32m   2791\u001b[0m                 renderer, self, artists, self.suppressComposite)\n\u001b[0;32m   2792\u001b[0m \u001b[1;33m\u001b[0m\u001b[0m\n",
      "\u001b[1;32mC:\\ProgramData\\Anaconda3\\lib\\site-packages\\matplotlib\\image.py\u001b[0m in \u001b[0;36m_draw_list_compositing_images\u001b[1;34m(renderer, parent, artists, suppress_composite)\u001b[0m\n\u001b[0;32m    130\u001b[0m     \u001b[1;32mif\u001b[0m \u001b[0mnot_composite\u001b[0m \u001b[1;32mor\u001b[0m \u001b[1;32mnot\u001b[0m \u001b[0mhas_images\u001b[0m\u001b[1;33m:\u001b[0m\u001b[1;33m\u001b[0m\u001b[1;33m\u001b[0m\u001b[0m\n\u001b[0;32m    131\u001b[0m         \u001b[1;32mfor\u001b[0m \u001b[0ma\u001b[0m \u001b[1;32min\u001b[0m \u001b[0martists\u001b[0m\u001b[1;33m:\u001b[0m\u001b[1;33m\u001b[0m\u001b[1;33m\u001b[0m\u001b[0m\n\u001b[1;32m--> 132\u001b[1;33m             \u001b[0ma\u001b[0m\u001b[1;33m.\u001b[0m\u001b[0mdraw\u001b[0m\u001b[1;33m(\u001b[0m\u001b[0mrenderer\u001b[0m\u001b[1;33m)\u001b[0m\u001b[1;33m\u001b[0m\u001b[1;33m\u001b[0m\u001b[0m\n\u001b[0m\u001b[0;32m    133\u001b[0m     \u001b[1;32melse\u001b[0m\u001b[1;33m:\u001b[0m\u001b[1;33m\u001b[0m\u001b[1;33m\u001b[0m\u001b[0m\n\u001b[0;32m    134\u001b[0m         \u001b[1;31m# Composite any adjacent images together\u001b[0m\u001b[1;33m\u001b[0m\u001b[1;33m\u001b[0m\u001b[0m\n",
      "\u001b[1;32mC:\\ProgramData\\Anaconda3\\lib\\site-packages\\matplotlib\\artist.py\u001b[0m in \u001b[0;36mdraw_wrapper\u001b[1;34m(artist, renderer, *args, **kwargs)\u001b[0m\n\u001b[0;32m     49\u001b[0m                 \u001b[0mrenderer\u001b[0m\u001b[1;33m.\u001b[0m\u001b[0mstart_filter\u001b[0m\u001b[1;33m(\u001b[0m\u001b[1;33m)\u001b[0m\u001b[1;33m\u001b[0m\u001b[1;33m\u001b[0m\u001b[0m\n\u001b[0;32m     50\u001b[0m \u001b[1;33m\u001b[0m\u001b[0m\n\u001b[1;32m---> 51\u001b[1;33m             \u001b[1;32mreturn\u001b[0m \u001b[0mdraw\u001b[0m\u001b[1;33m(\u001b[0m\u001b[0martist\u001b[0m\u001b[1;33m,\u001b[0m \u001b[0mrenderer\u001b[0m\u001b[1;33m,\u001b[0m \u001b[1;33m*\u001b[0m\u001b[0margs\u001b[0m\u001b[1;33m,\u001b[0m \u001b[1;33m**\u001b[0m\u001b[0mkwargs\u001b[0m\u001b[1;33m)\u001b[0m\u001b[1;33m\u001b[0m\u001b[1;33m\u001b[0m\u001b[0m\n\u001b[0m\u001b[0;32m     52\u001b[0m         \u001b[1;32mfinally\u001b[0m\u001b[1;33m:\u001b[0m\u001b[1;33m\u001b[0m\u001b[1;33m\u001b[0m\u001b[0m\n\u001b[0;32m     53\u001b[0m             \u001b[1;32mif\u001b[0m \u001b[0martist\u001b[0m\u001b[1;33m.\u001b[0m\u001b[0mget_agg_filter\u001b[0m\u001b[1;33m(\u001b[0m\u001b[1;33m)\u001b[0m \u001b[1;32mis\u001b[0m \u001b[1;32mnot\u001b[0m \u001b[1;32mNone\u001b[0m\u001b[1;33m:\u001b[0m\u001b[1;33m\u001b[0m\u001b[1;33m\u001b[0m\u001b[0m\n",
      "\u001b[1;32mC:\\ProgramData\\Anaconda3\\lib\\site-packages\\matplotlib\\_api\\deprecation.py\u001b[0m in \u001b[0;36mwrapper\u001b[1;34m(*inner_args, **inner_kwargs)\u001b[0m\n\u001b[0;32m    429\u001b[0m                          \u001b[1;32melse\u001b[0m \u001b[0mdeprecation_addendum\u001b[0m\u001b[1;33m,\u001b[0m\u001b[1;33m\u001b[0m\u001b[1;33m\u001b[0m\u001b[0m\n\u001b[0;32m    430\u001b[0m                 **kwargs)\n\u001b[1;32m--> 431\u001b[1;33m         \u001b[1;32mreturn\u001b[0m \u001b[0mfunc\u001b[0m\u001b[1;33m(\u001b[0m\u001b[1;33m*\u001b[0m\u001b[0minner_args\u001b[0m\u001b[1;33m,\u001b[0m \u001b[1;33m**\u001b[0m\u001b[0minner_kwargs\u001b[0m\u001b[1;33m)\u001b[0m\u001b[1;33m\u001b[0m\u001b[1;33m\u001b[0m\u001b[0m\n\u001b[0m\u001b[0;32m    432\u001b[0m \u001b[1;33m\u001b[0m\u001b[0m\n\u001b[0;32m    433\u001b[0m     \u001b[1;32mreturn\u001b[0m \u001b[0mwrapper\u001b[0m\u001b[1;33m\u001b[0m\u001b[1;33m\u001b[0m\u001b[0m\n",
      "\u001b[1;32mC:\\ProgramData\\Anaconda3\\lib\\site-packages\\matplotlib\\axes\\_base.py\u001b[0m in \u001b[0;36mdraw\u001b[1;34m(self, renderer, inframe)\u001b[0m\n\u001b[0;32m   2919\u001b[0m             \u001b[0mrenderer\u001b[0m\u001b[1;33m.\u001b[0m\u001b[0mstop_rasterizing\u001b[0m\u001b[1;33m(\u001b[0m\u001b[1;33m)\u001b[0m\u001b[1;33m\u001b[0m\u001b[1;33m\u001b[0m\u001b[0m\n\u001b[0;32m   2920\u001b[0m \u001b[1;33m\u001b[0m\u001b[0m\n\u001b[1;32m-> 2921\u001b[1;33m         \u001b[0mmimage\u001b[0m\u001b[1;33m.\u001b[0m\u001b[0m_draw_list_compositing_images\u001b[0m\u001b[1;33m(\u001b[0m\u001b[0mrenderer\u001b[0m\u001b[1;33m,\u001b[0m \u001b[0mself\u001b[0m\u001b[1;33m,\u001b[0m \u001b[0martists\u001b[0m\u001b[1;33m)\u001b[0m\u001b[1;33m\u001b[0m\u001b[1;33m\u001b[0m\u001b[0m\n\u001b[0m\u001b[0;32m   2922\u001b[0m \u001b[1;33m\u001b[0m\u001b[0m\n\u001b[0;32m   2923\u001b[0m         \u001b[0mrenderer\u001b[0m\u001b[1;33m.\u001b[0m\u001b[0mclose_group\u001b[0m\u001b[1;33m(\u001b[0m\u001b[1;34m'axes'\u001b[0m\u001b[1;33m)\u001b[0m\u001b[1;33m\u001b[0m\u001b[1;33m\u001b[0m\u001b[0m\n",
      "\u001b[1;32mC:\\ProgramData\\Anaconda3\\lib\\site-packages\\matplotlib\\image.py\u001b[0m in \u001b[0;36m_draw_list_compositing_images\u001b[1;34m(renderer, parent, artists, suppress_composite)\u001b[0m\n\u001b[0;32m    130\u001b[0m     \u001b[1;32mif\u001b[0m \u001b[0mnot_composite\u001b[0m \u001b[1;32mor\u001b[0m \u001b[1;32mnot\u001b[0m \u001b[0mhas_images\u001b[0m\u001b[1;33m:\u001b[0m\u001b[1;33m\u001b[0m\u001b[1;33m\u001b[0m\u001b[0m\n\u001b[0;32m    131\u001b[0m         \u001b[1;32mfor\u001b[0m \u001b[0ma\u001b[0m \u001b[1;32min\u001b[0m \u001b[0martists\u001b[0m\u001b[1;33m:\u001b[0m\u001b[1;33m\u001b[0m\u001b[1;33m\u001b[0m\u001b[0m\n\u001b[1;32m--> 132\u001b[1;33m             \u001b[0ma\u001b[0m\u001b[1;33m.\u001b[0m\u001b[0mdraw\u001b[0m\u001b[1;33m(\u001b[0m\u001b[0mrenderer\u001b[0m\u001b[1;33m)\u001b[0m\u001b[1;33m\u001b[0m\u001b[1;33m\u001b[0m\u001b[0m\n\u001b[0m\u001b[0;32m    133\u001b[0m     \u001b[1;32melse\u001b[0m\u001b[1;33m:\u001b[0m\u001b[1;33m\u001b[0m\u001b[1;33m\u001b[0m\u001b[0m\n\u001b[0;32m    134\u001b[0m         \u001b[1;31m# Composite any adjacent images together\u001b[0m\u001b[1;33m\u001b[0m\u001b[1;33m\u001b[0m\u001b[0m\n",
      "\u001b[1;32mC:\\ProgramData\\Anaconda3\\lib\\site-packages\\matplotlib\\artist.py\u001b[0m in \u001b[0;36mdraw_wrapper\u001b[1;34m(artist, renderer, *args, **kwargs)\u001b[0m\n\u001b[0;32m     49\u001b[0m                 \u001b[0mrenderer\u001b[0m\u001b[1;33m.\u001b[0m\u001b[0mstart_filter\u001b[0m\u001b[1;33m(\u001b[0m\u001b[1;33m)\u001b[0m\u001b[1;33m\u001b[0m\u001b[1;33m\u001b[0m\u001b[0m\n\u001b[0;32m     50\u001b[0m \u001b[1;33m\u001b[0m\u001b[0m\n\u001b[1;32m---> 51\u001b[1;33m             \u001b[1;32mreturn\u001b[0m \u001b[0mdraw\u001b[0m\u001b[1;33m(\u001b[0m\u001b[0martist\u001b[0m\u001b[1;33m,\u001b[0m \u001b[0mrenderer\u001b[0m\u001b[1;33m,\u001b[0m \u001b[1;33m*\u001b[0m\u001b[0margs\u001b[0m\u001b[1;33m,\u001b[0m \u001b[1;33m**\u001b[0m\u001b[0mkwargs\u001b[0m\u001b[1;33m)\u001b[0m\u001b[1;33m\u001b[0m\u001b[1;33m\u001b[0m\u001b[0m\n\u001b[0m\u001b[0;32m     52\u001b[0m         \u001b[1;32mfinally\u001b[0m\u001b[1;33m:\u001b[0m\u001b[1;33m\u001b[0m\u001b[1;33m\u001b[0m\u001b[0m\n\u001b[0;32m     53\u001b[0m             \u001b[1;32mif\u001b[0m \u001b[0martist\u001b[0m\u001b[1;33m.\u001b[0m\u001b[0mget_agg_filter\u001b[0m\u001b[1;33m(\u001b[0m\u001b[1;33m)\u001b[0m \u001b[1;32mis\u001b[0m \u001b[1;32mnot\u001b[0m \u001b[1;32mNone\u001b[0m\u001b[1;33m:\u001b[0m\u001b[1;33m\u001b[0m\u001b[1;33m\u001b[0m\u001b[0m\n",
      "\u001b[1;32mC:\\ProgramData\\Anaconda3\\lib\\site-packages\\matplotlib\\axis.py\u001b[0m in \u001b[0;36mdraw\u001b[1;34m(self, renderer, *args, **kwargs)\u001b[0m\n\u001b[0;32m   1140\u001b[0m \u001b[1;33m\u001b[0m\u001b[0m\n\u001b[0;32m   1141\u001b[0m         \u001b[0mticks_to_draw\u001b[0m \u001b[1;33m=\u001b[0m \u001b[0mself\u001b[0m\u001b[1;33m.\u001b[0m\u001b[0m_update_ticks\u001b[0m\u001b[1;33m(\u001b[0m\u001b[1;33m)\u001b[0m\u001b[1;33m\u001b[0m\u001b[1;33m\u001b[0m\u001b[0m\n\u001b[1;32m-> 1142\u001b[1;33m         ticklabelBoxes, ticklabelBoxes2 = self._get_tick_bboxes(ticks_to_draw,\n\u001b[0m\u001b[0;32m   1143\u001b[0m                                                                 renderer)\n\u001b[0;32m   1144\u001b[0m \u001b[1;33m\u001b[0m\u001b[0m\n",
      "\u001b[1;32mC:\\ProgramData\\Anaconda3\\lib\\site-packages\\matplotlib\\axis.py\u001b[0m in \u001b[0;36m_get_tick_bboxes\u001b[1;34m(self, ticks, renderer)\u001b[0m\n\u001b[0;32m   1066\u001b[0m     \u001b[1;32mdef\u001b[0m \u001b[0m_get_tick_bboxes\u001b[0m\u001b[1;33m(\u001b[0m\u001b[0mself\u001b[0m\u001b[1;33m,\u001b[0m \u001b[0mticks\u001b[0m\u001b[1;33m,\u001b[0m \u001b[0mrenderer\u001b[0m\u001b[1;33m)\u001b[0m\u001b[1;33m:\u001b[0m\u001b[1;33m\u001b[0m\u001b[1;33m\u001b[0m\u001b[0m\n\u001b[0;32m   1067\u001b[0m         \u001b[1;34m\"\"\"Return lists of bboxes for ticks' label1's and label2's.\"\"\"\u001b[0m\u001b[1;33m\u001b[0m\u001b[1;33m\u001b[0m\u001b[0m\n\u001b[1;32m-> 1068\u001b[1;33m         return ([tick.label1.get_window_extent(renderer)\n\u001b[0m\u001b[0;32m   1069\u001b[0m                  for tick in ticks if tick.label1.get_visible()],\n\u001b[0;32m   1070\u001b[0m                 [tick.label2.get_window_extent(renderer)\n",
      "\u001b[1;32mC:\\ProgramData\\Anaconda3\\lib\\site-packages\\matplotlib\\axis.py\u001b[0m in \u001b[0;36m<listcomp>\u001b[1;34m(.0)\u001b[0m\n\u001b[0;32m   1066\u001b[0m     \u001b[1;32mdef\u001b[0m \u001b[0m_get_tick_bboxes\u001b[0m\u001b[1;33m(\u001b[0m\u001b[0mself\u001b[0m\u001b[1;33m,\u001b[0m \u001b[0mticks\u001b[0m\u001b[1;33m,\u001b[0m \u001b[0mrenderer\u001b[0m\u001b[1;33m)\u001b[0m\u001b[1;33m:\u001b[0m\u001b[1;33m\u001b[0m\u001b[1;33m\u001b[0m\u001b[0m\n\u001b[0;32m   1067\u001b[0m         \u001b[1;34m\"\"\"Return lists of bboxes for ticks' label1's and label2's.\"\"\"\u001b[0m\u001b[1;33m\u001b[0m\u001b[1;33m\u001b[0m\u001b[0m\n\u001b[1;32m-> 1068\u001b[1;33m         return ([tick.label1.get_window_extent(renderer)\n\u001b[0m\u001b[0;32m   1069\u001b[0m                  for tick in ticks if tick.label1.get_visible()],\n\u001b[0;32m   1070\u001b[0m                 [tick.label2.get_window_extent(renderer)\n",
      "\u001b[1;32mC:\\ProgramData\\Anaconda3\\lib\\site-packages\\matplotlib\\text.py\u001b[0m in \u001b[0;36mget_window_extent\u001b[1;34m(self, renderer, dpi)\u001b[0m\n\u001b[0;32m    901\u001b[0m \u001b[1;33m\u001b[0m\u001b[0m\n\u001b[0;32m    902\u001b[0m         \u001b[1;32mwith\u001b[0m \u001b[0mcbook\u001b[0m\u001b[1;33m.\u001b[0m\u001b[0m_setattr_cm\u001b[0m\u001b[1;33m(\u001b[0m\u001b[0mself\u001b[0m\u001b[1;33m.\u001b[0m\u001b[0mfigure\u001b[0m\u001b[1;33m,\u001b[0m \u001b[0mdpi\u001b[0m\u001b[1;33m=\u001b[0m\u001b[0mdpi\u001b[0m\u001b[1;33m)\u001b[0m\u001b[1;33m:\u001b[0m\u001b[1;33m\u001b[0m\u001b[1;33m\u001b[0m\u001b[0m\n\u001b[1;32m--> 903\u001b[1;33m             \u001b[0mbbox\u001b[0m\u001b[1;33m,\u001b[0m \u001b[0minfo\u001b[0m\u001b[1;33m,\u001b[0m \u001b[0mdescent\u001b[0m \u001b[1;33m=\u001b[0m \u001b[0mself\u001b[0m\u001b[1;33m.\u001b[0m\u001b[0m_get_layout\u001b[0m\u001b[1;33m(\u001b[0m\u001b[0mself\u001b[0m\u001b[1;33m.\u001b[0m\u001b[0m_renderer\u001b[0m\u001b[1;33m)\u001b[0m\u001b[1;33m\u001b[0m\u001b[1;33m\u001b[0m\u001b[0m\n\u001b[0m\u001b[0;32m    904\u001b[0m             \u001b[0mx\u001b[0m\u001b[1;33m,\u001b[0m \u001b[0my\u001b[0m \u001b[1;33m=\u001b[0m \u001b[0mself\u001b[0m\u001b[1;33m.\u001b[0m\u001b[0mget_unitless_position\u001b[0m\u001b[1;33m(\u001b[0m\u001b[1;33m)\u001b[0m\u001b[1;33m\u001b[0m\u001b[1;33m\u001b[0m\u001b[0m\n\u001b[0;32m    905\u001b[0m             \u001b[0mx\u001b[0m\u001b[1;33m,\u001b[0m \u001b[0my\u001b[0m \u001b[1;33m=\u001b[0m \u001b[0mself\u001b[0m\u001b[1;33m.\u001b[0m\u001b[0mget_transform\u001b[0m\u001b[1;33m(\u001b[0m\u001b[1;33m)\u001b[0m\u001b[1;33m.\u001b[0m\u001b[0mtransform\u001b[0m\u001b[1;33m(\u001b[0m\u001b[1;33m(\u001b[0m\u001b[0mx\u001b[0m\u001b[1;33m,\u001b[0m \u001b[0my\u001b[0m\u001b[1;33m)\u001b[0m\u001b[1;33m)\u001b[0m\u001b[1;33m\u001b[0m\u001b[1;33m\u001b[0m\u001b[0m\n",
      "\u001b[1;32mC:\\ProgramData\\Anaconda3\\lib\\site-packages\\matplotlib\\text.py\u001b[0m in \u001b[0;36m_get_layout\u001b[1;34m(self, renderer)\u001b[0m\n\u001b[0;32m    312\u001b[0m             \u001b[0mclean_line\u001b[0m\u001b[1;33m,\u001b[0m \u001b[0mismath\u001b[0m \u001b[1;33m=\u001b[0m \u001b[0mself\u001b[0m\u001b[1;33m.\u001b[0m\u001b[0m_preprocess_math\u001b[0m\u001b[1;33m(\u001b[0m\u001b[0mline\u001b[0m\u001b[1;33m)\u001b[0m\u001b[1;33m\u001b[0m\u001b[1;33m\u001b[0m\u001b[0m\n\u001b[0;32m    313\u001b[0m             \u001b[1;32mif\u001b[0m \u001b[0mclean_line\u001b[0m\u001b[1;33m:\u001b[0m\u001b[1;33m\u001b[0m\u001b[1;33m\u001b[0m\u001b[0m\n\u001b[1;32m--> 314\u001b[1;33m                 w, h, d = renderer.get_text_width_height_descent(\n\u001b[0m\u001b[0;32m    315\u001b[0m                     clean_line, self._fontproperties, ismath=ismath)\n\u001b[0;32m    316\u001b[0m             \u001b[1;32melse\u001b[0m\u001b[1;33m:\u001b[0m\u001b[1;33m\u001b[0m\u001b[1;33m\u001b[0m\u001b[0m\n",
      "\u001b[1;32mC:\\ProgramData\\Anaconda3\\lib\\site-packages\\matplotlib\\backends\\backend_agg.py\u001b[0m in \u001b[0;36mget_text_width_height_descent\u001b[1;34m(self, s, prop, ismath)\u001b[0m\n\u001b[0;32m    233\u001b[0m         \u001b[1;32mif\u001b[0m \u001b[0mismath\u001b[0m\u001b[1;33m:\u001b[0m\u001b[1;33m\u001b[0m\u001b[1;33m\u001b[0m\u001b[0m\n\u001b[0;32m    234\u001b[0m             \u001b[0mox\u001b[0m\u001b[1;33m,\u001b[0m \u001b[0moy\u001b[0m\u001b[1;33m,\u001b[0m \u001b[0mwidth\u001b[0m\u001b[1;33m,\u001b[0m \u001b[0mheight\u001b[0m\u001b[1;33m,\u001b[0m \u001b[0mdescent\u001b[0m\u001b[1;33m,\u001b[0m \u001b[0mfonts\u001b[0m\u001b[1;33m,\u001b[0m \u001b[0mused_characters\u001b[0m \u001b[1;33m=\u001b[0m\u001b[0;31m \u001b[0m\u001b[0;31m\\\u001b[0m\u001b[1;33m\u001b[0m\u001b[1;33m\u001b[0m\u001b[0m\n\u001b[1;32m--> 235\u001b[1;33m                 \u001b[0mself\u001b[0m\u001b[1;33m.\u001b[0m\u001b[0mmathtext_parser\u001b[0m\u001b[1;33m.\u001b[0m\u001b[0mparse\u001b[0m\u001b[1;33m(\u001b[0m\u001b[0ms\u001b[0m\u001b[1;33m,\u001b[0m \u001b[0mself\u001b[0m\u001b[1;33m.\u001b[0m\u001b[0mdpi\u001b[0m\u001b[1;33m,\u001b[0m \u001b[0mprop\u001b[0m\u001b[1;33m)\u001b[0m\u001b[1;33m\u001b[0m\u001b[1;33m\u001b[0m\u001b[0m\n\u001b[0m\u001b[0;32m    236\u001b[0m             \u001b[1;32mreturn\u001b[0m \u001b[0mwidth\u001b[0m\u001b[1;33m,\u001b[0m \u001b[0mheight\u001b[0m\u001b[1;33m,\u001b[0m \u001b[0mdescent\u001b[0m\u001b[1;33m\u001b[0m\u001b[1;33m\u001b[0m\u001b[0m\n\u001b[0;32m    237\u001b[0m \u001b[1;33m\u001b[0m\u001b[0m\n",
      "\u001b[1;32mC:\\ProgramData\\Anaconda3\\lib\\site-packages\\matplotlib\\mathtext.py\u001b[0m in \u001b[0;36mparse\u001b[1;34m(self, s, dpi, prop, _force_standard_ps_fonts)\u001b[0m\n\u001b[0;32m    450\u001b[0m         \u001b[1;31m# mathtext.fontset rcParams also affect the parse (e.g. by affecting\u001b[0m\u001b[1;33m\u001b[0m\u001b[1;33m\u001b[0m\u001b[0m\n\u001b[0;32m    451\u001b[0m         \u001b[1;31m# the glyph metrics).\u001b[0m\u001b[1;33m\u001b[0m\u001b[1;33m\u001b[0m\u001b[0m\n\u001b[1;32m--> 452\u001b[1;33m         \u001b[1;32mreturn\u001b[0m \u001b[0mself\u001b[0m\u001b[1;33m.\u001b[0m\u001b[0m_parse_cached\u001b[0m\u001b[1;33m(\u001b[0m\u001b[0ms\u001b[0m\u001b[1;33m,\u001b[0m \u001b[0mdpi\u001b[0m\u001b[1;33m,\u001b[0m \u001b[0mprop\u001b[0m\u001b[1;33m,\u001b[0m \u001b[0m_force_standard_ps_fonts\u001b[0m\u001b[1;33m)\u001b[0m\u001b[1;33m\u001b[0m\u001b[1;33m\u001b[0m\u001b[0m\n\u001b[0m\u001b[0;32m    453\u001b[0m \u001b[1;33m\u001b[0m\u001b[0m\n\u001b[0;32m    454\u001b[0m     \u001b[1;33m@\u001b[0m\u001b[0mfunctools\u001b[0m\u001b[1;33m.\u001b[0m\u001b[0mlru_cache\u001b[0m\u001b[1;33m(\u001b[0m\u001b[1;36m50\u001b[0m\u001b[1;33m)\u001b[0m\u001b[1;33m\u001b[0m\u001b[1;33m\u001b[0m\u001b[0m\n",
      "\u001b[1;32mC:\\ProgramData\\Anaconda3\\lib\\site-packages\\matplotlib\\mathtext.py\u001b[0m in \u001b[0;36m_parse_cached\u001b[1;34m(self, s, dpi, prop, force_standard_ps_fonts)\u001b[0m\n\u001b[0;32m    471\u001b[0m             \u001b[0mself\u001b[0m\u001b[1;33m.\u001b[0m\u001b[0m__class__\u001b[0m\u001b[1;33m.\u001b[0m\u001b[0m_parser\u001b[0m \u001b[1;33m=\u001b[0m \u001b[0m_mathtext\u001b[0m\u001b[1;33m.\u001b[0m\u001b[0mParser\u001b[0m\u001b[1;33m(\u001b[0m\u001b[1;33m)\u001b[0m\u001b[1;33m\u001b[0m\u001b[1;33m\u001b[0m\u001b[0m\n\u001b[0;32m    472\u001b[0m \u001b[1;33m\u001b[0m\u001b[0m\n\u001b[1;32m--> 473\u001b[1;33m         \u001b[0mbox\u001b[0m \u001b[1;33m=\u001b[0m \u001b[0mself\u001b[0m\u001b[1;33m.\u001b[0m\u001b[0m_parser\u001b[0m\u001b[1;33m.\u001b[0m\u001b[0mparse\u001b[0m\u001b[1;33m(\u001b[0m\u001b[0ms\u001b[0m\u001b[1;33m,\u001b[0m \u001b[0mfont_output\u001b[0m\u001b[1;33m,\u001b[0m \u001b[0mfontsize\u001b[0m\u001b[1;33m,\u001b[0m \u001b[0mdpi\u001b[0m\u001b[1;33m)\u001b[0m\u001b[1;33m\u001b[0m\u001b[1;33m\u001b[0m\u001b[0m\n\u001b[0m\u001b[0;32m    474\u001b[0m         \u001b[0mfont_output\u001b[0m\u001b[1;33m.\u001b[0m\u001b[0mset_canvas_size\u001b[0m\u001b[1;33m(\u001b[0m\u001b[0mbox\u001b[0m\u001b[1;33m.\u001b[0m\u001b[0mwidth\u001b[0m\u001b[1;33m,\u001b[0m \u001b[0mbox\u001b[0m\u001b[1;33m.\u001b[0m\u001b[0mheight\u001b[0m\u001b[1;33m,\u001b[0m \u001b[0mbox\u001b[0m\u001b[1;33m.\u001b[0m\u001b[0mdepth\u001b[0m\u001b[1;33m)\u001b[0m\u001b[1;33m\u001b[0m\u001b[1;33m\u001b[0m\u001b[0m\n\u001b[0;32m    475\u001b[0m         \u001b[1;32mreturn\u001b[0m \u001b[0mfont_output\u001b[0m\u001b[1;33m.\u001b[0m\u001b[0mget_results\u001b[0m\u001b[1;33m(\u001b[0m\u001b[0mbox\u001b[0m\u001b[1;33m)\u001b[0m\u001b[1;33m\u001b[0m\u001b[1;33m\u001b[0m\u001b[0m\n",
      "\u001b[1;32mC:\\ProgramData\\Anaconda3\\lib\\site-packages\\matplotlib\\_mathtext.py\u001b[0m in \u001b[0;36mparse\u001b[1;34m(self, s, fonts_object, fontsize, dpi)\u001b[0m\n\u001b[0;32m   2277\u001b[0m             \u001b[0mresult\u001b[0m \u001b[1;33m=\u001b[0m \u001b[0mself\u001b[0m\u001b[1;33m.\u001b[0m\u001b[0m_expression\u001b[0m\u001b[1;33m.\u001b[0m\u001b[0mparseString\u001b[0m\u001b[1;33m(\u001b[0m\u001b[0ms\u001b[0m\u001b[1;33m)\u001b[0m\u001b[1;33m\u001b[0m\u001b[1;33m\u001b[0m\u001b[0m\n\u001b[0;32m   2278\u001b[0m         \u001b[1;32mexcept\u001b[0m \u001b[0mParseBaseException\u001b[0m \u001b[1;32mas\u001b[0m \u001b[0merr\u001b[0m\u001b[1;33m:\u001b[0m\u001b[1;33m\u001b[0m\u001b[1;33m\u001b[0m\u001b[0m\n\u001b[1;32m-> 2279\u001b[1;33m             raise ValueError(\"\\n\".join([\"\",\n\u001b[0m\u001b[0;32m   2280\u001b[0m                                         \u001b[0merr\u001b[0m\u001b[1;33m.\u001b[0m\u001b[0mline\u001b[0m\u001b[1;33m,\u001b[0m\u001b[1;33m\u001b[0m\u001b[1;33m\u001b[0m\u001b[0m\n\u001b[0;32m   2281\u001b[0m                                         \u001b[1;34m\" \"\u001b[0m \u001b[1;33m*\u001b[0m \u001b[1;33m(\u001b[0m\u001b[0merr\u001b[0m\u001b[1;33m.\u001b[0m\u001b[0mcolumn\u001b[0m \u001b[1;33m-\u001b[0m \u001b[1;36m1\u001b[0m\u001b[1;33m)\u001b[0m \u001b[1;33m+\u001b[0m \u001b[1;34m\"^\"\u001b[0m\u001b[1;33m,\u001b[0m\u001b[1;33m\u001b[0m\u001b[1;33m\u001b[0m\u001b[0m\n",
      "\u001b[1;31mValueError\u001b[0m: \n$$ to Cents\n^\nExpected end of text, found '$'  (at char 0), (line:1, col:1)"
     ]
    },
    {
     "data": {
      "text/plain": [
       "<Figure size 432x288 with 1 Axes>"
      ]
     },
     "metadata": {
      "needs_background": "light"
     },
     "output_type": "display_data"
    },
    {
     "name": "stdout",
     "output_type": "stream",
     "text": [
      "----------------------------------------------------------------------------------------------------\n",
      "~~~~~~~~~~~~~~~~~~~~~~~~~~~~~~~~~~~~~~~~~~~~~~~~~~~~~~~~~~~~~~~~~~~~~~~~~~~~~~~~~~~~~~~~~~~~~~~~~~~~\n"
     ]
    }
   ],
   "source": [
    "feat_info(X_train, 'title')"
   ]
  },
  {
   "cell_type": "code",
   "execution_count": 90,
   "id": "802b1edb",
   "metadata": {},
   "outputs": [],
   "source": [
    "drop_features.add('title')"
   ]
  },
  {
   "cell_type": "markdown",
   "id": "fb72ab32",
   "metadata": {},
   "source": [
    "**total_acc**"
   ]
  },
  {
   "cell_type": "code",
   "execution_count": 91,
   "id": "b19dab59",
   "metadata": {},
   "outputs": [
    {
     "name": "stdout",
     "output_type": "stream",
     "text": [
      "----------------------------------------------------------------------------------------------------\n",
      "TOTAL_ACC\n",
      "\n",
      "Первые пять строк:\n",
      "index\n",
      "0    26.0\n",
      "1    11.0\n",
      "2    31.0\n",
      "3    24.0\n",
      "4    16.0\n",
      "Name: total_acc, dtype: float64\n",
      "----------------------------------------------------------------------------------------------------\n",
      "Описательная статистика:\n",
      "count    1.199824e+06\n",
      "mean     2.464254e+01\n",
      "std      1.205225e+01\n",
      "min      2.000000e+00\n",
      "25%      1.600000e+01\n",
      "50%      2.300000e+01\n",
      "75%      3.100000e+01\n",
      "max      1.730000e+02\n",
      "Name: total_acc, dtype: float64\n",
      "----------------------------------------------------------------------------------------------------\n",
      "Количество уникальных значений:\n",
      "20.0     43733\n",
      "21.0     43191\n",
      "19.0     43069\n",
      "18.0     42875\n",
      "22.0     42416\n",
      "         ...  \n",
      "173.0        1\n",
      "141.0        1\n",
      "135.0        1\n",
      "157.0        1\n",
      "117.0        1\n",
      "Name: total_acc, Length: 142, dtype: int64\n",
      "----------------------------------------------------------------------------------------------------\n",
      "Количество пропусков:\n",
      "0\n",
      "----------------------------------------------------------------------------------------------------\n"
     ]
    },
    {
     "data": {
      "image/png": "[encoded data removed]",
      "text/plain": [
       "<Figure size 432x288 with 1 Axes>"
      ]
     },
     "metadata": {
      "needs_background": "light"
     },
     "output_type": "display_data"
    },
    {
     "name": "stdout",
     "output_type": "stream",
     "text": [
      "----------------------------------------------------------------------------------------------------\n",
      "~~~~~~~~~~~~~~~~~~~~~~~~~~~~~~~~~~~~~~~~~~~~~~~~~~~~~~~~~~~~~~~~~~~~~~~~~~~~~~~~~~~~~~~~~~~~~~~~~~~~\n"
     ]
    }
   ],
   "source": [
    "feat_info(X_train, 'total_acc')"
   ]
  },
  {
   "cell_type": "code",
   "execution_count": 92,
   "id": "3fbe3933",
   "metadata": {},
   "outputs": [],
   "source": [
    "# X_train = X_train[X_train['total_acc'] < 75]\n",
    "numeric_features.add('total_acc')"
   ]
  },
  {
   "cell_type": "markdown",
   "id": "450b573f",
   "metadata": {},
   "source": [
    "**verification_status**"
   ]
  },
  {
   "cell_type": "code",
   "execution_count": 93,
   "id": "61153276",
   "metadata": {},
   "outputs": [
    {
     "name": "stdout",
     "output_type": "stream",
     "text": [
      "----------------------------------------------------------------------------------------------------\n",
      "VERIFICATION_STATUS\n",
      "\n",
      "Первые пять строк:\n",
      "index\n",
      "0    Source Verified\n",
      "1       Not Verified\n",
      "2    Source Verified\n",
      "3    Source Verified\n",
      "4       Not Verified\n",
      "Name: verification_status, dtype: object\n",
      "----------------------------------------------------------------------------------------------------\n",
      "Описательная статистика:\n",
      "count             1199824\n",
      "unique                  3\n",
      "top       Source Verified\n",
      "freq               478709\n",
      "Name: verification_status, dtype: object\n",
      "----------------------------------------------------------------------------------------------------\n",
      "Количество уникальных значений:\n",
      "Source Verified    478709\n",
      "Not Verified       377096\n",
      "Verified           344019\n",
      "Name: verification_status, dtype: int64\n",
      "----------------------------------------------------------------------------------------------------\n",
      "Количество пропусков:\n",
      "0\n",
      "----------------------------------------------------------------------------------------------------\n"
     ]
    },
    {
     "data": {
      "image/png": "[encoded data removed]",
      "text/plain": [
       "<Figure size 432x288 with 1 Axes>"
      ]
     },
     "metadata": {
      "needs_background": "light"
     },
     "output_type": "display_data"
    },
    {
     "name": "stdout",
     "output_type": "stream",
     "text": [
      "----------------------------------------------------------------------------------------------------\n",
      "~~~~~~~~~~~~~~~~~~~~~~~~~~~~~~~~~~~~~~~~~~~~~~~~~~~~~~~~~~~~~~~~~~~~~~~~~~~~~~~~~~~~~~~~~~~~~~~~~~~~\n"
     ]
    }
   ],
   "source": [
    "feat_info(X_train, 'verification_status')"
   ]
  },
  {
   "cell_type": "code",
   "execution_count": 94,
   "id": "16c2be44",
   "metadata": {},
   "outputs": [],
   "source": [
    "X_train['verification_status'] = X_train['verification_status'].str.replace('Source Verified', 'Verified')\n",
    "categorical_features.add('verification_status')"
   ]
  },
  {
   "cell_type": "markdown",
   "id": "b007106b",
   "metadata": {},
   "source": [
    "**zip_code**"
   ]
  },
  {
   "cell_type": "code",
   "execution_count": 95,
   "id": "fd71e1ef",
   "metadata": {},
   "outputs": [
    {
     "name": "stdout",
     "output_type": "stream",
     "text": [
      "----------------------------------------------------------------------------------------------------\n",
      "ZIP_CODE\n",
      "\n",
      "Первые пять строк:\n",
      "index\n",
      "0    847xx\n",
      "1    900xx\n",
      "2    895xx\n",
      "3    853xx\n",
      "4    453xx\n",
      "Name: zip_code, dtype: object\n",
      "----------------------------------------------------------------------------------------------------\n",
      "Описательная статистика:\n",
      "count     1199823\n",
      "unique        936\n",
      "top         945xx\n",
      "freq        12979\n",
      "Name: zip_code, dtype: object\n",
      "----------------------------------------------------------------------------------------------------\n",
      "Количество уникальных значений:\n",
      "945xx    12979\n",
      "750xx    12823\n",
      "112xx    12605\n",
      "606xx    11289\n",
      "300xx    11150\n",
      "         ...  \n",
      "513xx        1\n",
      "528xx        1\n",
      "521xx        1\n",
      "205xx        1\n",
      "516xx        1\n",
      "Name: zip_code, Length: 936, dtype: int64\n",
      "----------------------------------------------------------------------------------------------------\n",
      "Количество пропусков:\n",
      "1\n",
      "----------------------------------------------------------------------------------------------------\n"
     ]
    },
    {
     "data": {
      "image/png": "[encoded data removed]",
      "text/plain": [
       "<Figure size 432x288 with 1 Axes>"
      ]
     },
     "metadata": {
      "needs_background": "light"
     },
     "output_type": "display_data"
    },
    {
     "name": "stdout",
     "output_type": "stream",
     "text": [
      "----------------------------------------------------------------------------------------------------\n",
      "~~~~~~~~~~~~~~~~~~~~~~~~~~~~~~~~~~~~~~~~~~~~~~~~~~~~~~~~~~~~~~~~~~~~~~~~~~~~~~~~~~~~~~~~~~~~~~~~~~~~\n"
     ]
    }
   ],
   "source": [
    "feat_info(X_train, 'zip_code')"
   ]
  },
  {
   "cell_type": "code",
   "execution_count": 96,
   "id": "b927ccf8",
   "metadata": {},
   "outputs": [],
   "source": [
    "drop_features.add('zip_code')"
   ]
  },
  {
   "cell_type": "markdown",
   "id": "e2de812a",
   "metadata": {},
   "source": [
    "**чистим**"
   ]
  },
  {
   "cell_type": "code",
   "execution_count": 97,
   "id": "d22317bd",
   "metadata": {},
   "outputs": [],
   "source": [
    "X_train = X_train.drop(columns=drop_features)"
   ]
  },
  {
   "cell_type": "code",
   "execution_count": 98,
   "id": "e9f414d5",
   "metadata": {},
   "outputs": [],
   "source": [
    "# тест тоже причешем\n",
    "X_test['time_in'] = (pd.Series([pd.to_datetime('2020-09-01') for i in range(X_test.shape[0])]) - \\\n",
    "pd.to_datetime(X_test['earliest_cr_line'])) / np.timedelta64 ( 1 , 'D')\n",
    "\n",
    "X_test['emp_length'] = X_test['emp_length'].str.replace('< 1 year', '0')\n",
    "X_test['emp_length'] = X_test['emp_length'].str.replace('[^0-9]+', '').astype('float')\n",
    "\n",
    "X_test['home_ownership'] = X_test['home_ownership'].replace(['NONE', 'ANY'], 'OTHER')\n",
    "\n",
    "X_test['int_rate'] = X_test['int_rate'].str.replace('%', '').astype('float')\n",
    "\n",
    "X_test['revol_util'] = X_test['revol_util'].str.replace('%', '').astype('float')\n",
    "\n",
    "X_test['term'] = X_test['term'].str.replace('[^0-9]+', '').astype('float')\n",
    "\n",
    "X_test['verification_status'] = X_test['verification_status'].str.replace('Source Verified', 'Verified')"
   ]
  },
  {
   "cell_type": "code",
   "execution_count": 99,
   "id": "ce620114",
   "metadata": {},
   "outputs": [],
   "source": [
    "X_test = X_test.drop(columns=drop_features)"
   ]
  },
  {
   "cell_type": "markdown",
   "id": "cd0e1c26",
   "metadata": {},
   "source": [
    "**кодируем**"
   ]
  },
  {
   "cell_type": "code",
   "execution_count": 100,
   "id": "2e66a05b",
   "metadata": {},
   "outputs": [],
   "source": [
    "categorical_features = list(categorical_features)\n",
    "ordinal_encoder = OrdinalEncoder()\n",
    "ordinal_encoder.fit(X_train[categorical_features])\n",
    "X_train[categorical_features] = ordinal_encoder.transform(X_train[categorical_features]).astype('float')\n",
    "X_test[categorical_features] = ordinal_encoder.transform(X_test[categorical_features]).astype('float')"
   ]
  },
  {
   "cell_type": "markdown",
   "id": "cf739b0d",
   "metadata": {},
   "source": [
    "**масштабируем**"
   ]
  },
  {
   "cell_type": "code",
   "execution_count": 101,
   "id": "5e2b2361",
   "metadata": {},
   "outputs": [],
   "source": [
    "numeric_features = list(numeric_features)\n",
    "scaler = StandardScaler()\n",
    "scaler.fit(X_train[numeric_features])\n",
    "X_train[numeric_features] = scaler.transform(X_train[numeric_features])\n",
    "X_test[numeric_features] = scaler.transform(X_test[numeric_features])"
   ]
  },
  {
   "cell_type": "markdown",
   "id": "2464bc5d",
   "metadata": {},
   "source": [
    "**Немного магии, чтобы все не полетело**"
   ]
  },
  {
   "cell_type": "code",
   "execution_count": 102,
   "id": "2b254c0f",
   "metadata": {},
   "outputs": [],
   "source": [
    "train = X_train.merge(y_train, left_index=True, right_index=True, how='left')"
   ]
  },
  {
   "cell_type": "code",
   "execution_count": 103,
   "id": "12e82747",
   "metadata": {},
   "outputs": [],
   "source": [
    "X_train = train.drop('loan_status', axis=1)\n",
    "y_train = train['loan_status']"
   ]
  },
  {
   "cell_type": "code",
   "execution_count": 104,
   "id": "491afe6c",
   "metadata": {},
   "outputs": [],
   "source": [
    "X_train = X_train.astype('float32')"
   ]
  },
  {
   "cell_type": "markdown",
   "id": "2923afab",
   "metadata": {},
   "source": [
    "# Обучение"
   ]
  },
  {
   "cell_type": "code",
   "execution_count": 105,
   "id": "bf834d55",
   "metadata": {},
   "outputs": [],
   "source": [
    "param_grid = {\n",
    "      'n_estimators': range(100,1000,100),\n",
    "      'max_depth': range(1,11)}"
   ]
  },
  {
   "cell_type": "code",
   "execution_count": 106,
   "id": "ff1ce3be",
   "metadata": {},
   "outputs": [
    {
     "name": "stdout",
     "output_type": "stream",
     "text": [
      "ROC-AUC : 0.7215047418773327\n",
      "Параметры : {'n_estimators': 800, 'max_depth': 5}\n",
      "Wall time: 34min 31s\n"
     ]
    }
   ],
   "source": [
    "%%time\n",
    "estimator = CatBoostClassifier(random_state=0, \n",
    "                               verbose = False, \n",
    "                               auto_class_weights = 'Balanced')\n",
    "\n",
    "model_cbc = RandomizedSearchCV(estimator, \n",
    "                               param_grid, \n",
    "                               verbose = False, \n",
    "                               n_jobs=-1,\n",
    "                               scoring='roc_auc', \n",
    "                               random_state=0)\n",
    "\n",
    "model_cbc.fit(X_train, y_train)\n",
    "\n",
    "parametrs_cbc = model_cbc.best_params_\n",
    "best_model_cbc = model_cbc.best_estimator_\n",
    "print(f'ROC-AUC : {model_cbc.best_score_}')\n",
    "print(f'Параметры : {parametrs_cbc}')"
   ]
  },
  {
   "cell_type": "code",
   "execution_count": 107,
   "id": "38c98b30",
   "metadata": {},
   "outputs": [
    {
     "name": "stdout",
     "output_type": "stream",
     "text": [
      "ROC-AUC : 0.7216807325483627\n",
      "Параметры : {'n_estimators': 600, 'max_depth': 5}\n",
      "Wall time: 6min 44s\n"
     ]
    }
   ],
   "source": [
    "%%time\n",
    "estimator = LGBMClassifier(random_state=0, \n",
    "                                   class_weight = 'balanced')\n",
    "\n",
    "model_lgbm = RandomizedSearchCV(estimator, \n",
    "                               param_grid, \n",
    "                               verbose = False, \n",
    "                               n_jobs=-1,\n",
    "                               scoring='roc_auc', \n",
    "                               random_state=0)\n",
    "\n",
    "model_lgbm.fit(X_train, y_train)\n",
    "\n",
    "parametrs_lgbm = model_lgbm.best_params_\n",
    "best_model_lgbm = model_lgbm.best_estimator_\n",
    "print(f'ROC-AUC : {model_lgbm.best_score_}')\n",
    "print(f'Параметры : {parametrs_lgbm}')"
   ]
  },
  {
   "cell_type": "code",
   "execution_count": 114,
   "id": "78eb62b1",
   "metadata": {
    "collapsed": true
   },
   "outputs": [
    {
     "name": "stdout",
     "output_type": "stream",
     "text": [
      "----------------------------------------------------------------------------------------------------\n",
      "ACC_NOW_DELINQ\n",
      "\n",
      "Первые пять строк:\n",
      "index\n",
      "0   -0.063502\n",
      "1   -0.063502\n",
      "2   -0.063502\n",
      "3   -0.063502\n",
      "4   -0.063502\n",
      "Name: acc_now_delinq, dtype: float32\n",
      "----------------------------------------------------------------------------------------------------\n",
      "Описательная статистика:\n",
      "count    1.199824e+06\n",
      "mean     7.299021e-06\n",
      "std      9.983426e-01\n",
      "min     -6.350234e-02\n",
      "25%     -6.350234e-02\n",
      "50%     -6.350234e-02\n",
      "75%     -6.350234e-02\n",
      "max      8.230582e+01\n",
      "Name: acc_now_delinq, dtype: float64\n",
      "----------------------------------------------------------------------------------------------------\n",
      "Количество уникальных значений:\n",
      "-0.063502     1194622\n",
      " 13.664720       4910\n",
      " 27.392941        248\n",
      " 41.121162         36\n",
      " 54.849384          5\n",
      " 68.577606          2\n",
      " 82.305824          1\n",
      "Name: acc_now_delinq, dtype: int64\n",
      "----------------------------------------------------------------------------------------------------\n",
      "Количество пропусков:\n",
      "0\n",
      "----------------------------------------------------------------------------------------------------\n"
     ]
    },
    {
     "data": {
      "image/png": "[encoded data removed]",
      "text/plain": [
       "<Figure size 432x288 with 1 Axes>"
      ]
     },
     "metadata": {
      "needs_background": "light"
     },
     "output_type": "display_data"
    },
    {
     "name": "stdout",
     "output_type": "stream",
     "text": [
      "----------------------------------------------------------------------------------------------------\n",
      "~~~~~~~~~~~~~~~~~~~~~~~~~~~~~~~~~~~~~~~~~~~~~~~~~~~~~~~~~~~~~~~~~~~~~~~~~~~~~~~~~~~~~~~~~~~~~~~~~~~~\n",
      "----------------------------------------------------------------------------------------------------\n",
      "ANNUAL_INC\n",
      "\n",
      "Первые пять строк:\n",
      "index\n",
      "0    0.013858\n",
      "1    0.028526\n",
      "2   -0.234908\n",
      "3   -0.352837\n",
      "4   -0.059481\n",
      "Name: annual_inc, dtype: float32\n",
      "----------------------------------------------------------------------------------------------------\n",
      "Описательная статистика:\n",
      "count    1.199824e+06\n",
      "mean     1.725410e-09\n",
      "std      9.991289e-01\n",
      "min     -5.559860e-01\n",
      "25%     -2.281604e-01\n",
      "50%     -9.615014e-02\n",
      "75%      1.091992e-01\n",
      "max      8.061567e+02\n",
      "Name: annual_inc, dtype: float64\n",
      "----------------------------------------------------------------------------------------------------\n",
      "Количество уникальных значений:\n",
      "-0.132820    46287\n",
      "-0.206159    40569\n",
      "-0.096150    34533\n",
      "-0.059481    33127\n",
      " 0.013858    31594\n",
      "             ...  \n",
      " 0.074187        1\n",
      "-0.076891        1\n",
      "-0.256059        1\n",
      "-0.177468        1\n",
      "-0.320194        1\n",
      "Name: annual_inc, Length: 59049, dtype: int64\n",
      "----------------------------------------------------------------------------------------------------\n",
      "Количество пропусков:\n",
      "0\n",
      "----------------------------------------------------------------------------------------------------\n"
     ]
    },
    {
     "data": {
      "image/png": "[encoded data removed]",
      "text/plain": [
       "<Figure size 432x288 with 1 Axes>"
      ]
     },
     "metadata": {
      "needs_background": "light"
     },
     "output_type": "display_data"
    },
    {
     "name": "stdout",
     "output_type": "stream",
     "text": [
      "----------------------------------------------------------------------------------------------------\n",
      "~~~~~~~~~~~~~~~~~~~~~~~~~~~~~~~~~~~~~~~~~~~~~~~~~~~~~~~~~~~~~~~~~~~~~~~~~~~~~~~~~~~~~~~~~~~~~~~~~~~~\n",
      "----------------------------------------------------------------------------------------------------\n",
      "CHARGEOFF_WITHIN_12_MTHS\n",
      "\n",
      "Первые пять строк:\n",
      "index\n",
      "0   -0.082301\n",
      "1   -0.082301\n",
      "2   -0.082301\n",
      "3   -0.082301\n",
      "4   -0.082301\n",
      "Name: chargeoff_within_12_mths, dtype: float32\n",
      "----------------------------------------------------------------------------------------------------\n",
      "Описательная статистика:\n",
      "count    1.199824e+06\n",
      "mean     3.429081e-06\n",
      "std      9.970592e-01\n",
      "min     -8.230142e-02\n",
      "25%     -8.230142e-02\n",
      "50%     -8.230142e-02\n",
      "75%     -8.230142e-02\n",
      "max      9.237763e+01\n",
      "Name: chargeoff_within_12_mths, dtype: float64\n",
      "----------------------------------------------------------------------------------------------------\n",
      "Количество уникальных значений:\n",
      "-0.082301     1190259\n",
      " 9.163692        8769\n",
      " 18.409685        619\n",
      " 27.655680        109\n",
      " 36.901672         35\n",
      " 46.147667         12\n",
      " 55.393661         10\n",
      " 64.639656          6\n",
      " 83.131638          2\n",
      " 73.885643          2\n",
      " 92.377632          1\n",
      "Name: chargeoff_within_12_mths, dtype: int64\n",
      "----------------------------------------------------------------------------------------------------\n",
      "Количество пропусков:\n",
      "0\n",
      "----------------------------------------------------------------------------------------------------\n"
     ]
    },
    {
     "data": {
      "image/png": "[encoded data removed]",
      "text/plain": [
       "<Figure size 432x288 with 1 Axes>"
      ]
     },
     "metadata": {
      "needs_background": "light"
     },
     "output_type": "display_data"
    },
    {
     "name": "stdout",
     "output_type": "stream",
     "text": [
      "----------------------------------------------------------------------------------------------------\n",
      "~~~~~~~~~~~~~~~~~~~~~~~~~~~~~~~~~~~~~~~~~~~~~~~~~~~~~~~~~~~~~~~~~~~~~~~~~~~~~~~~~~~~~~~~~~~~~~~~~~~~\n",
      "----------------------------------------------------------------------------------------------------\n",
      "COLLECTIONS_12_MTHS_EX_MED\n",
      "\n",
      "Первые пять строк:\n",
      "index\n",
      "0   -0.120093\n",
      "1   -0.120093\n",
      "2   -0.120093\n",
      "3   -0.120093\n",
      "4   -0.120093\n",
      "Name: collections_12_mths_ex_med, dtype: float32\n",
      "----------------------------------------------------------------------------------------------------\n",
      "Описательная статистика:\n",
      "count    1.199824e+06\n",
      "mean    -2.337404e-06\n",
      "std      9.944990e-01\n",
      "min     -1.200935e-01\n",
      "25%     -1.200935e-01\n",
      "50%     -1.200935e-01\n",
      "75%     -1.200935e-01\n",
      "max      1.325665e+02\n",
      "Name: collections_12_mths_ex_med, dtype: float64\n",
      "----------------------------------------------------------------------------------------------------\n",
      "Количество уникальных значений:\n",
      "-0.120093      1179983\n",
      " 6.514236        18394\n",
      " 13.148566        1210\n",
      " 19.782896         152\n",
      " 26.417227          50\n",
      " 33.051556          17\n",
      " 39.685886           6\n",
      " 46.320217           4\n",
      " 132.566513          2\n",
      " 79.491867           2\n",
      " 59.588875           2\n",
      " 66.223206           1\n",
      " 52.954548           1\n",
      "Name: collections_12_mths_ex_med, dtype: int64\n",
      "----------------------------------------------------------------------------------------------------\n",
      "Количество пропусков:\n",
      "0\n",
      "----------------------------------------------------------------------------------------------------\n"
     ]
    },
    {
     "data": {
      "image/png": "[encoded data removed]",
      "text/plain": [
       "<Figure size 432x288 with 1 Axes>"
      ]
     },
     "metadata": {
      "needs_background": "light"
     },
     "output_type": "display_data"
    },
    {
     "name": "stdout",
     "output_type": "stream",
     "text": [
      "----------------------------------------------------------------------------------------------------\n",
      "~~~~~~~~~~~~~~~~~~~~~~~~~~~~~~~~~~~~~~~~~~~~~~~~~~~~~~~~~~~~~~~~~~~~~~~~~~~~~~~~~~~~~~~~~~~~~~~~~~~~\n",
      "----------------------------------------------------------------------------------------------------\n",
      "DELINQ_2YRS\n",
      "\n",
      "Первые пять строк:\n",
      "index\n",
      "0   -0.358557\n",
      "1   -0.358557\n",
      "2    0.782501\n",
      "3   -0.358557\n",
      "4   -0.358557\n",
      "Name: delinq_2yrs, dtype: float32\n",
      "----------------------------------------------------------------------------------------------------\n",
      "Описательная статистика:\n",
      "count    1.199824e+06\n",
      "mean    -4.095984e-06\n",
      "std      9.991705e-01\n",
      "min     -3.585568e-01\n",
      "25%     -3.585568e-01\n",
      "50%     -3.585568e-01\n",
      "75%     -3.585568e-01\n",
      "max      4.756588e+01\n",
      "Name: delinq_2yrs, dtype: float64\n",
      "----------------------------------------------------------------------------------------------------\n",
      "Количество уникальных значений:\n",
      "-0.358557     971455\n",
      " 0.782501     152036\n",
      " 1.923559      44045\n",
      " 3.064617      16219\n",
      " 4.205675       7126\n",
      " 5.346733       3617\n",
      " 6.487791       2102\n",
      " 7.628849       1171\n",
      " 8.769907        688\n",
      " 9.910965        444\n",
      " 11.052023       288\n",
      " 12.193081       189\n",
      " 13.334139       140\n",
      " 14.475197        86\n",
      " 15.616256        76\n",
      " 16.757313        46\n",
      " 17.898371        23\n",
      " 19.039429        18\n",
      " 20.180487        15\n",
      " 21.321545        14\n",
      " 22.462603        12\n",
      " 23.603661         3\n",
      " 29.308952         2\n",
      " 33.873184         1\n",
      " 30.450010         1\n",
      " 32.732124         1\n",
      " 24.744719         1\n",
      " 47.565880         1\n",
      " 27.026834         1\n",
      " 28.167892         1\n",
      " 31.591068         1\n",
      " 44.142704         1\n",
      "Name: delinq_2yrs, dtype: int64\n",
      "----------------------------------------------------------------------------------------------------\n",
      "Количество пропусков:\n",
      "0\n",
      "----------------------------------------------------------------------------------------------------\n"
     ]
    },
    {
     "data": {
      "image/png": "[encoded data removed]",
      "text/plain": [
       "<Figure size 432x288 with 1 Axes>"
      ]
     },
     "metadata": {
      "needs_background": "light"
     },
     "output_type": "display_data"
    },
    {
     "name": "stdout",
     "output_type": "stream",
     "text": [
      "----------------------------------------------------------------------------------------------------\n",
      "~~~~~~~~~~~~~~~~~~~~~~~~~~~~~~~~~~~~~~~~~~~~~~~~~~~~~~~~~~~~~~~~~~~~~~~~~~~~~~~~~~~~~~~~~~~~~~~~~~~~\n",
      "----------------------------------------------------------------------------------------------------\n",
      "DTI\n",
      "\n",
      "Первые пять строк:\n",
      "index\n",
      "0    1.481454\n",
      "1   -1.313462\n",
      "2   -0.085555\n",
      "3   -1.218276\n",
      "4   -0.556729\n",
      "Name: dti, dtype: float32\n",
      "----------------------------------------------------------------------------------------------------\n",
      "Описательная статистика:\n",
      "count    1.199824e+06\n",
      "mean    -5.586271e-09\n",
      "std      9.997286e-01\n",
      "min     -2.265328e+00\n",
      "25%     -7.494816e-01\n",
      "50%     -5.818901e-02\n",
      "75%      7.056834e-01\n",
      "max      3.798058e+00\n",
      "Name: dti, dtype: float64\n",
      "----------------------------------------------------------------------------------------------------\n",
      "Количество уникальных значений:\n",
      " 0.138133    892\n",
      "-0.147426    863\n",
      "-0.432986    839\n",
      "-0.004647    836\n",
      "-0.290206    815\n",
      "            ... \n",
      " 3.744515      1\n",
      " 2.911632      1\n",
      " 3.210280      1\n",
      " 3.750464      1\n",
      " 3.137701      1\n",
      "Name: dti, Length: 4747, dtype: int64\n",
      "----------------------------------------------------------------------------------------------------\n",
      "Количество пропусков:\n",
      "0\n",
      "----------------------------------------------------------------------------------------------------\n"
     ]
    },
    {
     "data": {
      "image/png": "[encoded data removed]",
      "text/plain": [
       "<Figure size 432x288 with 1 Axes>"
      ]
     },
     "metadata": {
      "needs_background": "light"
     },
     "output_type": "display_data"
    },
    {
     "name": "stdout",
     "output_type": "stream",
     "text": [
      "----------------------------------------------------------------------------------------------------\n",
      "~~~~~~~~~~~~~~~~~~~~~~~~~~~~~~~~~~~~~~~~~~~~~~~~~~~~~~~~~~~~~~~~~~~~~~~~~~~~~~~~~~~~~~~~~~~~~~~~~~~~\n",
      "----------------------------------------------------------------------------------------------------\n",
      "EMP_LENGTH\n",
      "\n",
      "Первые пять строк:\n",
      "index\n",
      "0   -0.417197\n",
      "1    1.141038\n",
      "2   -0.676902\n",
      "3   -1.456020\n",
      "4   -1.456020\n",
      "Name: emp_length, dtype: float32\n",
      "----------------------------------------------------------------------------------------------------\n",
      "Описательная статистика:\n",
      "count    1.199824e+06\n",
      "mean     2.000555e-06\n",
      "std      9.989884e-01\n",
      "min     -1.456020e+00\n",
      "25%     -9.366081e-01\n",
      "50%     -1.574909e-01\n",
      "75%      1.141038e+00\n",
      "max      1.141038e+00\n",
      "Name: emp_length, dtype: float64\n",
      "----------------------------------------------------------------------------------------------------\n",
      "Количество уникальных значений:\n",
      " 1.141038    396909\n",
      "-1.456020    166219\n",
      "-0.936608    109330\n",
      "-0.676902     96811\n",
      "-1.196314     79953\n",
      "-0.157491     75440\n",
      "-0.417197     72996\n",
      " 0.102215     55396\n",
      " 0.621626     51576\n",
      " 0.361921     51166\n",
      " 0.881332     44028\n",
      "Name: emp_length, dtype: int64\n",
      "----------------------------------------------------------------------------------------------------\n",
      "Количество пропусков:\n",
      "0\n",
      "----------------------------------------------------------------------------------------------------\n"
     ]
    },
    {
     "data": {
      "image/png": "[encoded data removed]",
      "text/plain": [
       "<Figure size 432x288 with 1 Axes>"
      ]
     },
     "metadata": {
      "needs_background": "light"
     },
     "output_type": "display_data"
    },
    {
     "name": "stdout",
     "output_type": "stream",
     "text": [
      "----------------------------------------------------------------------------------------------------\n",
      "~~~~~~~~~~~~~~~~~~~~~~~~~~~~~~~~~~~~~~~~~~~~~~~~~~~~~~~~~~~~~~~~~~~~~~~~~~~~~~~~~~~~~~~~~~~~~~~~~~~~\n",
      "----------------------------------------------------------------------------------------------------\n",
      "FICO_RANGE_HIGH\n",
      "\n",
      "Первые пять строк:\n",
      "index\n",
      "0   -0.377219\n",
      "1   -0.377219\n",
      "2   -0.841039\n",
      "3   -0.222612\n",
      "4   -0.841039\n",
      "Name: fico_range_high, dtype: float32\n",
      "----------------------------------------------------------------------------------------------------\n",
      "Описательная статистика:\n",
      "count    1.199824e+06\n",
      "mean    -6.879629e-07\n",
      "std      1.000687e+00\n",
      "min     -1.150253e+00\n",
      "25%     -8.410392e-01\n",
      "50%     -2.226116e-01\n",
      "75%      5.504228e-01\n",
      "max      4.601123e+00\n",
      "Name: fico_range_high, dtype: float64\n",
      "----------------------------------------------------------------------------------------------------\n",
      "Количество уникальных значений:\n",
      "-1.150253    104274\n",
      "-0.841039    101384\n",
      "-0.995646    100855\n",
      "-0.686432     90636\n",
      "-0.531825     90548\n",
      "-0.377219     79989\n",
      "-0.222612     77683\n",
      "-0.068005     69846\n",
      " 0.086602     65110\n",
      " 0.241209     59015\n",
      " 0.395816     52432\n",
      " 0.550423     46250\n",
      " 0.705030     39954\n",
      " 0.859637     32406\n",
      " 1.014243     28114\n",
      " 1.168850     22510\n",
      " 1.323457     20348\n",
      " 1.478064     16412\n",
      " 1.632671     15093\n",
      " 1.787278     13020\n",
      " 1.941885     11112\n",
      " 2.096492     10069\n",
      " 2.251099      8584\n",
      " 2.405705      8018\n",
      " 2.560313      6915\n",
      " 2.714919      5467\n",
      " 2.869526      5208\n",
      " 3.024133      4157\n",
      " 3.178740      3772\n",
      " 3.333347      3040\n",
      " 3.487954      2232\n",
      " 3.642561      1725\n",
      " 3.797168      1312\n",
      " 3.951774       964\n",
      " 4.106381       634\n",
      " 4.260988       359\n",
      " 4.415595       199\n",
      " 4.601123       178\n",
      "Name: fico_range_high, dtype: int64\n",
      "----------------------------------------------------------------------------------------------------\n",
      "Количество пропусков:\n",
      "0\n",
      "----------------------------------------------------------------------------------------------------\n"
     ]
    },
    {
     "data": {
      "image/png": "[encoded data removed]",
      "text/plain": [
       "<Figure size 432x288 with 1 Axes>"
      ]
     },
     "metadata": {
      "needs_background": "light"
     },
     "output_type": "display_data"
    },
    {
     "name": "stdout",
     "output_type": "stream",
     "text": [
      "----------------------------------------------------------------------------------------------------\n",
      "~~~~~~~~~~~~~~~~~~~~~~~~~~~~~~~~~~~~~~~~~~~~~~~~~~~~~~~~~~~~~~~~~~~~~~~~~~~~~~~~~~~~~~~~~~~~~~~~~~~~\n",
      "----------------------------------------------------------------------------------------------------\n",
      "FICO_RANGE_LOW\n",
      "\n",
      "Первые пять строк:\n",
      "index\n",
      "0   -0.377222\n",
      "1   -0.377222\n",
      "2   -0.841052\n",
      "3   -0.222612\n",
      "4   -0.841052\n",
      "Name: fico_range_low, dtype: float32\n",
      "----------------------------------------------------------------------------------------------------\n",
      "Описательная статистика:\n",
      "count    1.199824e+06\n",
      "mean    -1.579081e-07\n",
      "std      1.000688e+00\n",
      "min     -1.150273e+00\n",
      "25%     -8.410523e-01\n",
      "50%     -2.226117e-01\n",
      "75%      5.504390e-01\n",
      "max      4.570303e+00\n",
      "Name: fico_range_low, dtype: float64\n",
      "----------------------------------------------------------------------------------------------------\n",
      "Количество уникальных значений:\n",
      "-1.150273    104274\n",
      "-0.841052    101384\n",
      "-0.995662    100855\n",
      "-0.686442     90636\n",
      "-0.531832     90548\n",
      "-0.377222     79989\n",
      "-0.222612     77683\n",
      "-0.068002     69846\n",
      " 0.086609     65110\n",
      " 0.241219     59015\n",
      " 0.395829     52432\n",
      " 0.550439     46250\n",
      " 0.705049     39954\n",
      " 0.859659     32406\n",
      " 1.014269     28114\n",
      " 1.168880     22510\n",
      " 1.323490     20348\n",
      " 1.478100     16412\n",
      " 1.632710     15093\n",
      " 1.787320     13020\n",
      " 1.941930     11112\n",
      " 2.096540     10069\n",
      " 2.251151      8584\n",
      " 2.405761      8018\n",
      " 2.560371      6915\n",
      " 2.714981      5467\n",
      " 2.869591      5208\n",
      " 3.024201      4157\n",
      " 3.178812      3772\n",
      " 3.333421      3040\n",
      " 3.488032      2232\n",
      " 3.642642      1725\n",
      " 3.797252      1312\n",
      " 3.951862       964\n",
      " 4.106472       634\n",
      " 4.261083       359\n",
      " 4.415693       199\n",
      " 4.570303       178\n",
      "Name: fico_range_low, dtype: int64\n",
      "----------------------------------------------------------------------------------------------------\n",
      "Количество пропусков:\n",
      "0\n",
      "----------------------------------------------------------------------------------------------------\n"
     ]
    },
    {
     "data": {
      "image/png": "[encoded data removed]",
      "text/plain": [
       "<Figure size 432x288 with 1 Axes>"
      ]
     },
     "metadata": {
      "needs_background": "light"
     },
     "output_type": "display_data"
    },
    {
     "name": "stdout",
     "output_type": "stream",
     "text": [
      "----------------------------------------------------------------------------------------------------\n",
      "~~~~~~~~~~~~~~~~~~~~~~~~~~~~~~~~~~~~~~~~~~~~~~~~~~~~~~~~~~~~~~~~~~~~~~~~~~~~~~~~~~~~~~~~~~~~~~~~~~~~\n",
      "----------------------------------------------------------------------------------------------------\n",
      "FUNDED_AMNT\n",
      "\n",
      "Первые пять строк:\n",
      "index\n",
      "0    0.180130\n",
      "1   -0.881392\n",
      "2   -0.497437\n",
      "3   -1.287932\n",
      "4    0.631842\n",
      "Name: funded_amnt, dtype: float32\n",
      "----------------------------------------------------------------------------------------------------\n",
      "Описательная статистика:\n",
      "count    1.199824e+06\n",
      "mean    -1.726476e-07\n",
      "std      9.994997e-01\n",
      "min     -1.570252e+00\n",
      "25%     -7.599944e-01\n",
      "50%     -2.715812e-01\n",
      "75%      6.318421e-01\n",
      "max      2.890400e+00\n",
      "Name: funded_amnt, dtype: float64\n",
      "----------------------------------------------------------------------------------------------------\n",
      "Количество уникальных значений:\n",
      "-0.497437    94596\n",
      "-0.271581    64097\n",
      " 0.631842    63920\n",
      " 0.067203    63154\n",
      "-1.062077    46020\n",
      "             ...  \n",
      "-1.544843        1\n",
      "-1.519435        1\n",
      " 2.732301        1\n",
      " 2.876284        1\n",
      " 2.449981        1\n",
      "Name: funded_amnt, Length: 1562, dtype: int64\n",
      "----------------------------------------------------------------------------------------------------\n",
      "Количество пропусков:\n",
      "0\n",
      "----------------------------------------------------------------------------------------------------\n"
     ]
    },
    {
     "data": {
      "image/png": "[encoded data removed]",
      "text/plain": [
       "<Figure size 432x288 with 1 Axes>"
      ]
     },
     "metadata": {
      "needs_background": "light"
     },
     "output_type": "display_data"
    },
    {
     "name": "stdout",
     "output_type": "stream",
     "text": [
      "----------------------------------------------------------------------------------------------------\n",
      "~~~~~~~~~~~~~~~~~~~~~~~~~~~~~~~~~~~~~~~~~~~~~~~~~~~~~~~~~~~~~~~~~~~~~~~~~~~~~~~~~~~~~~~~~~~~~~~~~~~~\n",
      "----------------------------------------------------------------------------------------------------\n",
      "HOME_OWNERSHIP\n",
      "\n",
      "Первые пять строк:\n",
      "index\n",
      "0    3.0\n",
      "1    0.0\n",
      "2    0.0\n",
      "3    2.0\n",
      "4    3.0\n",
      "Name: home_ownership, dtype: float32\n",
      "----------------------------------------------------------------------------------------------------\n",
      "Описательная статистика:\n",
      "count    1.199824e+06\n",
      "mean     1.426352e+00\n",
      "std      1.421757e+00\n",
      "min      0.000000e+00\n",
      "25%      0.000000e+00\n",
      "50%      2.000000e+00\n",
      "75%      3.000000e+00\n",
      "max      3.000000e+00\n",
      "Name: home_ownership, dtype: float64\n",
      "----------------------------------------------------------------------------------------------------\n",
      "Количество уникальных значений:\n",
      "0.0    584268\n",
      "3.0    481196\n",
      "2.0    133423\n",
      "1.0       937\n",
      "Name: home_ownership, dtype: int64\n",
      "----------------------------------------------------------------------------------------------------\n",
      "Количество пропусков:\n",
      "0\n",
      "----------------------------------------------------------------------------------------------------\n"
     ]
    },
    {
     "data": {
      "image/png": "[encoded data removed]",
      "text/plain": [
       "<Figure size 432x288 with 1 Axes>"
      ]
     },
     "metadata": {
      "needs_background": "light"
     },
     "output_type": "display_data"
    },
    {
     "name": "stdout",
     "output_type": "stream",
     "text": [
      "----------------------------------------------------------------------------------------------------\n",
      "~~~~~~~~~~~~~~~~~~~~~~~~~~~~~~~~~~~~~~~~~~~~~~~~~~~~~~~~~~~~~~~~~~~~~~~~~~~~~~~~~~~~~~~~~~~~~~~~~~~~\n",
      "----------------------------------------------------------------------------------------------------\n",
      "INQ_LAST_12M\n",
      "\n",
      "Первые пять строк:\n",
      "index\n",
      "0   -0.071661\n",
      "1   -0.549923\n",
      "2   -0.549923\n",
      "3   -0.549923\n",
      "4   -0.549923\n",
      "Name: inq_last_12m, dtype: float32\n",
      "----------------------------------------------------------------------------------------------------\n",
      "Описательная статистика:\n",
      "count    1.199824e+06\n",
      "mean    -7.782625e-07\n",
      "std      9.999166e-01\n",
      "min     -5.499235e-01\n",
      "25%     -5.499235e-01\n",
      "50%     -5.499235e-01\n",
      "75%      4.066021e-01\n",
      "max      2.288495e+01\n",
      "Name: inq_last_12m, dtype: float64\n",
      "----------------------------------------------------------------------------------------------------\n",
      "Количество уникальных значений:\n",
      "-0.549923     731213\n",
      "-0.071661     151569\n",
      " 0.406602     111063\n",
      " 0.884865      73983\n",
      " 1.363128      47242\n",
      " 1.841390      29800\n",
      " 2.319653      18779\n",
      " 2.797916      12015\n",
      " 3.276179       7904\n",
      " 3.754442       5154\n",
      " 4.232705       3278\n",
      " 4.710968       2316\n",
      " 5.189230       1596\n",
      " 5.667493       1069\n",
      " 6.145756        765\n",
      " 6.624019        549\n",
      " 7.102282        412\n",
      " 7.580544        271\n",
      " 8.058807        216\n",
      " 8.537069        166\n",
      " 9.015332        102\n",
      " 9.493595         78\n",
      " 9.971858         63\n",
      " 10.450121        41\n",
      " 11.406647        29\n",
      " 10.928384        29\n",
      " 11.884910        27\n",
      " 12.363173        22\n",
      " 13.797960        12\n",
      " 13.319697        11\n",
      " 12.841434        10\n",
      " 14.276223         8\n",
      " 14.754486         6\n",
      " 15.711012         5\n",
      " 15.232749         5\n",
      " 18.102325         3\n",
      " 16.189274         2\n",
      " 19.537113         2\n",
      " 18.580589         2\n",
      " 16.667538         2\n",
      " 21.450165         1\n",
      " 17.624063         1\n",
      " 19.058851         1\n",
      " 20.971903         1\n",
      " 22.884954         1\n",
      "Name: inq_last_12m, dtype: int64\n",
      "----------------------------------------------------------------------------------------------------\n",
      "Количество пропусков:\n",
      "0\n",
      "----------------------------------------------------------------------------------------------------\n"
     ]
    },
    {
     "data": {
      "image/png": "[encoded data removed]",
      "text/plain": [
       "<Figure size 432x288 with 1 Axes>"
      ]
     },
     "metadata": {
      "needs_background": "light"
     },
     "output_type": "display_data"
    },
    {
     "name": "stdout",
     "output_type": "stream",
     "text": [
      "----------------------------------------------------------------------------------------------------\n",
      "~~~~~~~~~~~~~~~~~~~~~~~~~~~~~~~~~~~~~~~~~~~~~~~~~~~~~~~~~~~~~~~~~~~~~~~~~~~~~~~~~~~~~~~~~~~~~~~~~~~~\n",
      "----------------------------------------------------------------------------------------------------\n",
      "INSTALLMENT\n",
      "\n",
      "Первые пять строк:\n",
      "index\n",
      "0    0.393433\n",
      "1   -0.838661\n",
      "2   -0.445276\n",
      "3   -1.276055\n",
      "4    0.633736\n",
      "Name: installment, dtype: float32\n",
      "----------------------------------------------------------------------------------------------------\n",
      "Описательная статистика:\n",
      "count    1.199824e+06\n",
      "mean    -1.754303e-08\n",
      "std      9.996452e-01\n",
      "min     -1.632867e+00\n",
      "25%     -7.233654e-01\n",
      "50%     -2.464395e-01\n",
      "75%      5.365750e-01\n",
      "max      4.873221e+00\n",
      "Name: installment, dtype: float64\n",
      "----------------------------------------------------------------------------------------------------\n",
      "Количество уникальных значений:\n",
      "-0.509050    2530\n",
      "-0.409689    2246\n",
      "-0.391630    2235\n",
      "-0.280546    2028\n",
      " 0.062229    1833\n",
      "             ... \n",
      " 2.080486       1\n",
      "-1.281328       1\n",
      " 0.174451       1\n",
      "-0.055153       1\n",
      "-0.245643       1\n",
      "Name: installment, Length: 81215, dtype: int64\n",
      "----------------------------------------------------------------------------------------------------\n",
      "Количество пропусков:\n",
      "0\n",
      "----------------------------------------------------------------------------------------------------\n"
     ]
    },
    {
     "data": {
      "image/png": "[encoded data removed]",
      "text/plain": [
       "<Figure size 432x288 with 1 Axes>"
      ]
     },
     "metadata": {
      "needs_background": "light"
     },
     "output_type": "display_data"
    },
    {
     "name": "stdout",
     "output_type": "stream",
     "text": [
      "----------------------------------------------------------------------------------------------------\n",
      "~~~~~~~~~~~~~~~~~~~~~~~~~~~~~~~~~~~~~~~~~~~~~~~~~~~~~~~~~~~~~~~~~~~~~~~~~~~~~~~~~~~~~~~~~~~~~~~~~~~~\n",
      "----------------------------------------------------------------------------------------------------\n",
      "INT_RATE\n",
      "\n",
      "Первые пять строк:\n",
      "index\n",
      "0   -0.030149\n",
      "1   -0.566474\n",
      "2   -0.864896\n",
      "3   -0.334832\n",
      "4    2.747472\n",
      "Name: int_rate, dtype: float32\n",
      "----------------------------------------------------------------------------------------------------\n",
      "Описательная статистика:\n",
      "count    1.199824e+06\n",
      "mean    -3.254692e-09\n",
      "std      9.994149e-01\n",
      "min     -1.632864e+00\n",
      "25%     -7.605527e-01\n",
      "50%     -9.275498e-02\n",
      "75%      5.959114e-01\n",
      "max      3.726213e+00\n",
      "Name: int_rate, dtype: float64\n",
      "----------------------------------------------------------------------------------------------------\n",
      "Количество уникальных значений:\n",
      "-0.447523    28586\n",
      "-0.238836    27545\n",
      "-1.630777    27417\n",
      " 0.178538    25416\n",
      "-0.343179    19940\n",
      "             ...  \n",
      " 0.911029        1\n",
      " 0.416441        1\n",
      " 1.257449        1\n",
      " 0.898507        1\n",
      " 0.468612        1\n",
      "Name: int_rate, Length: 668, dtype: int64\n",
      "----------------------------------------------------------------------------------------------------\n",
      "Количество пропусков:\n",
      "0\n",
      "----------------------------------------------------------------------------------------------------\n"
     ]
    },
    {
     "data": {
      "image/png": "[encoded data removed]",
      "text/plain": [
       "<Figure size 432x288 with 1 Axes>"
      ]
     },
     "metadata": {
      "needs_background": "light"
     },
     "output_type": "display_data"
    },
    {
     "name": "stdout",
     "output_type": "stream",
     "text": [
      "----------------------------------------------------------------------------------------------------\n",
      "~~~~~~~~~~~~~~~~~~~~~~~~~~~~~~~~~~~~~~~~~~~~~~~~~~~~~~~~~~~~~~~~~~~~~~~~~~~~~~~~~~~~~~~~~~~~~~~~~~~~\n",
      "----------------------------------------------------------------------------------------------------\n",
      "LOAN_AMNT\n",
      "\n",
      "Первые пять строк:\n",
      "index\n",
      "0    0.179368\n",
      "1   -0.881817\n",
      "2   -0.497984\n",
      "3   -1.288228\n",
      "4    0.630936\n",
      "Name: loan_amnt, dtype: float32\n",
      "----------------------------------------------------------------------------------------------------\n",
      "Описательная статистика:\n",
      "count    1.199824e+06\n",
      "mean     1.621266e-07\n",
      "std      9.990711e-01\n",
      "min     -1.570458e+00\n",
      "25%     -7.576359e-01\n",
      "50%     -2.722002e-01\n",
      "75%      6.309361e-01\n",
      "max      2.888777e+00\n",
      "Name: loan_amnt, dtype: float64\n",
      "----------------------------------------------------------------------------------------------------\n",
      "Количество уникальных значений:\n",
      "-0.497984    94654\n",
      "-0.272200    64162\n",
      " 0.630936    64045\n",
      " 0.066476    63232\n",
      "-1.062444    46026\n",
      "             ...  \n",
      " 2.874665        1\n",
      " 2.733550        1\n",
      " 2.750484        1\n",
      " 2.730728        1\n",
      " 2.448498        1\n",
      "Name: loan_amnt, Length: 1562, dtype: int64\n",
      "----------------------------------------------------------------------------------------------------\n",
      "Количество пропусков:\n",
      "0\n",
      "----------------------------------------------------------------------------------------------------\n"
     ]
    },
    {
     "data": {
      "image/png": "[encoded data removed]",
      "text/plain": [
       "<Figure size 432x288 with 1 Axes>"
      ]
     },
     "metadata": {
      "needs_background": "light"
     },
     "output_type": "display_data"
    },
    {
     "name": "stdout",
     "output_type": "stream",
     "text": [
      "----------------------------------------------------------------------------------------------------\n",
      "~~~~~~~~~~~~~~~~~~~~~~~~~~~~~~~~~~~~~~~~~~~~~~~~~~~~~~~~~~~~~~~~~~~~~~~~~~~~~~~~~~~~~~~~~~~~~~~~~~~~\n",
      "----------------------------------------------------------------------------------------------------\n",
      "MORT_ACC\n",
      "\n",
      "Первые пять строк:\n",
      "index\n",
      "0    1.745358\n",
      "1    0.206104\n",
      "2    0.719189\n",
      "3   -0.820065\n",
      "4   -0.820065\n",
      "Name: mort_acc, dtype: float32\n",
      "----------------------------------------------------------------------------------------------------\n",
      "Описательная статистика:\n",
      "count    1.168320e+06\n",
      "mean    -9.220938e-07\n",
      "std      1.002084e+00\n",
      "min     -8.200647e-01\n",
      "25%     -8.200647e-01\n",
      "50%     -3.069802e-01\n",
      "75%      7.191886e-01\n",
      "max      3.047808e+01\n",
      "Name: mort_acc, dtype: float64\n",
      "----------------------------------------------------------------------------------------------------\n",
      "Количество уникальных значений:\n",
      "-0.820065     486698\n",
      "-0.306980     204887\n",
      " 0.206104     170009\n",
      " 0.719189     122486\n",
      " 1.232273      81246\n",
      " 1.745358      48355\n",
      " 2.258442      26732\n",
      " 2.771526      13676\n",
      " 3.284611       6739\n",
      " 3.797695       3450\n",
      " 4.310780       1772\n",
      " 4.823864        944\n",
      " 5.336948        485\n",
      " 5.850033        268\n",
      " 6.363117        196\n",
      " 6.876202        103\n",
      " 7.389286         73\n",
      " 7.902370         45\n",
      " 8.415455         33\n",
      " 8.928539         24\n",
      " 9.441624         22\n",
      " 11.493961        14\n",
      " 10.467793        14\n",
      " 9.954708          9\n",
      " 10.980877         9\n",
      " 13.033215         6\n",
      " 12.007046         5\n",
      " 16.624805         3\n",
      " 14.059383         3\n",
      " 15.085552         2\n",
      " 14.572468         2\n",
      " 13.546299         2\n",
      " 12.520130         2\n",
      " 22.268734         1\n",
      " 30.478085         1\n",
      " 17.137890         1\n",
      " 17.650974         1\n",
      " 15.598637         1\n",
      " 23.294903         1\n",
      "Name: mort_acc, dtype: int64\n",
      "----------------------------------------------------------------------------------------------------\n",
      "Количество пропусков:\n",
      "31504\n",
      "----------------------------------------------------------------------------------------------------\n"
     ]
    },
    {
     "data": {
      "image/png": "[encoded data removed]",
      "text/plain": [
       "<Figure size 432x288 with 1 Axes>"
      ]
     },
     "metadata": {
      "needs_background": "light"
     },
     "output_type": "display_data"
    },
    {
     "name": "stdout",
     "output_type": "stream",
     "text": [
      "----------------------------------------------------------------------------------------------------\n",
      "~~~~~~~~~~~~~~~~~~~~~~~~~~~~~~~~~~~~~~~~~~~~~~~~~~~~~~~~~~~~~~~~~~~~~~~~~~~~~~~~~~~~~~~~~~~~~~~~~~~~\n",
      "----------------------------------------------------------------------------------------------------\n",
      "MTHS_SINCE_LAST_DELINQ\n",
      "\n",
      "Первые пять строк:\n",
      "index\n",
      "0    1.430147\n",
      "1   -0.736405\n",
      "2   -0.303094\n",
      "3   -0.736405\n",
      "4    0.303540\n",
      "Name: mths_since_last_delinq, dtype: float32\n",
      "----------------------------------------------------------------------------------------------------\n",
      "Описательная статистика:\n",
      "count    1.199824e+06\n",
      "mean     1.101390e-06\n",
      "std      1.000269e+00\n",
      "min     -7.364046e-01\n",
      "25%     -7.364046e-01\n",
      "50%     -7.364046e-01\n",
      "75%      6.068574e-01\n",
      "max      9.056409e+00\n",
      "Name: mths_since_last_delinq, dtype: float64\n",
      "----------------------------------------------------------------------------------------------------\n",
      "Количество уникальных значений:\n",
      "-0.736405    608769\n",
      "-0.216432     11204\n",
      "-0.476418     11180\n",
      "-0.173101     11179\n",
      "-0.346425     10985\n",
      "              ...  \n",
      " 4.766636         1\n",
      " 5.806581         1\n",
      " 6.283223         1\n",
      " 9.056409         1\n",
      " 5.893243         1\n",
      "Name: mths_since_last_delinq, Length: 167, dtype: int64\n",
      "----------------------------------------------------------------------------------------------------\n",
      "Количество пропусков:\n",
      "0\n",
      "----------------------------------------------------------------------------------------------------\n"
     ]
    },
    {
     "data": {
      "image/png": "[encoded data removed]",
      "text/plain": [
       "<Figure size 432x288 with 1 Axes>"
      ]
     },
     "metadata": {
      "needs_background": "light"
     },
     "output_type": "display_data"
    },
    {
     "name": "stdout",
     "output_type": "stream",
     "text": [
      "----------------------------------------------------------------------------------------------------\n",
      "~~~~~~~~~~~~~~~~~~~~~~~~~~~~~~~~~~~~~~~~~~~~~~~~~~~~~~~~~~~~~~~~~~~~~~~~~~~~~~~~~~~~~~~~~~~~~~~~~~~~\n",
      "----------------------------------------------------------------------------------------------------\n",
      "MTHS_SINCE_RECENT_BC_DLQ\n",
      "\n",
      "Первые пять строк:\n",
      "index\n",
      "0    2.782199\n",
      "1   -0.464034\n",
      "2   -0.464034\n",
      "3   -0.464034\n",
      "4   -0.464034\n",
      "Name: mths_since_recent_bc_dlq, dtype: float32\n",
      "----------------------------------------------------------------------------------------------------\n",
      "Описательная статистика:\n",
      "count    1.199824e+06\n",
      "mean    -3.678484e-06\n",
      "std      9.972227e-01\n",
      "min     -4.640337e-01\n",
      "25%     -4.640337e-01\n",
      "50%     -4.640337e-01\n",
      "75%     -4.640337e-01\n",
      "max      9.424490e+00\n",
      "Name: mths_since_recent_bc_dlq, dtype: float64\n",
      "----------------------------------------------------------------------------------------------------\n",
      "Количество уникальных значений:\n",
      "-0.464034    917633\n",
      " 0.784517      4360\n",
      " 0.834459      4341\n",
      " 0.934343      4304\n",
      " 0.484865      4240\n",
      "              ...  \n",
      " 7.376866         1\n",
      " 9.424490         1\n",
      " 6.677678         1\n",
      " 7.077214         1\n",
      " 7.576634         1\n",
      "Name: mths_since_recent_bc_dlq, Length: 168, dtype: int64\n",
      "----------------------------------------------------------------------------------------------------\n",
      "Количество пропусков:\n",
      "0\n",
      "----------------------------------------------------------------------------------------------------\n"
     ]
    },
    {
     "data": {
      "image/png": "[encoded data removed]",
      "text/plain": [
       "<Figure size 432x288 with 1 Axes>"
      ]
     },
     "metadata": {
      "needs_background": "light"
     },
     "output_type": "display_data"
    },
    {
     "name": "stdout",
     "output_type": "stream",
     "text": [
      "----------------------------------------------------------------------------------------------------\n",
      "~~~~~~~~~~~~~~~~~~~~~~~~~~~~~~~~~~~~~~~~~~~~~~~~~~~~~~~~~~~~~~~~~~~~~~~~~~~~~~~~~~~~~~~~~~~~~~~~~~~~\n",
      "----------------------------------------------------------------------------------------------------\n",
      "MTHS_SINCE_RECENT_INQ\n",
      "\n",
      "Первые пять строк:\n",
      "index\n",
      "0    0.004199\n",
      "1   -1.004251\n",
      "2    1.180724\n",
      "3    1.684949\n",
      "4    1.516874\n",
      "Name: mths_since_recent_inq, dtype: float32\n",
      "----------------------------------------------------------------------------------------------------\n",
      "Описательная статистика:\n",
      "count    1.199824e+06\n",
      "mean     3.262487e-07\n",
      "std      9.985580e-01\n",
      "min     -1.004251e+00\n",
      "25%     -8.361760e-01\n",
      "50%     -3.319510e-01\n",
      "75%      5.084240e-01\n",
      "max      3.197624e+00\n",
      "Name: mths_since_recent_inq, dtype: float64\n",
      "----------------------------------------------------------------------------------------------------\n",
      "Количество уникальных значений:\n",
      "-1.004251    243441\n",
      "-0.836176    118139\n",
      "-0.668101     94864\n",
      "-0.500026     86089\n",
      "-0.331951     78176\n",
      "-0.163876     69042\n",
      " 0.004199     62004\n",
      " 0.172274     58430\n",
      " 0.340349     51535\n",
      " 0.508424     45085\n",
      " 0.676499     39419\n",
      " 0.844574     35200\n",
      " 1.012649     31642\n",
      " 1.180724     28308\n",
      " 1.348799     25036\n",
      " 1.516874     21634\n",
      " 1.684949     19045\n",
      " 1.853024     17007\n",
      " 2.021099     15097\n",
      " 2.189174     13587\n",
      " 2.357249     12200\n",
      " 2.525324     11000\n",
      " 2.693399     10002\n",
      " 2.861474      9275\n",
      " 3.029549      4552\n",
      " 3.197624        15\n",
      "Name: mths_since_recent_inq, dtype: int64\n",
      "----------------------------------------------------------------------------------------------------\n",
      "Количество пропусков:\n",
      "0\n",
      "----------------------------------------------------------------------------------------------------\n"
     ]
    },
    {
     "data": {
      "image/png": "[encoded data removed]",
      "text/plain": [
       "<Figure size 432x288 with 1 Axes>"
      ]
     },
     "metadata": {
      "needs_background": "light"
     },
     "output_type": "display_data"
    },
    {
     "name": "stdout",
     "output_type": "stream",
     "text": [
      "----------------------------------------------------------------------------------------------------\n",
      "~~~~~~~~~~~~~~~~~~~~~~~~~~~~~~~~~~~~~~~~~~~~~~~~~~~~~~~~~~~~~~~~~~~~~~~~~~~~~~~~~~~~~~~~~~~~~~~~~~~~\n",
      "----------------------------------------------------------------------------------------------------\n",
      "NUM_ACCTS_EVER_120_PD\n",
      "\n",
      "Первые пять строк:\n",
      "index\n",
      "0    1.836753\n",
      "1   -0.378444\n",
      "2   -0.378444\n",
      "3   -0.378444\n",
      "4   -0.378444\n",
      "Name: num_accts_ever_120_pd, dtype: float32\n",
      "----------------------------------------------------------------------------------------------------\n",
      "Описательная статистика:\n",
      "count    1.154852e+06\n",
      "mean    -9.441921e-07\n",
      "std      9.968410e-01\n",
      "min     -3.784445e-01\n",
      "25%     -3.784445e-01\n",
      "50%     -3.784445e-01\n",
      "75%     -3.784445e-01\n",
      "max      3.727991e+01\n",
      "Name: num_accts_ever_120_pd, dtype: float64\n",
      "----------------------------------------------------------------------------------------------------\n",
      "Количество уникальных значений:\n",
      "-0.378444     883335\n",
      " 0.359955     144907\n",
      " 1.098354      57473\n",
      " 1.836753      26485\n",
      " 2.575152      15713\n",
      " 3.313551       9370\n",
      " 4.051950       6073\n",
      " 4.790349       3858\n",
      " 5.528749       2452\n",
      " 6.267148       1633\n",
      " 7.005547       1132\n",
      " 7.743946        676\n",
      " 8.482345        526\n",
      " 9.220744        287\n",
      " 9.959143        275\n",
      " 10.697542       155\n",
      " 11.435942       116\n",
      " 12.174340        76\n",
      " 12.912740        61\n",
      " 13.651138        40\n",
      " 14.389538        39\n",
      " 15.127937        29\n",
      " 15.866336        29\n",
      " 16.604734        22\n",
      " 17.343134        17\n",
      " 18.081533        11\n",
      " 18.819933        11\n",
      " 19.558332         7\n",
      " 20.296730         6\n",
      " 21.035130         6\n",
      " 21.773529         5\n",
      " 23.250328         5\n",
      " 25.465525         4\n",
      " 22.511929         4\n",
      " 24.727125         3\n",
      " 26.203924         2\n",
      " 28.419121         2\n",
      " 23.988726         2\n",
      " 26.942324         1\n",
      " 27.680721         1\n",
      " 37.279911         1\n",
      " 30.634319         1\n",
      " 32.849514         1\n",
      "Name: num_accts_ever_120_pd, dtype: int64\n",
      "----------------------------------------------------------------------------------------------------\n",
      "Количество пропусков:\n",
      "44972\n",
      "----------------------------------------------------------------------------------------------------\n"
     ]
    },
    {
     "data": {
      "image/png": "[encoded data removed]",
      "text/plain": [
       "<Figure size 432x288 with 1 Axes>"
      ]
     },
     "metadata": {
      "needs_background": "light"
     },
     "output_type": "display_data"
    },
    {
     "name": "stdout",
     "output_type": "stream",
     "text": [
      "----------------------------------------------------------------------------------------------------\n",
      "~~~~~~~~~~~~~~~~~~~~~~~~~~~~~~~~~~~~~~~~~~~~~~~~~~~~~~~~~~~~~~~~~~~~~~~~~~~~~~~~~~~~~~~~~~~~~~~~~~~~\n",
      "----------------------------------------------------------------------------------------------------\n",
      "NUM_ACTV_BC_TL\n",
      "\n",
      "Первые пять строк:\n",
      "index\n",
      "0    0.150735\n",
      "1   -0.286853\n",
      "2   -1.162027\n",
      "3   -0.286853\n",
      "4   -1.162027\n",
      "Name: num_actv_bc_tl, dtype: float32\n",
      "----------------------------------------------------------------------------------------------------\n",
      "Описательная статистика:\n",
      "count    1.154852e+06\n",
      "mean    -4.292576e-07\n",
      "std      9.992161e-01\n",
      "min     -1.599615e+00\n",
      "25%     -7.244400e-01\n",
      "50%     -2.868527e-01\n",
      "75%      5.883219e-01\n",
      "max      2.027975e+01\n",
      "Name: num_actv_bc_tl, dtype: float64\n",
      "----------------------------------------------------------------------------------------------------\n",
      "Количество уникальных значений:\n",
      "-0.286853     245180\n",
      "-0.724440     235160\n",
      " 0.150735     190042\n",
      "-1.162027     134170\n",
      " 0.588322     127164\n",
      " 1.025909      79592\n",
      " 1.463497      47434\n",
      " 1.901084      28385\n",
      "-1.599615      25353\n",
      " 2.338671      16928\n",
      " 2.776258       9829\n",
      " 3.213846       6035\n",
      " 3.651433       3644\n",
      " 4.089021       2229\n",
      " 4.526608       1272\n",
      " 4.964195        874\n",
      " 5.401783        492\n",
      " 5.839370        372\n",
      " 6.276957        237\n",
      " 6.714544        154\n",
      " 7.152132         93\n",
      " 7.589719         67\n",
      " 8.027307         47\n",
      " 8.464893         25\n",
      " 8.902481         24\n",
      " 9.340069         14\n",
      " 9.777656         13\n",
      " 10.215243         5\n",
      " 12.403179         4\n",
      " 11.528005         4\n",
      " 11.090418         3\n",
      " 10.652830         2\n",
      " 12.840767         2\n",
      " 18.091814         1\n",
      " 20.279751         1\n",
      " 18.529402         1\n",
      "Name: num_actv_bc_tl, dtype: int64\n",
      "----------------------------------------------------------------------------------------------------\n",
      "Количество пропусков:\n",
      "44972\n",
      "----------------------------------------------------------------------------------------------------\n"
     ]
    },
    {
     "data": {
      "image/png": "[encoded data removed]",
      "text/plain": [
       "<Figure size 432x288 with 1 Axes>"
      ]
     },
     "metadata": {
      "needs_background": "light"
     },
     "output_type": "display_data"
    },
    {
     "name": "stdout",
     "output_type": "stream",
     "text": [
      "----------------------------------------------------------------------------------------------------\n",
      "~~~~~~~~~~~~~~~~~~~~~~~~~~~~~~~~~~~~~~~~~~~~~~~~~~~~~~~~~~~~~~~~~~~~~~~~~~~~~~~~~~~~~~~~~~~~~~~~~~~~\n",
      "----------------------------------------------------------------------------------------------------\n",
      "NUM_REV_ACCTS\n",
      "\n",
      "Первые пять строк:\n",
      "index\n",
      "0    0.328949\n",
      "1   -0.779816\n",
      "2    1.068125\n",
      "3   -0.410228\n",
      "4   -1.395796\n",
      "Name: num_rev_accts, dtype: float32\n",
      "----------------------------------------------------------------------------------------------------\n",
      "Описательная статистика:\n",
      "count    1.154851e+06\n",
      "mean    -3.549112e-08\n",
      "std      1.000308e+00\n",
      "min     -1.765384e+00\n",
      "25%     -7.798157e-01\n",
      "50%     -1.638355e-01\n",
      "75%      4.521447e-01\n",
      "max      1.400371e+01\n",
      "Name: num_rev_accts, dtype: float64\n",
      "----------------------------------------------------------------------------------------------------\n",
      "Количество уникальных значений:\n",
      "-0.533424     69015\n",
      "-0.656620     68212\n",
      "-0.410228     67623\n",
      "-0.779816     65706\n",
      "-0.287032     65225\n",
      "              ...  \n",
      " 13.880513        1\n",
      " 10.677416        1\n",
      " 11.047004        1\n",
      " 12.032573        1\n",
      " 12.648553        1\n",
      "Name: num_rev_accts, Length: 111, dtype: int64\n",
      "----------------------------------------------------------------------------------------------------\n",
      "Количество пропусков:\n",
      "44973\n",
      "----------------------------------------------------------------------------------------------------\n"
     ]
    },
    {
     "data": {
      "image/png": "[encoded data removed]",
      "text/plain": [
       "<Figure size 432x288 with 1 Axes>"
      ]
     },
     "metadata": {
      "needs_background": "light"
     },
     "output_type": "display_data"
    },
    {
     "name": "stdout",
     "output_type": "stream",
     "text": [
      "----------------------------------------------------------------------------------------------------\n",
      "~~~~~~~~~~~~~~~~~~~~~~~~~~~~~~~~~~~~~~~~~~~~~~~~~~~~~~~~~~~~~~~~~~~~~~~~~~~~~~~~~~~~~~~~~~~~~~~~~~~~\n",
      "----------------------------------------------------------------------------------------------------\n",
      "NUM_SATS\n",
      "\n",
      "Первые пять строк:\n",
      "index\n",
      "0    0.421859\n",
      "1   -1.190981\n",
      "2   -0.832572\n",
      "3    1.317881\n",
      "4   -1.370185\n",
      "Name: num_sats, dtype: float32\n",
      "----------------------------------------------------------------------------------------------------\n",
      "Описательная статистика:\n",
      "count    1.162566e+06\n",
      "mean    -4.783893e-07\n",
      "std      9.998528e-01\n",
      "min     -2.087003e+00\n",
      "25%     -6.533676e-01\n",
      "50%     -1.157544e-01\n",
      "75%      4.218588e-01\n",
      "max      1.404139e+01\n",
      "Name: num_sats, dtype: float64\n",
      "----------------------------------------------------------------------------------------------------\n",
      "Количество уникальных значений:\n",
      "-0.474163     101919\n",
      "-0.294959      98880\n",
      "-0.653368      98313\n",
      "-0.115754      91449\n",
      "-0.832572      88568\n",
      "               ...  \n",
      " 11.711736         1\n",
      " 10.098896         1\n",
      " 12.428554         1\n",
      " 11.890940         1\n",
      " 13.503779         1\n",
      "Name: num_sats, Length: 83, dtype: int64\n",
      "----------------------------------------------------------------------------------------------------\n",
      "Количество пропусков:\n",
      "37258\n",
      "----------------------------------------------------------------------------------------------------\n"
     ]
    },
    {
     "data": {
      "image/png": "[encoded data removed]",
      "text/plain": [
       "<Figure size 432x288 with 1 Axes>"
      ]
     },
     "metadata": {
      "needs_background": "light"
     },
     "output_type": "display_data"
    },
    {
     "name": "stdout",
     "output_type": "stream",
     "text": [
      "----------------------------------------------------------------------------------------------------\n",
      "~~~~~~~~~~~~~~~~~~~~~~~~~~~~~~~~~~~~~~~~~~~~~~~~~~~~~~~~~~~~~~~~~~~~~~~~~~~~~~~~~~~~~~~~~~~~~~~~~~~~\n",
      "----------------------------------------------------------------------------------------------------\n",
      "NUM_TL_120DPD_2M\n",
      "\n",
      "Первые пять строк:\n",
      "index\n",
      "0   -0.024129\n",
      "1   -0.024129\n",
      "2   -0.024129\n",
      "3   -0.024129\n",
      "4   -0.024129\n",
      "Name: num_tl_120dpd_2m, dtype: float32\n",
      "----------------------------------------------------------------------------------------------------\n",
      "Описательная статистика:\n",
      "count    1.199824e+06\n",
      "mean    -3.047852e-06\n",
      "std      9.997144e-01\n",
      "min     -2.412917e-02\n",
      "25%     -2.412917e-02\n",
      "50%     -2.412917e-02\n",
      "75%     -2.412917e-02\n",
      "max      2.168355e+02\n",
      "Name: num_tl_120dpd_2m, dtype: float64\n",
      "----------------------------------------------------------------------------------------------------\n",
      "Количество уникальных значений:\n",
      "-0.024129      1199066\n",
      " 36.119137         724\n",
      " 72.262405          29\n",
      " 108.405670          3\n",
      " 144.548935          1\n",
      " 216.835480          1\n",
      "Name: num_tl_120dpd_2m, dtype: int64\n",
      "----------------------------------------------------------------------------------------------------\n",
      "Количество пропусков:\n",
      "0\n",
      "----------------------------------------------------------------------------------------------------\n"
     ]
    },
    {
     "data": {
      "image/png": "[encoded data removed]",
      "text/plain": [
       "<Figure size 432x288 with 1 Axes>"
      ]
     },
     "metadata": {
      "needs_background": "light"
     },
     "output_type": "display_data"
    },
    {
     "name": "stdout",
     "output_type": "stream",
     "text": [
      "----------------------------------------------------------------------------------------------------\n",
      "~~~~~~~~~~~~~~~~~~~~~~~~~~~~~~~~~~~~~~~~~~~~~~~~~~~~~~~~~~~~~~~~~~~~~~~~~~~~~~~~~~~~~~~~~~~~~~~~~~~~\n",
      "----------------------------------------------------------------------------------------------------\n",
      "NUM_TL_30DPD\n",
      "\n",
      "Первые пять строк:\n",
      "index\n",
      "0   -0.052818\n",
      "1   -0.052818\n",
      "2   -0.052818\n",
      "3   -0.052818\n",
      "4   -0.052818\n",
      "Name: num_tl_30dpd, dtype: float32\n",
      "----------------------------------------------------------------------------------------------------\n",
      "Описательная статистика:\n",
      "count    1.154852e+06\n",
      "mean     3.026592e-06\n",
      "std      9.986823e-01\n",
      "min     -5.281753e-02\n",
      "25%     -5.281753e-02\n",
      "50%     -5.281753e-02\n",
      "75%     -5.281753e-02\n",
      "max      6.712387e+01\n",
      "Name: num_tl_30dpd, dtype: float64\n",
      "----------------------------------------------------------------------------------------------------\n",
      "Количество уникальных значений:\n",
      "-0.052818     1151425\n",
      " 16.741356       3251\n",
      " 33.535530        150\n",
      " 50.329700         23\n",
      " 67.123871          3\n",
      "Name: num_tl_30dpd, dtype: int64\n",
      "----------------------------------------------------------------------------------------------------\n",
      "Количество пропусков:\n",
      "44972\n",
      "----------------------------------------------------------------------------------------------------\n"
     ]
    },
    {
     "data": {
      "image/png": "[encoded data removed]",
      "text/plain": [
       "<Figure size 432x288 with 1 Axes>"
      ]
     },
     "metadata": {
      "needs_background": "light"
     },
     "output_type": "display_data"
    },
    {
     "name": "stdout",
     "output_type": "stream",
     "text": [
      "----------------------------------------------------------------------------------------------------\n",
      "~~~~~~~~~~~~~~~~~~~~~~~~~~~~~~~~~~~~~~~~~~~~~~~~~~~~~~~~~~~~~~~~~~~~~~~~~~~~~~~~~~~~~~~~~~~~~~~~~~~~\n",
      "----------------------------------------------------------------------------------------------------\n",
      "NUM_TL_90G_DPD_24M\n",
      "\n",
      "Первые пять строк:\n",
      "index\n",
      "0   -0.172549\n",
      "1   -0.172549\n",
      "2   -0.172549\n",
      "3   -0.172549\n",
      "4   -0.172549\n",
      "Name: num_tl_90g_dpd_24m, dtype: float32\n",
      "----------------------------------------------------------------------------------------------------\n",
      "Описательная статистика:\n",
      "count    1.154852e+06\n",
      "mean     2.214417e-06\n",
      "std      9.926450e-01\n",
      "min     -1.725492e-01\n",
      "25%     -1.725492e-01\n",
      "50%     -1.725492e-01\n",
      "75%     -1.725492e-01\n",
      "max      8.341837e+01\n",
      "Name: num_tl_90g_dpd_24m, dtype: float64\n",
      "----------------------------------------------------------------------------------------------------\n",
      "Количество уникальных значений:\n",
      "-0.172549     1090514\n",
      " 1.817711       48172\n",
      " 3.807971        9495\n",
      " 5.798231        2622\n",
      " 7.788491        1428\n",
      " 9.778750         776\n",
      " 11.769011        594\n",
      " 13.759271        345\n",
      " 15.749531        268\n",
      " 17.739790        192\n",
      " 19.730051        124\n",
      " 21.720310         87\n",
      " 23.710571         66\n",
      " 25.700830         47\n",
      " 27.691092         41\n",
      " 29.681351         28\n",
      " 31.671610         11\n",
      " 39.632652          9\n",
      " 33.661869          8\n",
      " 35.652130          8\n",
      " 37.642391          6\n",
      " 51.574211          3\n",
      " 43.613171          2\n",
      " 59.535252          1\n",
      " 57.544991          1\n",
      " 83.418373          1\n",
      " 47.593689          1\n",
      " 41.622910          1\n",
      " 77.447594          1\n",
      "Name: num_tl_90g_dpd_24m, dtype: int64\n",
      "----------------------------------------------------------------------------------------------------\n",
      "Количество пропусков:\n",
      "44972\n",
      "----------------------------------------------------------------------------------------------------\n"
     ]
    },
    {
     "data": {
      "image/png": "[encoded data removed]",
      "text/plain": [
       "<Figure size 432x288 with 1 Axes>"
      ]
     },
     "metadata": {
      "needs_background": "light"
     },
     "output_type": "display_data"
    },
    {
     "name": "stdout",
     "output_type": "stream",
     "text": [
      "----------------------------------------------------------------------------------------------------\n",
      "~~~~~~~~~~~~~~~~~~~~~~~~~~~~~~~~~~~~~~~~~~~~~~~~~~~~~~~~~~~~~~~~~~~~~~~~~~~~~~~~~~~~~~~~~~~~~~~~~~~~\n",
      "----------------------------------------------------------------------------------------------------\n",
      "NUM_TL_OP_PAST_12M\n",
      "\n",
      "Первые пять строк:\n",
      "index\n",
      "0    0.454769\n",
      "1   -1.163409\n",
      "2   -1.163409\n",
      "3    0.994161\n",
      "4   -1.163409\n",
      "Name: num_tl_op_past_12m, dtype: float32\n",
      "----------------------------------------------------------------------------------------------------\n",
      "Описательная статистика:\n",
      "count    1.154852e+06\n",
      "mean    -1.363056e-06\n",
      "std      9.993154e-01\n",
      "min     -1.163409e+00\n",
      "25%     -6.240166e-01\n",
      "50%     -8.462402e-02\n",
      "75%      4.547685e-01\n",
      "max      1.609715e+01\n",
      "Name: num_tl_op_past_12m, dtype: float64\n",
      "----------------------------------------------------------------------------------------------------\n",
      "Количество уникальных значений:\n",
      "-0.624017     287845\n",
      "-0.084624     259067\n",
      "-1.163409     201656\n",
      " 0.454769     184325\n",
      " 0.994161     108815\n",
      " 1.533554      54414\n",
      " 2.072946      26999\n",
      " 2.612339      14650\n",
      " 3.151731       7554\n",
      " 3.691124       4135\n",
      " 4.230516       2245\n",
      " 4.769909       1219\n",
      " 5.309302        742\n",
      " 5.848694        429\n",
      " 6.388087        279\n",
      " 6.927479        157\n",
      " 7.466872        124\n",
      " 8.006265         72\n",
      " 8.545657         30\n",
      " 9.085050         23\n",
      " 9.624442         23\n",
      " 10.163835        15\n",
      " 11.242620         8\n",
      " 12.321405         6\n",
      " 10.703227         6\n",
      " 13.939583         4\n",
      " 11.782012         3\n",
      " 12.860798         3\n",
      " 14.478975         1\n",
      " 16.097153         1\n",
      " 15.557760         1\n",
      " 15.018368         1\n",
      "Name: num_tl_op_past_12m, dtype: int64\n",
      "----------------------------------------------------------------------------------------------------\n",
      "Количество пропусков:\n",
      "44972\n",
      "----------------------------------------------------------------------------------------------------\n"
     ]
    },
    {
     "data": {
      "image/png": "[encoded data removed]",
      "text/plain": [
       "<Figure size 432x288 with 1 Axes>"
      ]
     },
     "metadata": {
      "needs_background": "light"
     },
     "output_type": "display_data"
    },
    {
     "name": "stdout",
     "output_type": "stream",
     "text": [
      "----------------------------------------------------------------------------------------------------\n",
      "~~~~~~~~~~~~~~~~~~~~~~~~~~~~~~~~~~~~~~~~~~~~~~~~~~~~~~~~~~~~~~~~~~~~~~~~~~~~~~~~~~~~~~~~~~~~~~~~~~~~\n",
      "----------------------------------------------------------------------------------------------------\n",
      "OPEN_ACC\n",
      "\n",
      "Первые пять строк:\n",
      "index\n",
      "0    0.426901\n",
      "1   -1.187522\n",
      "2   -0.828761\n",
      "3    1.323804\n",
      "4   -1.366903\n",
      "Name: open_acc, dtype: float32\n",
      "----------------------------------------------------------------------------------------------------\n",
      "Описательная статистика:\n",
      "count    1.199824e+06\n",
      "mean    -3.327773e-07\n",
      "std      9.994427e-01\n",
      "min     -2.084424e+00\n",
      "25%     -6.493810e-01\n",
      "50%     -1.112398e-01\n",
      "75%      4.269015e-01\n",
      "max      1.405981e+01\n",
      "Name: open_acc, dtype: float64\n",
      "----------------------------------------------------------------------------------------------------\n",
      "Количество уникальных значений:\n",
      "-0.470001     105173\n",
      "-0.290620     101920\n",
      "-0.649381     101380\n",
      "-0.111240      94237\n",
      "-0.828761      91777\n",
      "               ...  \n",
      " 10.472205         1\n",
      " 11.727868         1\n",
      " 10.651586         1\n",
      " 14.059813         1\n",
      " 13.701053         1\n",
      "Name: open_acc, Length: 83, dtype: int64\n",
      "----------------------------------------------------------------------------------------------------\n",
      "Количество пропусков:\n",
      "0\n",
      "----------------------------------------------------------------------------------------------------\n"
     ]
    },
    {
     "data": {
      "image/png": "[encoded data removed]",
      "text/plain": [
       "<Figure size 432x288 with 1 Axes>"
      ]
     },
     "metadata": {
      "needs_background": "light"
     },
     "output_type": "display_data"
    },
    {
     "name": "stdout",
     "output_type": "stream",
     "text": [
      "----------------------------------------------------------------------------------------------------\n",
      "~~~~~~~~~~~~~~~~~~~~~~~~~~~~~~~~~~~~~~~~~~~~~~~~~~~~~~~~~~~~~~~~~~~~~~~~~~~~~~~~~~~~~~~~~~~~~~~~~~~~\n",
      "----------------------------------------------------------------------------------------------------\n",
      "OPEN_IL_24M\n",
      "\n",
      "Первые пять строк:\n",
      "index\n",
      "0    0.196454\n",
      "1   -1.021726\n",
      "2   -1.021726\n",
      "3         NaN\n",
      "4    0.805544\n",
      "Name: open_il_24m, dtype: float32\n",
      "----------------------------------------------------------------------------------------------------\n",
      "Описательная статистика:\n",
      "count    632647.000000\n",
      "mean         -0.000001\n",
      "std           0.999474\n",
      "min          -1.021726\n",
      "25%          -0.412636\n",
      "50%          -0.412636\n",
      "75%           0.196454\n",
      "max          22.732780\n",
      "Name: open_il_24m, dtype: float64\n",
      "----------------------------------------------------------------------------------------------------\n",
      "Количество уникальных значений:\n",
      "-0.412636     195526\n",
      "-1.021726     155476\n",
      " 0.196454     133866\n",
      " 0.805544      72723\n",
      " 1.414634      36846\n",
      " 2.023724      18818\n",
      " 2.632813       9270\n",
      " 3.241903       4769\n",
      " 3.850993       2520\n",
      " 4.460083       1247\n",
      " 5.069173        720\n",
      " 5.678263        378\n",
      " 6.287353        219\n",
      " 6.896443        122\n",
      " 7.505533         62\n",
      " 8.114622         25\n",
      " 8.723712         18\n",
      " 9.332802         10\n",
      " 11.160072         7\n",
      " 9.941892          7\n",
      " 10.550982         7\n",
      " 14.814611         3\n",
      " 12.378252         2\n",
      " 12.987342         2\n",
      " 17.860060         1\n",
      " 13.596432         1\n",
      " 22.732780         1\n",
      " 11.769162         1\n",
      "Name: open_il_24m, dtype: int64\n",
      "----------------------------------------------------------------------------------------------------\n",
      "Количество пропусков:\n",
      "567177\n",
      "----------------------------------------------------------------------------------------------------\n"
     ]
    },
    {
     "data": {
      "image/png": "[encoded data removed]",
      "text/plain": [
       "<Figure size 432x288 with 1 Axes>"
      ]
     },
     "metadata": {
      "needs_background": "light"
     },
     "output_type": "display_data"
    },
    {
     "name": "stdout",
     "output_type": "stream",
     "text": [
      "----------------------------------------------------------------------------------------------------\n",
      "~~~~~~~~~~~~~~~~~~~~~~~~~~~~~~~~~~~~~~~~~~~~~~~~~~~~~~~~~~~~~~~~~~~~~~~~~~~~~~~~~~~~~~~~~~~~~~~~~~~~\n",
      "----------------------------------------------------------------------------------------------------\n",
      "OPEN_RV_24M\n",
      "\n",
      "Первые пять строк:\n",
      "index\n",
      "0    0.037740\n",
      "1   -0.712027\n",
      "2    0.037740\n",
      "3         NaN\n",
      "4   -0.712027\n",
      "Name: open_rv_24m, dtype: float32\n",
      "----------------------------------------------------------------------------------------------------\n",
      "Описательная статистика:\n",
      "count    632647.000000\n",
      "mean         -0.000004\n",
      "std           1.000378\n",
      "min          -1.086911\n",
      "25%          -0.712027\n",
      "50%          -0.337143\n",
      "75%           0.412624\n",
      "max          19.156807\n",
      "Name: open_rv_24m, dtype: float64\n",
      "----------------------------------------------------------------------------------------------------\n",
      "Количество уникальных значений:\n",
      "-0.712027     128900\n",
      "-0.337143     120478\n",
      " 0.037740      93807\n",
      "-1.086911      91678\n",
      " 0.412624      66371\n",
      " 0.787508      45160\n",
      " 1.162391      29431\n",
      " 1.537275      19642\n",
      " 1.912159      12453\n",
      " 2.287042       8149\n",
      " 2.661926       5352\n",
      " 3.036809       3545\n",
      " 3.411693       2241\n",
      " 3.786577       1651\n",
      " 4.161460       1156\n",
      " 4.536344        656\n",
      " 4.911228        543\n",
      " 5.286111        383\n",
      " 5.660995        269\n",
      " 6.035879        197\n",
      " 6.410762        127\n",
      " 6.785646        104\n",
      " 7.160530         81\n",
      " 7.910297         53\n",
      " 7.535413         41\n",
      " 8.285181         38\n",
      " 8.660065         25\n",
      " 9.034948         23\n",
      " 9.409832         21\n",
      " 9.784715         14\n",
      " 10.159598        13\n",
      " 10.534482         8\n",
      " 10.909366         6\n",
      " 12.783784         5\n",
      " 11.284249         3\n",
      " 11.659133         3\n",
      " 13.158668         3\n",
      " 12.034017         3\n",
      " 12.408900         3\n",
      " 15.782853         3\n",
      " 14.658202         2\n",
      " 13.533551         2\n",
      " 13.908435         1\n",
      " 18.781923         1\n",
      " 19.156807         1\n",
      " 15.407969         1\n",
      "Name: open_rv_24m, dtype: int64\n",
      "----------------------------------------------------------------------------------------------------\n",
      "Количество пропусков:\n",
      "567177\n",
      "----------------------------------------------------------------------------------------------------\n"
     ]
    },
    {
     "data": {
      "image/png": "[encoded data removed]",
      "text/plain": [
       "<Figure size 432x288 with 1 Axes>"
      ]
     },
     "metadata": {
      "needs_background": "light"
     },
     "output_type": "display_data"
    },
    {
     "name": "stdout",
     "output_type": "stream",
     "text": [
      "----------------------------------------------------------------------------------------------------\n",
      "~~~~~~~~~~~~~~~~~~~~~~~~~~~~~~~~~~~~~~~~~~~~~~~~~~~~~~~~~~~~~~~~~~~~~~~~~~~~~~~~~~~~~~~~~~~~~~~~~~~~\n",
      "----------------------------------------------------------------------------------------------------\n",
      "PERCENT_BC_GT_75\n",
      "\n",
      "Первые пять строк:\n",
      "index\n",
      "0    1.605195\n",
      "1    1.605195\n",
      "2   -1.142958\n",
      "3   -1.142958\n",
      "4    1.605195\n",
      "Name: percent_bc_gt_75, dtype: float32\n",
      "----------------------------------------------------------------------------------------------------\n",
      "Описательная статистика:\n",
      "count    1.199824e+06\n",
      "mean     2.695848e-06\n",
      "std      9.994583e-01\n",
      "min     -1.142958e+00\n",
      "25%     -1.142958e+00\n",
      "50%     -2.278227e-01\n",
      "75%      7.807494e-01\n",
      "max      1.605195e+00\n",
      "Name: percent_bc_gt_75, dtype: float64\n",
      "----------------------------------------------------------------------------------------------------\n",
      "Количество уникальных значений:\n",
      "-1.142958    349565\n",
      " 1.605195    200288\n",
      " 0.231119    124895\n",
      "-0.227823     78966\n",
      " 0.690060     73174\n",
      "              ...  \n",
      " 0.088215         1\n",
      " 0.178904         1\n",
      "-0.134385         1\n",
      "-1.082498         1\n",
      " 0.951135         1\n",
      "Name: percent_bc_gt_75, Length: 251, dtype: int64\n",
      "----------------------------------------------------------------------------------------------------\n",
      "Количество пропусков:\n",
      "0\n",
      "----------------------------------------------------------------------------------------------------\n"
     ]
    },
    {
     "data": {
      "image/png": "[encoded data removed]",
      "text/plain": [
       "<Figure size 432x288 with 1 Axes>"
      ]
     },
     "metadata": {
      "needs_background": "light"
     },
     "output_type": "display_data"
    },
    {
     "name": "stdout",
     "output_type": "stream",
     "text": [
      "----------------------------------------------------------------------------------------------------\n",
      "~~~~~~~~~~~~~~~~~~~~~~~~~~~~~~~~~~~~~~~~~~~~~~~~~~~~~~~~~~~~~~~~~~~~~~~~~~~~~~~~~~~~~~~~~~~~~~~~~~~~\n",
      "----------------------------------------------------------------------------------------------------\n",
      "PUB_REC\n",
      "\n",
      "Первые пять строк:\n",
      "index\n",
      "0    1.337271\n",
      "1    1.337271\n",
      "2   -0.354918\n",
      "3   -0.354918\n",
      "4   -0.354918\n",
      "Name: pub_rec, dtype: float32\n",
      "----------------------------------------------------------------------------------------------------\n",
      "Описательная статистика:\n",
      "count    1.199824e+06\n",
      "mean    -5.116673e-07\n",
      "std      9.997949e-01\n",
      "min     -3.549184e-01\n",
      "25%     -3.549184e-01\n",
      "50%     -3.549184e-01\n",
      "75%     -3.549184e-01\n",
      "max      1.451734e+02\n",
      "Name: pub_rec, dtype: float64\n",
      "----------------------------------------------------------------------------------------------------\n",
      "Количество уникальных значений:\n",
      "-0.354918      1000690\n",
      " 1.337271       167886\n",
      " 3.029461        20400\n",
      " 4.721651         6271\n",
      " 6.413841         2281\n",
      " 8.106030         1091\n",
      " 9.798221          549\n",
      " 11.490411         257\n",
      " 13.182601         140\n",
      " 14.874790          79\n",
      " 16.566980          52\n",
      " 18.259171          39\n",
      " 19.951361          22\n",
      " 21.643549          14\n",
      " 25.027929           8\n",
      " 23.335739           7\n",
      " 35.181068           5\n",
      " 47.026398           4\n",
      " 31.796688           4\n",
      " 30.104500           3\n",
      " 36.873257           3\n",
      " 26.720119           3\n",
      " 33.488880           2\n",
      " 28.412310           2\n",
      " 40.257637           2\n",
      " 41.949829           1\n",
      " 52.102966           1\n",
      " 145.173416          1\n",
      " 62.256107           1\n",
      " 79.178001           1\n",
      " 82.562386           1\n",
      " 53.795158           1\n",
      " 67.332680           1\n",
      " 74.101433           1\n",
      " 102.868660          1\n",
      "Name: pub_rec, dtype: int64\n",
      "----------------------------------------------------------------------------------------------------\n",
      "Количество пропусков:\n",
      "0\n",
      "----------------------------------------------------------------------------------------------------\n"
     ]
    },
    {
     "data": {
      "image/png": "[encoded data removed]",
      "text/plain": [
       "<Figure size 432x288 with 1 Axes>"
      ]
     },
     "metadata": {
      "needs_background": "light"
     },
     "output_type": "display_data"
    },
    {
     "name": "stdout",
     "output_type": "stream",
     "text": [
      "----------------------------------------------------------------------------------------------------\n",
      "~~~~~~~~~~~~~~~~~~~~~~~~~~~~~~~~~~~~~~~~~~~~~~~~~~~~~~~~~~~~~~~~~~~~~~~~~~~~~~~~~~~~~~~~~~~~~~~~~~~~\n",
      "----------------------------------------------------------------------------------------------------\n",
      "PUB_REC_BANKRUPTCIES\n",
      "\n",
      "Первые пять строк:\n",
      "index\n",
      "0    2.323947\n",
      "1    2.323947\n",
      "2   -0.355332\n",
      "3   -0.355332\n",
      "4   -0.355332\n",
      "Name: pub_rec_bankruptcies, dtype: float32\n",
      "----------------------------------------------------------------------------------------------------\n",
      "Описательная статистика:\n",
      "count    1.199392e+06\n",
      "mean    -6.268197e-06\n",
      "std      9.987419e-01\n",
      "min     -3.553318e-01\n",
      "25%     -3.553318e-01\n",
      "50%     -3.553318e-01\n",
      "75%     -3.553318e-01\n",
      "max      3.179601e+01\n",
      "Name: pub_rec_bankruptcies, dtype: float64\n",
      "----------------------------------------------------------------------------------------------------\n",
      "Количество уникальных значений:\n",
      "-0.355332     1051100\n",
      " 2.323947      140093\n",
      " 5.003226        6404\n",
      " 7.682505        1286\n",
      " 10.361784        330\n",
      " 13.041062        123\n",
      " 15.720342         35\n",
      " 18.399620         12\n",
      " 21.078899          6\n",
      " 23.758179          2\n",
      " 31.796015          1\n",
      "Name: pub_rec_bankruptcies, dtype: int64\n",
      "----------------------------------------------------------------------------------------------------\n",
      "Количество пропусков:\n",
      "432\n",
      "----------------------------------------------------------------------------------------------------\n"
     ]
    },
    {
     "data": {
      "image/png": "[encoded data removed]",
      "text/plain": [
       "<Figure size 432x288 with 1 Axes>"
      ]
     },
     "metadata": {
      "needs_background": "light"
     },
     "output_type": "display_data"
    },
    {
     "name": "stdout",
     "output_type": "stream",
     "text": [
      "----------------------------------------------------------------------------------------------------\n",
      "~~~~~~~~~~~~~~~~~~~~~~~~~~~~~~~~~~~~~~~~~~~~~~~~~~~~~~~~~~~~~~~~~~~~~~~~~~~~~~~~~~~~~~~~~~~~~~~~~~~~\n",
      "----------------------------------------------------------------------------------------------------\n",
      "PURPOSE\n",
      "\n",
      "Первые пять строк:\n",
      "index\n",
      "0    1.0\n",
      "1    1.0\n",
      "2    1.0\n",
      "3    0.0\n",
      "4    9.0\n",
      "Name: purpose, dtype: float32\n",
      "----------------------------------------------------------------------------------------------------\n",
      "Описательная статистика:\n",
      "count    1.199824e+06\n",
      "mean     2.715613e+00\n",
      "std      2.410214e+00\n",
      "min      0.000000e+00\n",
      "25%      2.000000e+00\n",
      "50%      2.000000e+00\n",
      "75%      2.000000e+00\n",
      "max      1.300000e+01\n",
      "Name: purpose, dtype: float64\n",
      "----------------------------------------------------------------------------------------------------\n",
      "Количество уникальных значений:\n",
      "2.0     684517\n",
      "1.0     268411\n",
      "4.0      78964\n",
      "9.0      73214\n",
      "6.0      26885\n",
      "7.0      14327\n",
      "11.0     13458\n",
      "0.0      13213\n",
      "12.0      8684\n",
      "8.0       8422\n",
      "5.0       7142\n",
      "13.0      1555\n",
      "10.0       827\n",
      "3.0        205\n",
      "Name: purpose, dtype: int64\n",
      "----------------------------------------------------------------------------------------------------\n",
      "Количество пропусков:\n",
      "0\n",
      "----------------------------------------------------------------------------------------------------\n"
     ]
    },
    {
     "data": {
      "image/png": "[encoded data removed]",
      "text/plain": [
       "<Figure size 432x288 with 1 Axes>"
      ]
     },
     "metadata": {
      "needs_background": "light"
     },
     "output_type": "display_data"
    },
    {
     "name": "stdout",
     "output_type": "stream",
     "text": [
      "----------------------------------------------------------------------------------------------------\n",
      "~~~~~~~~~~~~~~~~~~~~~~~~~~~~~~~~~~~~~~~~~~~~~~~~~~~~~~~~~~~~~~~~~~~~~~~~~~~~~~~~~~~~~~~~~~~~~~~~~~~~\n",
      "----------------------------------------------------------------------------------------------------\n",
      "REVOL_UTIL\n",
      "\n",
      "Первые пять строк:\n",
      "index\n",
      "0    0.221672\n",
      "1    1.524573\n",
      "2   -1.315912\n",
      "3   -0.696832\n",
      "4    1.536712\n",
      "Name: revol_util, dtype: float32\n",
      "----------------------------------------------------------------------------------------------------\n",
      "Описательная статистика:\n",
      "count    1.199824e+06\n",
      "mean     4.542724e-08\n",
      "std      9.997354e-01\n",
      "min     -2.048288e+00\n",
      "25%     -7.575263e-01\n",
      "50%      3.173413e-03\n",
      "75%      7.719657e-01\n",
      "max      3.405663e+01\n",
      "Name: revol_util, dtype: float64\n",
      "----------------------------------------------------------------------------------------------------\n",
      "Количество уникальных значений:\n",
      "-2.048288    6611\n",
      " 0.003173    2503\n",
      " 0.258089    2356\n",
      "-0.106076    2342\n",
      " 0.298552    2318\n",
      "             ... \n",
      " 2.770826       1\n",
      " 2.540188       1\n",
      " 2.867936       1\n",
      " 3.863320       1\n",
      " 4.195115       1\n",
      "Name: revol_util, Length: 1316, dtype: int64\n",
      "----------------------------------------------------------------------------------------------------\n",
      "Количество пропусков:\n",
      "0\n",
      "----------------------------------------------------------------------------------------------------\n"
     ]
    },
    {
     "data": {
      "image/png": "[encoded data removed]",
      "text/plain": [
       "<Figure size 432x288 with 1 Axes>"
      ]
     },
     "metadata": {
      "needs_background": "light"
     },
     "output_type": "display_data"
    },
    {
     "name": "stdout",
     "output_type": "stream",
     "text": [
      "----------------------------------------------------------------------------------------------------\n",
      "~~~~~~~~~~~~~~~~~~~~~~~~~~~~~~~~~~~~~~~~~~~~~~~~~~~~~~~~~~~~~~~~~~~~~~~~~~~~~~~~~~~~~~~~~~~~~~~~~~~~\n",
      "----------------------------------------------------------------------------------------------------\n",
      "TAX_LIENS\n",
      "\n",
      "Первые пять строк:\n",
      "index\n",
      "0   -0.129437\n",
      "1   -0.129437\n",
      "2   -0.129437\n",
      "3   -0.129437\n",
      "4   -0.129437\n",
      "Name: tax_liens, dtype: float32\n",
      "----------------------------------------------------------------------------------------------------\n",
      "Описательная статистика:\n",
      "count    1.199824e+06\n",
      "mean    -9.698764e-07\n",
      "std      9.969527e-01\n",
      "min     -1.294374e-01\n",
      "25%     -1.294374e-01\n",
      "50%     -1.294374e-01\n",
      "75%     -1.294374e-01\n",
      "max      2.170370e+02\n",
      "Name: tax_liens, dtype: float64\n",
      "----------------------------------------------------------------------------------------------------\n",
      "Количество уникальных значений:\n",
      "-0.129437      1162613\n",
      " 2.425461        25221\n",
      " 4.980360         6918\n",
      " 7.535259         2535\n",
      " 10.090158        1170\n",
      " 12.645057         610\n",
      " 15.199955         311\n",
      " 17.754854         154\n",
      " 20.309753          89\n",
      " 22.864651          56\n",
      " 25.419550          43\n",
      " 27.974449          29\n",
      " 30.529348          18\n",
      " 33.084248           7\n",
      " 38.194042           7\n",
      " 35.639145           7\n",
      " 53.523438           5\n",
      " 43.303841           4\n",
      " 45.858742           4\n",
      " 50.968536           3\n",
      " 68.852829           3\n",
      " 40.748943           2\n",
      " 56.078335           2\n",
      " 48.413639           1\n",
      " 112.286110          1\n",
      " 58.633232           1\n",
      " 117.395905          1\n",
      " 99.511612           1\n",
      " 73.962624           1\n",
      " 122.505699          1\n",
      " 61.188133           1\n",
      " 94.401817           1\n",
      " 71.407730           1\n",
      " 217.036957          1\n",
      " 76.517525           1\n",
      " 155.719391          1\n",
      "Name: tax_liens, dtype: int64\n",
      "----------------------------------------------------------------------------------------------------\n",
      "Количество пропусков:\n",
      "0\n",
      "----------------------------------------------------------------------------------------------------\n"
     ]
    },
    {
     "data": {
      "image/png": "[encoded data removed]",
      "text/plain": [
       "<Figure size 432x288 with 1 Axes>"
      ]
     },
     "metadata": {
      "needs_background": "light"
     },
     "output_type": "display_data"
    },
    {
     "name": "stdout",
     "output_type": "stream",
     "text": [
      "----------------------------------------------------------------------------------------------------\n",
      "~~~~~~~~~~~~~~~~~~~~~~~~~~~~~~~~~~~~~~~~~~~~~~~~~~~~~~~~~~~~~~~~~~~~~~~~~~~~~~~~~~~~~~~~~~~~~~~~~~~~\n",
      "----------------------------------------------------------------------------------------------------\n",
      "TERM\n",
      "\n",
      "Первые пять строк:\n",
      "index\n",
      "0    36.0\n",
      "1    36.0\n",
      "2    36.0\n",
      "3    36.0\n",
      "4    60.0\n",
      "Name: term, dtype: float32\n",
      "----------------------------------------------------------------------------------------------------\n",
      "Описательная статистика:\n",
      "count    1.199824e+06\n",
      "mean     4.192411e+01\n",
      "std      1.031624e+01\n",
      "min      3.600000e+01\n",
      "25%      3.600000e+01\n",
      "50%      3.600000e+01\n",
      "75%      3.600000e+01\n",
      "max      6.000000e+01\n",
      "Name: term, dtype: float64\n",
      "----------------------------------------------------------------------------------------------------\n",
      "Количество уникальных значений:\n",
      "36.0    903662\n",
      "60.0    296162\n",
      "Name: term, dtype: int64\n",
      "----------------------------------------------------------------------------------------------------\n",
      "Количество пропусков:\n",
      "0\n",
      "----------------------------------------------------------------------------------------------------\n"
     ]
    },
    {
     "data": {
      "image/png": "[encoded data removed]",
      "text/plain": [
       "<Figure size 432x288 with 1 Axes>"
      ]
     },
     "metadata": {
      "needs_background": "light"
     },
     "output_type": "display_data"
    },
    {
     "name": "stdout",
     "output_type": "stream",
     "text": [
      "----------------------------------------------------------------------------------------------------\n",
      "~~~~~~~~~~~~~~~~~~~~~~~~~~~~~~~~~~~~~~~~~~~~~~~~~~~~~~~~~~~~~~~~~~~~~~~~~~~~~~~~~~~~~~~~~~~~~~~~~~~~\n",
      "----------------------------------------------------------------------------------------------------\n",
      "TOTAL_ACC\n",
      "\n",
      "Первые пять строк:\n",
      "index\n",
      "0    0.112631\n",
      "1   -1.131950\n",
      "2    0.527492\n",
      "3   -0.053313\n",
      "4   -0.717090\n",
      "Name: total_acc, dtype: float32\n",
      "----------------------------------------------------------------------------------------------------\n",
      "Описательная статистика:\n",
      "count    1.199824e+06\n",
      "mean     1.968444e-08\n",
      "std      9.990168e-01\n",
      "min     -1.878699e+00\n",
      "25%     -7.170895e-01\n",
      "50%     -1.362849e-01\n",
      "75%      5.274919e-01\n",
      "max      1.230953e+01\n",
      "Name: total_acc, dtype: float64\n",
      "----------------------------------------------------------------------------------------------------\n",
      "Количество уникальных значений:\n",
      "-0.385201     43733\n",
      "-0.302229     43191\n",
      "-0.468173     43069\n",
      "-0.551145     42875\n",
      "-0.219257     42416\n",
      "              ...  \n",
      " 12.309529        1\n",
      " 9.654422         1\n",
      " 9.156590         1\n",
      " 10.981976        1\n",
      " 7.663092         1\n",
      "Name: total_acc, Length: 142, dtype: int64\n",
      "----------------------------------------------------------------------------------------------------\n",
      "Количество пропусков:\n",
      "0\n",
      "----------------------------------------------------------------------------------------------------\n"
     ]
    },
    {
     "data": {
      "image/png": "[encoded data removed]",
      "text/plain": [
       "<Figure size 432x288 with 1 Axes>"
      ]
     },
     "metadata": {
      "needs_background": "light"
     },
     "output_type": "display_data"
    },
    {
     "name": "stdout",
     "output_type": "stream",
     "text": [
      "----------------------------------------------------------------------------------------------------\n",
      "~~~~~~~~~~~~~~~~~~~~~~~~~~~~~~~~~~~~~~~~~~~~~~~~~~~~~~~~~~~~~~~~~~~~~~~~~~~~~~~~~~~~~~~~~~~~~~~~~~~~\n",
      "----------------------------------------------------------------------------------------------------\n",
      "VERIFICATION_STATUS\n",
      "\n",
      "Первые пять строк:\n",
      "index\n",
      "0    1.0\n",
      "1    0.0\n",
      "2    1.0\n",
      "3    1.0\n",
      "4    0.0\n",
      "Name: verification_status, dtype: float32\n",
      "----------------------------------------------------------------------------------------------------\n",
      "Описательная статистика:\n",
      "count    1.199824e+06\n",
      "mean     6.857072e-01\n",
      "std      4.624159e-01\n",
      "min      0.000000e+00\n",
      "25%      0.000000e+00\n",
      "50%      1.000000e+00\n",
      "75%      1.000000e+00\n",
      "max      1.000000e+00\n",
      "Name: verification_status, dtype: float64\n",
      "----------------------------------------------------------------------------------------------------\n",
      "Количество уникальных значений:\n",
      "1.0    822728\n",
      "0.0    377096\n",
      "Name: verification_status, dtype: int64\n",
      "----------------------------------------------------------------------------------------------------\n",
      "Количество пропусков:\n",
      "0\n",
      "----------------------------------------------------------------------------------------------------\n"
     ]
    },
    {
     "data": {
      "image/png": "[encoded data removed]",
      "text/plain": [
       "<Figure size 432x288 with 1 Axes>"
      ]
     },
     "metadata": {
      "needs_background": "light"
     },
     "output_type": "display_data"
    },
    {
     "name": "stdout",
     "output_type": "stream",
     "text": [
      "----------------------------------------------------------------------------------------------------\n",
      "~~~~~~~~~~~~~~~~~~~~~~~~~~~~~~~~~~~~~~~~~~~~~~~~~~~~~~~~~~~~~~~~~~~~~~~~~~~~~~~~~~~~~~~~~~~~~~~~~~~~\n",
      "----------------------------------------------------------------------------------------------------\n",
      "TIME_IN\n",
      "\n",
      "Первые пять строк:\n",
      "index\n",
      "0    0.377360\n",
      "1    0.839393\n",
      "2   -0.148864\n",
      "3   -1.329693\n",
      "4   -0.299112\n",
      "Name: time_in, dtype: float32\n",
      "----------------------------------------------------------------------------------------------------\n",
      "Описательная статистика:\n",
      "count    1.199824e+06\n",
      "mean     1.410314e-07\n",
      "std      9.997519e-01\n",
      "min     -2.703800e+00\n",
      "25%     -6.856682e-01\n",
      "50%     -1.703780e-01\n",
      "75%      5.170283e-01\n",
      "max      8.568747e+00\n",
      "Name: time_in, dtype: float64\n",
      "----------------------------------------------------------------------------------------------------\n",
      "Количество уникальных значений:\n",
      "-0.513552    8114\n",
      "-0.642639    8056\n",
      "-0.245150    7923\n",
      "-0.373884    7826\n",
      "-0.502619    7741\n",
      "             ... \n",
      "-2.242472       1\n",
      " 5.390594       1\n",
      " 5.401528       1\n",
      " 6.078001       1\n",
      " 5.100677       1\n",
      "Name: time_in, Length: 749, dtype: int64\n",
      "----------------------------------------------------------------------------------------------------\n",
      "Количество пропусков:\n",
      "0\n",
      "----------------------------------------------------------------------------------------------------\n"
     ]
    },
    {
     "data": {
      "image/png": "[encoded data removed]",
      "text/plain": [
       "<Figure size 432x288 with 1 Axes>"
      ]
     },
     "metadata": {
      "needs_background": "light"
     },
     "output_type": "display_data"
    },
    {
     "name": "stdout",
     "output_type": "stream",
     "text": [
      "----------------------------------------------------------------------------------------------------\n",
      "~~~~~~~~~~~~~~~~~~~~~~~~~~~~~~~~~~~~~~~~~~~~~~~~~~~~~~~~~~~~~~~~~~~~~~~~~~~~~~~~~~~~~~~~~~~~~~~~~~~~\n"
     ]
    }
   ],
   "source": [
    "for _ in X_test.columns:\n",
    "    feat_info(X_train, _)"
   ]
  },
  {
   "cell_type": "code",
   "execution_count": 112,
   "id": "32846d3e",
   "metadata": {},
   "outputs": [],
   "source": [
    "result = pd.DataFrame({'loan_status' : best_model_lgbm.predict_proba(X_test)[:,1]})\n",
    "result.to_csv('data/answer.csv', index_label='index')"
   ]
  },
  {
   "cell_type": "code",
   "execution_count": 113,
   "id": "7255a96a",
   "metadata": {},
   "outputs": [
    {
     "data": {
      "text/html": [
       "<div>\n",
       "<style scoped>\n",
       "    .dataframe tbody tr th:only-of-type {\n",
       "        vertical-align: middle;\n",
       "    }\n",
       "\n",
       "    .dataframe tbody tr th {\n",
       "        vertical-align: top;\n",
       "    }\n",
       "\n",
       "    .dataframe thead th {\n",
       "        text-align: right;\n",
       "    }\n",
       "</style>\n",
       "<table border=\"1\" class=\"dataframe\">\n",
       "  <thead>\n",
       "    <tr style=\"text-align: right;\">\n",
       "      <th></th>\n",
       "      <th>index</th>\n",
       "      <th>loan_status</th>\n",
       "    </tr>\n",
       "  </thead>\n",
       "  <tbody>\n",
       "    <tr>\n",
       "      <th>0</th>\n",
       "      <td>0</td>\n",
       "      <td>0.823837</td>\n",
       "    </tr>\n",
       "    <tr>\n",
       "      <th>1</th>\n",
       "      <td>1</td>\n",
       "      <td>0.592017</td>\n",
       "    </tr>\n",
       "    <tr>\n",
       "      <th>2</th>\n",
       "      <td>2</td>\n",
       "      <td>0.431488</td>\n",
       "    </tr>\n",
       "    <tr>\n",
       "      <th>3</th>\n",
       "      <td>3</td>\n",
       "      <td>0.129936</td>\n",
       "    </tr>\n",
       "    <tr>\n",
       "      <th>4</th>\n",
       "      <td>4</td>\n",
       "      <td>0.259928</td>\n",
       "    </tr>\n",
       "    <tr>\n",
       "      <th>...</th>\n",
       "      <td>...</td>\n",
       "      <td>...</td>\n",
       "    </tr>\n",
       "    <tr>\n",
       "      <th>590972</th>\n",
       "      <td>590972</td>\n",
       "      <td>0.301993</td>\n",
       "    </tr>\n",
       "    <tr>\n",
       "      <th>590973</th>\n",
       "      <td>590973</td>\n",
       "      <td>0.522739</td>\n",
       "    </tr>\n",
       "    <tr>\n",
       "      <th>590974</th>\n",
       "      <td>590974</td>\n",
       "      <td>0.596293</td>\n",
       "    </tr>\n",
       "    <tr>\n",
       "      <th>590975</th>\n",
       "      <td>590975</td>\n",
       "      <td>0.189912</td>\n",
       "    </tr>\n",
       "    <tr>\n",
       "      <th>590976</th>\n",
       "      <td>590976</td>\n",
       "      <td>0.542003</td>\n",
       "    </tr>\n",
       "  </tbody>\n",
       "</table>\n",
       "<p>590977 rows × 2 columns</p>\n",
       "</div>"
      ],
      "text/plain": [
       "         index  loan_status\n",
       "0            0     0.823837\n",
       "1            1     0.592017\n",
       "2            2     0.431488\n",
       "3            3     0.129936\n",
       "4            4     0.259928\n",
       "...        ...          ...\n",
       "590972  590972     0.301993\n",
       "590973  590973     0.522739\n",
       "590974  590974     0.596293\n",
       "590975  590975     0.189912\n",
       "590976  590976     0.542003\n",
       "\n",
       "[590977 rows x 2 columns]"
      ]
     },
     "execution_count": 113,
     "metadata": {},
     "output_type": "execute_result"
    }
   ],
   "source": [
    "a = pd.read_csv('data/answer.csv')\n",
    "a"
   ]
  },
  {
   "cell_type": "code",
   "execution_count": null,
   "id": "525e86bb",
   "metadata": {},
   "outputs": [],
   "source": []
  }
 ],
 "metadata": {
  "kernelspec": {
   "display_name": "Python 3 (ipykernel)",
   "language": "python",
   "name": "python3"
  },
  "language_info": {
   "codemirror_mode": {
    "name": "ipython",
    "version": 3
   },
   "file_extension": ".py",
   "mimetype": "text/x-python",
   "name": "python",
   "nbconvert_exporter": "python",
   "pygments_lexer": "ipython3",
   "version": "3.9.7"
  }
 },
 "nbformat": 4,
 "nbformat_minor": 5
}
